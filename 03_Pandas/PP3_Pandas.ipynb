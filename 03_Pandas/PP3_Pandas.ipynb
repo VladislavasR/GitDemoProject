{
  "cells": [
    {
      "cell_type": "markdown",
      "metadata": {
        "id": "view-in-github",
        "colab_type": "text"
      },
      "source": [
        "<a href=\"https://colab.research.google.com/github/VladislavasR/GitDemoProject/blob/master/03_Pandas/PP3_Pandas.ipynb\" target=\"_parent\"><img src=\"https://colab.research.google.com/assets/colab-badge.svg\" alt=\"Open In Colab\"/></a>"
      ]
    },
    {
      "cell_type": "markdown",
      "id": "b338ff2e",
      "metadata": {
        "id": "b338ff2e"
      },
      "source": [
        "# PP3: Pandas"
      ]
    },
    {
      "cell_type": "markdown",
      "id": "5a41f4ff",
      "metadata": {
        "id": "5a41f4ff"
      },
      "source": [
        "## Section 1: Getting and knowing your data"
      ]
    },
    {
      "cell_type": "markdown",
      "id": "cb63ad82",
      "metadata": {
        "id": "cb63ad82"
      },
      "source": [
        "### Step 1. Import the necessary libraries"
      ]
    },
    {
      "cell_type": "code",
      "execution_count": null,
      "id": "1a771838",
      "metadata": {
        "id": "1a771838"
      },
      "outputs": [],
      "source": [
        "import pandas as pd\n",
        "import numpy as np"
      ]
    },
    {
      "cell_type": "markdown",
      "id": "8894765f",
      "metadata": {
        "id": "8894765f"
      },
      "source": [
        "### Step 2. Import the dataset from this [address](https://raw.githubusercontent.com/justmarkham/DAT8/master/data/u.user). "
      ]
    },
    {
      "cell_type": "code",
      "source": [
        "url = 'https://raw.githubusercontent.com/justmarkham/DAT8/master/data/u.user'"
      ],
      "metadata": {
        "id": "r1rYQyKueW6m"
      },
      "id": "r1rYQyKueW6m",
      "execution_count": null,
      "outputs": []
    },
    {
      "cell_type": "markdown",
      "id": "bb471920",
      "metadata": {
        "id": "bb471920"
      },
      "source": [
        "### Step 3. Assign it to a variable called users and use the 'user_id' as index"
      ]
    },
    {
      "cell_type": "code",
      "execution_count": null,
      "id": "029b290f",
      "metadata": {
        "id": "029b290f"
      },
      "outputs": [],
      "source": [
        "users = pd.read_csv(url, sep='|', index_col='user_id')"
      ]
    },
    {
      "cell_type": "markdown",
      "id": "0e757d1f",
      "metadata": {
        "id": "0e757d1f"
      },
      "source": [
        "### Step 4. See the first 25 entries"
      ]
    },
    {
      "cell_type": "code",
      "execution_count": null,
      "id": "9b87b173",
      "metadata": {
        "scrolled": true,
        "colab": {
          "base_uri": "https://localhost:8080/",
          "height": 864
        },
        "id": "9b87b173",
        "outputId": "6e92c4c0-1bf4-4a60-d3b4-5e7d2a38ae29"
      },
      "outputs": [
        {
          "output_type": "execute_result",
          "data": {
            "text/plain": [
              "         age gender     occupation zip_code\n",
              "user_id                                    \n",
              "1         24      M     technician    85711\n",
              "2         53      F          other    94043\n",
              "3         23      M         writer    32067\n",
              "4         24      M     technician    43537\n",
              "5         33      F          other    15213\n",
              "6         42      M      executive    98101\n",
              "7         57      M  administrator    91344\n",
              "8         36      M  administrator    05201\n",
              "9         29      M        student    01002\n",
              "10        53      M         lawyer    90703\n",
              "11        39      F          other    30329\n",
              "12        28      F          other    06405\n",
              "13        47      M       educator    29206\n",
              "14        45      M      scientist    55106\n",
              "15        49      F       educator    97301\n",
              "16        21      M  entertainment    10309\n",
              "17        30      M     programmer    06355\n",
              "18        35      F          other    37212\n",
              "19        40      M      librarian    02138\n",
              "20        42      F      homemaker    95660\n",
              "21        26      M         writer    30068\n",
              "22        25      M         writer    40206\n",
              "23        30      F         artist    48197\n",
              "24        21      F         artist    94533\n",
              "25        39      M       engineer    55107"
            ],
            "text/html": [
              "\n",
              "  <div id=\"df-d745d5bc-9b40-4528-8918-465c42555f4f\">\n",
              "    <div class=\"colab-df-container\">\n",
              "      <div>\n",
              "<style scoped>\n",
              "    .dataframe tbody tr th:only-of-type {\n",
              "        vertical-align: middle;\n",
              "    }\n",
              "\n",
              "    .dataframe tbody tr th {\n",
              "        vertical-align: top;\n",
              "    }\n",
              "\n",
              "    .dataframe thead th {\n",
              "        text-align: right;\n",
              "    }\n",
              "</style>\n",
              "<table border=\"1\" class=\"dataframe\">\n",
              "  <thead>\n",
              "    <tr style=\"text-align: right;\">\n",
              "      <th></th>\n",
              "      <th>age</th>\n",
              "      <th>gender</th>\n",
              "      <th>occupation</th>\n",
              "      <th>zip_code</th>\n",
              "    </tr>\n",
              "    <tr>\n",
              "      <th>user_id</th>\n",
              "      <th></th>\n",
              "      <th></th>\n",
              "      <th></th>\n",
              "      <th></th>\n",
              "    </tr>\n",
              "  </thead>\n",
              "  <tbody>\n",
              "    <tr>\n",
              "      <th>1</th>\n",
              "      <td>24</td>\n",
              "      <td>M</td>\n",
              "      <td>technician</td>\n",
              "      <td>85711</td>\n",
              "    </tr>\n",
              "    <tr>\n",
              "      <th>2</th>\n",
              "      <td>53</td>\n",
              "      <td>F</td>\n",
              "      <td>other</td>\n",
              "      <td>94043</td>\n",
              "    </tr>\n",
              "    <tr>\n",
              "      <th>3</th>\n",
              "      <td>23</td>\n",
              "      <td>M</td>\n",
              "      <td>writer</td>\n",
              "      <td>32067</td>\n",
              "    </tr>\n",
              "    <tr>\n",
              "      <th>4</th>\n",
              "      <td>24</td>\n",
              "      <td>M</td>\n",
              "      <td>technician</td>\n",
              "      <td>43537</td>\n",
              "    </tr>\n",
              "    <tr>\n",
              "      <th>5</th>\n",
              "      <td>33</td>\n",
              "      <td>F</td>\n",
              "      <td>other</td>\n",
              "      <td>15213</td>\n",
              "    </tr>\n",
              "    <tr>\n",
              "      <th>6</th>\n",
              "      <td>42</td>\n",
              "      <td>M</td>\n",
              "      <td>executive</td>\n",
              "      <td>98101</td>\n",
              "    </tr>\n",
              "    <tr>\n",
              "      <th>7</th>\n",
              "      <td>57</td>\n",
              "      <td>M</td>\n",
              "      <td>administrator</td>\n",
              "      <td>91344</td>\n",
              "    </tr>\n",
              "    <tr>\n",
              "      <th>8</th>\n",
              "      <td>36</td>\n",
              "      <td>M</td>\n",
              "      <td>administrator</td>\n",
              "      <td>05201</td>\n",
              "    </tr>\n",
              "    <tr>\n",
              "      <th>9</th>\n",
              "      <td>29</td>\n",
              "      <td>M</td>\n",
              "      <td>student</td>\n",
              "      <td>01002</td>\n",
              "    </tr>\n",
              "    <tr>\n",
              "      <th>10</th>\n",
              "      <td>53</td>\n",
              "      <td>M</td>\n",
              "      <td>lawyer</td>\n",
              "      <td>90703</td>\n",
              "    </tr>\n",
              "    <tr>\n",
              "      <th>11</th>\n",
              "      <td>39</td>\n",
              "      <td>F</td>\n",
              "      <td>other</td>\n",
              "      <td>30329</td>\n",
              "    </tr>\n",
              "    <tr>\n",
              "      <th>12</th>\n",
              "      <td>28</td>\n",
              "      <td>F</td>\n",
              "      <td>other</td>\n",
              "      <td>06405</td>\n",
              "    </tr>\n",
              "    <tr>\n",
              "      <th>13</th>\n",
              "      <td>47</td>\n",
              "      <td>M</td>\n",
              "      <td>educator</td>\n",
              "      <td>29206</td>\n",
              "    </tr>\n",
              "    <tr>\n",
              "      <th>14</th>\n",
              "      <td>45</td>\n",
              "      <td>M</td>\n",
              "      <td>scientist</td>\n",
              "      <td>55106</td>\n",
              "    </tr>\n",
              "    <tr>\n",
              "      <th>15</th>\n",
              "      <td>49</td>\n",
              "      <td>F</td>\n",
              "      <td>educator</td>\n",
              "      <td>97301</td>\n",
              "    </tr>\n",
              "    <tr>\n",
              "      <th>16</th>\n",
              "      <td>21</td>\n",
              "      <td>M</td>\n",
              "      <td>entertainment</td>\n",
              "      <td>10309</td>\n",
              "    </tr>\n",
              "    <tr>\n",
              "      <th>17</th>\n",
              "      <td>30</td>\n",
              "      <td>M</td>\n",
              "      <td>programmer</td>\n",
              "      <td>06355</td>\n",
              "    </tr>\n",
              "    <tr>\n",
              "      <th>18</th>\n",
              "      <td>35</td>\n",
              "      <td>F</td>\n",
              "      <td>other</td>\n",
              "      <td>37212</td>\n",
              "    </tr>\n",
              "    <tr>\n",
              "      <th>19</th>\n",
              "      <td>40</td>\n",
              "      <td>M</td>\n",
              "      <td>librarian</td>\n",
              "      <td>02138</td>\n",
              "    </tr>\n",
              "    <tr>\n",
              "      <th>20</th>\n",
              "      <td>42</td>\n",
              "      <td>F</td>\n",
              "      <td>homemaker</td>\n",
              "      <td>95660</td>\n",
              "    </tr>\n",
              "    <tr>\n",
              "      <th>21</th>\n",
              "      <td>26</td>\n",
              "      <td>M</td>\n",
              "      <td>writer</td>\n",
              "      <td>30068</td>\n",
              "    </tr>\n",
              "    <tr>\n",
              "      <th>22</th>\n",
              "      <td>25</td>\n",
              "      <td>M</td>\n",
              "      <td>writer</td>\n",
              "      <td>40206</td>\n",
              "    </tr>\n",
              "    <tr>\n",
              "      <th>23</th>\n",
              "      <td>30</td>\n",
              "      <td>F</td>\n",
              "      <td>artist</td>\n",
              "      <td>48197</td>\n",
              "    </tr>\n",
              "    <tr>\n",
              "      <th>24</th>\n",
              "      <td>21</td>\n",
              "      <td>F</td>\n",
              "      <td>artist</td>\n",
              "      <td>94533</td>\n",
              "    </tr>\n",
              "    <tr>\n",
              "      <th>25</th>\n",
              "      <td>39</td>\n",
              "      <td>M</td>\n",
              "      <td>engineer</td>\n",
              "      <td>55107</td>\n",
              "    </tr>\n",
              "  </tbody>\n",
              "</table>\n",
              "</div>\n",
              "      <button class=\"colab-df-convert\" onclick=\"convertToInteractive('df-d745d5bc-9b40-4528-8918-465c42555f4f')\"\n",
              "              title=\"Convert this dataframe to an interactive table.\"\n",
              "              style=\"display:none;\">\n",
              "        \n",
              "  <svg xmlns=\"http://www.w3.org/2000/svg\" height=\"24px\"viewBox=\"0 0 24 24\"\n",
              "       width=\"24px\">\n",
              "    <path d=\"M0 0h24v24H0V0z\" fill=\"none\"/>\n",
              "    <path d=\"M18.56 5.44l.94 2.06.94-2.06 2.06-.94-2.06-.94-.94-2.06-.94 2.06-2.06.94zm-11 1L8.5 8.5l.94-2.06 2.06-.94-2.06-.94L8.5 2.5l-.94 2.06-2.06.94zm10 10l.94 2.06.94-2.06 2.06-.94-2.06-.94-.94-2.06-.94 2.06-2.06.94z\"/><path d=\"M17.41 7.96l-1.37-1.37c-.4-.4-.92-.59-1.43-.59-.52 0-1.04.2-1.43.59L10.3 9.45l-7.72 7.72c-.78.78-.78 2.05 0 2.83L4 21.41c.39.39.9.59 1.41.59.51 0 1.02-.2 1.41-.59l7.78-7.78 2.81-2.81c.8-.78.8-2.07 0-2.86zM5.41 20L4 18.59l7.72-7.72 1.47 1.35L5.41 20z\"/>\n",
              "  </svg>\n",
              "      </button>\n",
              "      \n",
              "  <style>\n",
              "    .colab-df-container {\n",
              "      display:flex;\n",
              "      flex-wrap:wrap;\n",
              "      gap: 12px;\n",
              "    }\n",
              "\n",
              "    .colab-df-convert {\n",
              "      background-color: #E8F0FE;\n",
              "      border: none;\n",
              "      border-radius: 50%;\n",
              "      cursor: pointer;\n",
              "      display: none;\n",
              "      fill: #1967D2;\n",
              "      height: 32px;\n",
              "      padding: 0 0 0 0;\n",
              "      width: 32px;\n",
              "    }\n",
              "\n",
              "    .colab-df-convert:hover {\n",
              "      background-color: #E2EBFA;\n",
              "      box-shadow: 0px 1px 2px rgba(60, 64, 67, 0.3), 0px 1px 3px 1px rgba(60, 64, 67, 0.15);\n",
              "      fill: #174EA6;\n",
              "    }\n",
              "\n",
              "    [theme=dark] .colab-df-convert {\n",
              "      background-color: #3B4455;\n",
              "      fill: #D2E3FC;\n",
              "    }\n",
              "\n",
              "    [theme=dark] .colab-df-convert:hover {\n",
              "      background-color: #434B5C;\n",
              "      box-shadow: 0px 1px 3px 1px rgba(0, 0, 0, 0.15);\n",
              "      filter: drop-shadow(0px 1px 2px rgba(0, 0, 0, 0.3));\n",
              "      fill: #FFFFFF;\n",
              "    }\n",
              "  </style>\n",
              "\n",
              "      <script>\n",
              "        const buttonEl =\n",
              "          document.querySelector('#df-d745d5bc-9b40-4528-8918-465c42555f4f button.colab-df-convert');\n",
              "        buttonEl.style.display =\n",
              "          google.colab.kernel.accessAllowed ? 'block' : 'none';\n",
              "\n",
              "        async function convertToInteractive(key) {\n",
              "          const element = document.querySelector('#df-d745d5bc-9b40-4528-8918-465c42555f4f');\n",
              "          const dataTable =\n",
              "            await google.colab.kernel.invokeFunction('convertToInteractive',\n",
              "                                                     [key], {});\n",
              "          if (!dataTable) return;\n",
              "\n",
              "          const docLinkHtml = 'Like what you see? Visit the ' +\n",
              "            '<a target=\"_blank\" href=https://colab.research.google.com/notebooks/data_table.ipynb>data table notebook</a>'\n",
              "            + ' to learn more about interactive tables.';\n",
              "          element.innerHTML = '';\n",
              "          dataTable['output_type'] = 'display_data';\n",
              "          await google.colab.output.renderOutput(dataTable, element);\n",
              "          const docLink = document.createElement('div');\n",
              "          docLink.innerHTML = docLinkHtml;\n",
              "          element.appendChild(docLink);\n",
              "        }\n",
              "      </script>\n",
              "    </div>\n",
              "  </div>\n",
              "  "
            ]
          },
          "metadata": {},
          "execution_count": 5
        }
      ],
      "source": [
        "users.head(25)"
      ]
    },
    {
      "cell_type": "markdown",
      "id": "bd80aafc",
      "metadata": {
        "id": "bd80aafc"
      },
      "source": [
        "### Step 5. See the last 10 entries"
      ]
    },
    {
      "cell_type": "code",
      "execution_count": null,
      "id": "f58c85c1",
      "metadata": {
        "scrolled": true,
        "colab": {
          "base_uri": "https://localhost:8080/",
          "height": 394
        },
        "id": "f58c85c1",
        "outputId": "82345042-2de7-4f4b-ec41-f13ed502884c"
      },
      "outputs": [
        {
          "output_type": "execute_result",
          "data": {
            "text/plain": [
              "         age gender     occupation zip_code\n",
              "user_id                                    \n",
              "934       61      M       engineer    22902\n",
              "935       42      M         doctor    66221\n",
              "936       24      M          other    32789\n",
              "937       48      M       educator    98072\n",
              "938       38      F     technician    55038\n",
              "939       26      F        student    33319\n",
              "940       32      M  administrator    02215\n",
              "941       20      M        student    97229\n",
              "942       48      F      librarian    78209\n",
              "943       22      M        student    77841"
            ],
            "text/html": [
              "\n",
              "  <div id=\"df-93275f96-ca8a-4b49-9f3b-61727cb0b812\">\n",
              "    <div class=\"colab-df-container\">\n",
              "      <div>\n",
              "<style scoped>\n",
              "    .dataframe tbody tr th:only-of-type {\n",
              "        vertical-align: middle;\n",
              "    }\n",
              "\n",
              "    .dataframe tbody tr th {\n",
              "        vertical-align: top;\n",
              "    }\n",
              "\n",
              "    .dataframe thead th {\n",
              "        text-align: right;\n",
              "    }\n",
              "</style>\n",
              "<table border=\"1\" class=\"dataframe\">\n",
              "  <thead>\n",
              "    <tr style=\"text-align: right;\">\n",
              "      <th></th>\n",
              "      <th>age</th>\n",
              "      <th>gender</th>\n",
              "      <th>occupation</th>\n",
              "      <th>zip_code</th>\n",
              "    </tr>\n",
              "    <tr>\n",
              "      <th>user_id</th>\n",
              "      <th></th>\n",
              "      <th></th>\n",
              "      <th></th>\n",
              "      <th></th>\n",
              "    </tr>\n",
              "  </thead>\n",
              "  <tbody>\n",
              "    <tr>\n",
              "      <th>934</th>\n",
              "      <td>61</td>\n",
              "      <td>M</td>\n",
              "      <td>engineer</td>\n",
              "      <td>22902</td>\n",
              "    </tr>\n",
              "    <tr>\n",
              "      <th>935</th>\n",
              "      <td>42</td>\n",
              "      <td>M</td>\n",
              "      <td>doctor</td>\n",
              "      <td>66221</td>\n",
              "    </tr>\n",
              "    <tr>\n",
              "      <th>936</th>\n",
              "      <td>24</td>\n",
              "      <td>M</td>\n",
              "      <td>other</td>\n",
              "      <td>32789</td>\n",
              "    </tr>\n",
              "    <tr>\n",
              "      <th>937</th>\n",
              "      <td>48</td>\n",
              "      <td>M</td>\n",
              "      <td>educator</td>\n",
              "      <td>98072</td>\n",
              "    </tr>\n",
              "    <tr>\n",
              "      <th>938</th>\n",
              "      <td>38</td>\n",
              "      <td>F</td>\n",
              "      <td>technician</td>\n",
              "      <td>55038</td>\n",
              "    </tr>\n",
              "    <tr>\n",
              "      <th>939</th>\n",
              "      <td>26</td>\n",
              "      <td>F</td>\n",
              "      <td>student</td>\n",
              "      <td>33319</td>\n",
              "    </tr>\n",
              "    <tr>\n",
              "      <th>940</th>\n",
              "      <td>32</td>\n",
              "      <td>M</td>\n",
              "      <td>administrator</td>\n",
              "      <td>02215</td>\n",
              "    </tr>\n",
              "    <tr>\n",
              "      <th>941</th>\n",
              "      <td>20</td>\n",
              "      <td>M</td>\n",
              "      <td>student</td>\n",
              "      <td>97229</td>\n",
              "    </tr>\n",
              "    <tr>\n",
              "      <th>942</th>\n",
              "      <td>48</td>\n",
              "      <td>F</td>\n",
              "      <td>librarian</td>\n",
              "      <td>78209</td>\n",
              "    </tr>\n",
              "    <tr>\n",
              "      <th>943</th>\n",
              "      <td>22</td>\n",
              "      <td>M</td>\n",
              "      <td>student</td>\n",
              "      <td>77841</td>\n",
              "    </tr>\n",
              "  </tbody>\n",
              "</table>\n",
              "</div>\n",
              "      <button class=\"colab-df-convert\" onclick=\"convertToInteractive('df-93275f96-ca8a-4b49-9f3b-61727cb0b812')\"\n",
              "              title=\"Convert this dataframe to an interactive table.\"\n",
              "              style=\"display:none;\">\n",
              "        \n",
              "  <svg xmlns=\"http://www.w3.org/2000/svg\" height=\"24px\"viewBox=\"0 0 24 24\"\n",
              "       width=\"24px\">\n",
              "    <path d=\"M0 0h24v24H0V0z\" fill=\"none\"/>\n",
              "    <path d=\"M18.56 5.44l.94 2.06.94-2.06 2.06-.94-2.06-.94-.94-2.06-.94 2.06-2.06.94zm-11 1L8.5 8.5l.94-2.06 2.06-.94-2.06-.94L8.5 2.5l-.94 2.06-2.06.94zm10 10l.94 2.06.94-2.06 2.06-.94-2.06-.94-.94-2.06-.94 2.06-2.06.94z\"/><path d=\"M17.41 7.96l-1.37-1.37c-.4-.4-.92-.59-1.43-.59-.52 0-1.04.2-1.43.59L10.3 9.45l-7.72 7.72c-.78.78-.78 2.05 0 2.83L4 21.41c.39.39.9.59 1.41.59.51 0 1.02-.2 1.41-.59l7.78-7.78 2.81-2.81c.8-.78.8-2.07 0-2.86zM5.41 20L4 18.59l7.72-7.72 1.47 1.35L5.41 20z\"/>\n",
              "  </svg>\n",
              "      </button>\n",
              "      \n",
              "  <style>\n",
              "    .colab-df-container {\n",
              "      display:flex;\n",
              "      flex-wrap:wrap;\n",
              "      gap: 12px;\n",
              "    }\n",
              "\n",
              "    .colab-df-convert {\n",
              "      background-color: #E8F0FE;\n",
              "      border: none;\n",
              "      border-radius: 50%;\n",
              "      cursor: pointer;\n",
              "      display: none;\n",
              "      fill: #1967D2;\n",
              "      height: 32px;\n",
              "      padding: 0 0 0 0;\n",
              "      width: 32px;\n",
              "    }\n",
              "\n",
              "    .colab-df-convert:hover {\n",
              "      background-color: #E2EBFA;\n",
              "      box-shadow: 0px 1px 2px rgba(60, 64, 67, 0.3), 0px 1px 3px 1px rgba(60, 64, 67, 0.15);\n",
              "      fill: #174EA6;\n",
              "    }\n",
              "\n",
              "    [theme=dark] .colab-df-convert {\n",
              "      background-color: #3B4455;\n",
              "      fill: #D2E3FC;\n",
              "    }\n",
              "\n",
              "    [theme=dark] .colab-df-convert:hover {\n",
              "      background-color: #434B5C;\n",
              "      box-shadow: 0px 1px 3px 1px rgba(0, 0, 0, 0.15);\n",
              "      filter: drop-shadow(0px 1px 2px rgba(0, 0, 0, 0.3));\n",
              "      fill: #FFFFFF;\n",
              "    }\n",
              "  </style>\n",
              "\n",
              "      <script>\n",
              "        const buttonEl =\n",
              "          document.querySelector('#df-93275f96-ca8a-4b49-9f3b-61727cb0b812 button.colab-df-convert');\n",
              "        buttonEl.style.display =\n",
              "          google.colab.kernel.accessAllowed ? 'block' : 'none';\n",
              "\n",
              "        async function convertToInteractive(key) {\n",
              "          const element = document.querySelector('#df-93275f96-ca8a-4b49-9f3b-61727cb0b812');\n",
              "          const dataTable =\n",
              "            await google.colab.kernel.invokeFunction('convertToInteractive',\n",
              "                                                     [key], {});\n",
              "          if (!dataTable) return;\n",
              "\n",
              "          const docLinkHtml = 'Like what you see? Visit the ' +\n",
              "            '<a target=\"_blank\" href=https://colab.research.google.com/notebooks/data_table.ipynb>data table notebook</a>'\n",
              "            + ' to learn more about interactive tables.';\n",
              "          element.innerHTML = '';\n",
              "          dataTable['output_type'] = 'display_data';\n",
              "          await google.colab.output.renderOutput(dataTable, element);\n",
              "          const docLink = document.createElement('div');\n",
              "          docLink.innerHTML = docLinkHtml;\n",
              "          element.appendChild(docLink);\n",
              "        }\n",
              "      </script>\n",
              "    </div>\n",
              "  </div>\n",
              "  "
            ]
          },
          "metadata": {},
          "execution_count": 6
        }
      ],
      "source": [
        "users.tail(10)"
      ]
    },
    {
      "cell_type": "markdown",
      "id": "e65bd1c8",
      "metadata": {
        "id": "e65bd1c8"
      },
      "source": [
        "### Step 6. What is the number of observations in the dataset?"
      ]
    },
    {
      "cell_type": "code",
      "execution_count": null,
      "id": "2178d579",
      "metadata": {
        "colab": {
          "base_uri": "https://localhost:8080/"
        },
        "id": "2178d579",
        "outputId": "ea668042-0e3a-48eb-8f80-f0580bb1b30d"
      },
      "outputs": [
        {
          "output_type": "execute_result",
          "data": {
            "text/plain": [
              "943"
            ]
          },
          "metadata": {},
          "execution_count": 12
        }
      ],
      "source": [
        "users.shape[0] # 943 observations"
      ]
    },
    {
      "cell_type": "markdown",
      "id": "218a3880",
      "metadata": {
        "id": "218a3880"
      },
      "source": [
        "### Step 7. What is the number of columns in the dataset?"
      ]
    },
    {
      "cell_type": "code",
      "execution_count": null,
      "id": "d569393f",
      "metadata": {
        "colab": {
          "base_uri": "https://localhost:8080/"
        },
        "id": "d569393f",
        "outputId": "3852714d-466d-4566-adf2-09c31d1a6030"
      },
      "outputs": [
        {
          "output_type": "execute_result",
          "data": {
            "text/plain": [
              "4"
            ]
          },
          "metadata": {},
          "execution_count": 10
        }
      ],
      "source": [
        "users.shape[1] # 4 columns"
      ]
    },
    {
      "cell_type": "markdown",
      "id": "2a146809",
      "metadata": {
        "id": "2a146809"
      },
      "source": [
        "### Step 8. Print the name of all the columns."
      ]
    },
    {
      "cell_type": "code",
      "execution_count": null,
      "id": "9cf2fa51",
      "metadata": {
        "colab": {
          "base_uri": "https://localhost:8080/"
        },
        "id": "9cf2fa51",
        "outputId": "4410f05b-a1e9-4119-f840-e9f9625dc328"
      },
      "outputs": [
        {
          "output_type": "execute_result",
          "data": {
            "text/plain": [
              "['age', 'gender', 'occupation', 'zip_code']"
            ]
          },
          "metadata": {},
          "execution_count": 15
        }
      ],
      "source": [
        "list(users.columns)"
      ]
    },
    {
      "cell_type": "markdown",
      "id": "2b96bd9b",
      "metadata": {
        "id": "2b96bd9b"
      },
      "source": [
        "### Step 9. How is the dataset indexed?"
      ]
    },
    {
      "cell_type": "code",
      "execution_count": null,
      "id": "dd192018",
      "metadata": {
        "colab": {
          "base_uri": "https://localhost:8080/"
        },
        "id": "dd192018",
        "outputId": "89d02c07-0bfd-4161-8037-5e390cacb7df"
      },
      "outputs": [
        {
          "output_type": "stream",
          "name": "stdout",
          "text": [
            "user_id\n",
            "1    M\n",
            "2    F\n",
            "3    M\n",
            "4    M\n",
            "5    F\n",
            "Name: gender, dtype: object\n",
            "----------------------------\n",
            "age                      32\n",
            "gender                    M\n",
            "occupation    administrator\n",
            "zip_code              02215\n",
            "Name: 940, dtype: object\n",
            "----------------------------\n",
            "         age occupation\n",
            "user_id                \n",
            "2         53      other\n",
            "5         33      other\n"
          ]
        }
      ],
      "source": [
        "print(users['gender'].head()) # first 5 gender values with user_ids\n",
        "print('----------------------------')\n",
        "print(users.loc[940]) # values of row with user_id 940\n",
        "print('----------------------------')\n",
        "print(users.iloc[[1, 4], [0, 2]]) # 2nd, 4th row with 1st and 3rd columns"
      ]
    },
    {
      "cell_type": "markdown",
      "id": "6427a9b7",
      "metadata": {
        "id": "6427a9b7"
      },
      "source": [
        "### Step 10. What is the data type of each column?"
      ]
    },
    {
      "cell_type": "code",
      "execution_count": null,
      "id": "1e75ae0a",
      "metadata": {
        "colab": {
          "base_uri": "https://localhost:8080/"
        },
        "id": "1e75ae0a",
        "outputId": "078ffd1f-2754-472a-cc5e-22fdf94c4a5d"
      },
      "outputs": [
        {
          "output_type": "execute_result",
          "data": {
            "text/plain": [
              "age            int64\n",
              "gender        object\n",
              "occupation    object\n",
              "zip_code      object\n",
              "dtype: object"
            ]
          },
          "metadata": {},
          "execution_count": 43
        }
      ],
      "source": [
        "users.dtypes # data type of each column"
      ]
    },
    {
      "cell_type": "markdown",
      "id": "e9676543",
      "metadata": {
        "id": "e9676543"
      },
      "source": [
        "### Step 11. Print only the occupation column"
      ]
    },
    {
      "cell_type": "code",
      "execution_count": null,
      "id": "e34386ba",
      "metadata": {
        "colab": {
          "base_uri": "https://localhost:8080/"
        },
        "id": "e34386ba",
        "outputId": "e939dc6b-933b-41df-8d60-a1fd647664f4"
      },
      "outputs": [
        {
          "output_type": "stream",
          "name": "stdout",
          "text": [
            "user_id\n",
            "   technician\n",
            "        other\n",
            "       writer\n",
            "   technician\n",
            "        other\n",
            "    executive\n",
            "administrator\n",
            "administrator\n",
            "      student\n",
            "       lawyer\n",
            "        other\n",
            "        other\n",
            "     educator\n",
            "    scientist\n",
            "     educator\n",
            "entertainment\n",
            "   programmer\n",
            "        other\n",
            "    librarian\n",
            "    homemaker\n",
            "       writer\n",
            "       writer\n",
            "       artist\n",
            "       artist\n",
            "     engineer\n",
            "     engineer\n",
            "    librarian\n",
            "       writer\n",
            "   programmer\n",
            "      student\n",
            "       artist\n",
            "      student\n",
            "      student\n",
            "administrator\n",
            "    homemaker\n",
            "      student\n",
            "      student\n",
            "        other\n",
            "entertainment\n",
            "    scientist\n",
            "     engineer\n",
            "administrator\n",
            "    librarian\n",
            "   technician\n",
            "   programmer\n",
            "    marketing\n",
            "    marketing\n",
            "administrator\n",
            "      student\n",
            "       writer\n",
            "     educator\n",
            "      student\n",
            "   programmer\n",
            "    executive\n",
            "   programmer\n",
            "    librarian\n",
            "         none\n",
            "   programmer\n",
            "     educator\n",
            "   healthcare\n",
            "     engineer\n",
            "administrator\n",
            "    marketing\n",
            "     educator\n",
            "     educator\n",
            "      student\n",
            "      student\n",
            "      student\n",
            "     engineer\n",
            "     engineer\n",
            "    scientist\n",
            "administrator\n",
            "      student\n",
            "    scientist\n",
            "entertainment\n",
            "      student\n",
            "   technician\n",
            "administrator\n",
            "administrator\n",
            "administrator\n",
            "      student\n",
            "   programmer\n",
            "        other\n",
            "    executive\n",
            "     educator\n",
            "administrator\n",
            "administrator\n",
            "    librarian\n",
            "administrator\n",
            "     educator\n",
            "    marketing\n",
            "entertainment\n",
            "    executive\n",
            "      student\n",
            "administrator\n",
            "       artist\n",
            "       artist\n",
            "    executive\n",
            "      student\n",
            "    executive\n",
            "      student\n",
            "   programmer\n",
            "      student\n",
            "      student\n",
            "     engineer\n",
            "      retired\n",
            "    scientist\n",
            "     educator\n",
            "        other\n",
            "      student\n",
            "     engineer\n",
            "     salesman\n",
            "    executive\n",
            "   programmer\n",
            "     engineer\n",
            "   healthcare\n",
            "      student\n",
            "administrator\n",
            "   programmer\n",
            "        other\n",
            "    librarian\n",
            "       writer\n",
            "       artist\n",
            "      student\n",
            "       lawyer\n",
            "       lawyer\n",
            "         none\n",
            "    marketing\n",
            "    marketing\n",
            "         none\n",
            "administrator\n",
            "        other\n",
            "     engineer\n",
            "   programmer\n",
            "      student\n",
            "        other\n",
            "     educator\n",
            "       doctor\n",
            "      student\n",
            "      student\n",
            "   programmer\n",
            "        other\n",
            "   technician\n",
            "   programmer\n",
            "entertainment\n",
            "       artist\n",
            "    librarian\n",
            "     engineer\n",
            "    marketing\n",
            "       artist\n",
            "administrator\n",
            "     educator\n",
            "      student\n",
            "      student\n",
            "        other\n",
            "     educator\n",
            "     engineer\n",
            "     educator\n",
            "      student\n",
            "   programmer\n",
            "       lawyer\n",
            "       artist\n",
            "administrator\n",
            "   healthcare\n",
            "        other\n",
            "     educator\n",
            "        other\n",
            "        other\n",
            "        other\n",
            "   healthcare\n",
            "     educator\n",
            "    marketing\n",
            "        other\n",
            "administrator\n",
            "    scientist\n",
            "    scientist\n",
            "   programmer\n",
            "        other\n",
            "entertainment\n",
            "administrator\n",
            "    executive\n",
            "   programmer\n",
            "    scientist\n",
            "    librarian\n",
            "    librarian\n",
            "    executive\n",
            "     educator\n",
            "      student\n",
            "       artist\n",
            "administrator\n",
            "administrator\n",
            "     educator\n",
            "      student\n",
            "administrator\n",
            "    scientist\n",
            "       writer\n",
            "   technician\n",
            "      student\n",
            "       writer\n",
            "   programmer\n",
            "       writer\n",
            "     educator\n",
            "      student\n",
            "    librarian\n",
            "       lawyer\n",
            "      student\n",
            "    marketing\n",
            "     engineer\n",
            "     educator\n",
            "     engineer\n",
            "     salesman\n",
            "     educator\n",
            "    executive\n",
            "    librarian\n",
            "   programmer\n",
            "     engineer\n",
            "        other\n",
            "administrator\n",
            "   programmer\n",
            "    librarian\n",
            "      student\n",
            "   programmer\n",
            "      student\n",
            "     educator\n",
            "administrator\n",
            "      student\n",
            "    executive\n",
            "      student\n",
            "    librarian\n",
            "      student\n",
            "    librarian\n",
            "    scientist\n",
            "     engineer\n",
            "      retired\n",
            "     educator\n",
            "       writer\n",
            "administrator\n",
            "administrator\n",
            "       artist\n",
            "     educator\n",
            "      student\n",
            "     educator\n",
            "     educator\n",
            "   technician\n",
            "      student\n",
            "      student\n",
            "     engineer\n",
            "      student\n",
            "      student\n",
            "    executive\n",
            "       doctor\n",
            "     engineer\n",
            "    librarian\n",
            "     educator\n",
            "entertainment\n",
            "         none\n",
            "      student\n",
            "      student\n",
            "      student\n",
            "       artist\n",
            "administrator\n",
            "      student\n",
            "   programmer\n",
            "       writer\n",
            "    executive\n",
            "administrator\n",
            "     engineer\n",
            "     engineer\n",
            "    librarian\n",
            "      student\n",
            "     engineer\n",
            "    scientist\n",
            "        other\n",
            "      student\n",
            "     engineer\n",
            "      student\n",
            "administrator\n",
            "    librarian\n",
            "   programmer\n",
            "    librarian\n",
            "      student\n",
            "administrator\n",
            "   programmer\n",
            "    executive\n",
            "   programmer\n",
            "      student\n",
            "     salesman\n",
            "    marketing\n",
            "         none\n",
            "     engineer\n",
            "      student\n",
            "   programmer\n",
            "       writer\n",
            "   technician\n",
            "     educator\n",
            "administrator\n",
            "     educator\n",
            "    executive\n",
            "       doctor\n",
            "   programmer\n",
            "      student\n",
            "     educator\n",
            "      student\n",
            "      student\n",
            "   programmer\n",
            "        other\n",
            "      student\n",
            "      retired\n",
            "    scientist\n",
            "     educator\n",
            "   technician\n",
            "        other\n",
            "    marketing\n",
            "      student\n",
            "     educator\n",
            "        other\n",
            "administrator\n",
            "      retired\n",
            "   programmer\n",
            "      student\n",
            "     educator\n",
            "      student\n",
            "      student\n",
            "      student\n",
            "   technician\n",
            "administrator\n",
            "      student\n",
            "administrator\n",
            "     educator\n",
            "     educator\n",
            "entertainment\n",
            "      student\n",
            "        other\n",
            "    librarian\n",
            "    executive\n",
            "     salesman\n",
            "    scientist\n",
            "    librarian\n",
            "       lawyer\n",
            "     engineer\n",
            "      student\n",
            "        other\n",
            "     engineer\n",
            "    librarian\n",
            "    librarian\n",
            "        other\n",
            "      student\n",
            "      student\n",
            "      retired\n",
            "      student\n",
            "     educator\n",
            "   programmer\n",
            "    scientist\n",
            "    librarian\n",
            "      student\n",
            "    homemaker\n",
            "    executive\n",
            "     educator\n",
            "      student\n",
            "        other\n",
            "      student\n",
            "    homemaker\n",
            "      student\n",
            "     engineer\n",
            "       lawyer\n",
            "      student\n",
            "      student\n",
            "      student\n",
            "      student\n",
            "       writer\n",
            "     engineer\n",
            "      student\n",
            "        other\n",
            "    executive\n",
            "entertainment\n",
            "        other\n",
            "      student\n",
            "      student\n",
            "   programmer\n",
            "     engineer\n",
            "       artist\n",
            "     engineer\n",
            "administrator\n",
            "   programmer\n",
            "       writer\n",
            "     salesman\n",
            "entertainment\n",
            "        other\n",
            "       writer\n",
            "       writer\n",
            "      student\n",
            "       writer\n",
            "      student\n",
            "administrator\n",
            "        other\n",
            "     engineer\n",
            "      student\n",
            "        other\n",
            "        other\n",
            "administrator\n",
            "   healthcare\n",
            "     engineer\n",
            "        other\n",
            "   programmer\n",
            "   healthcare\n",
            "     educator\n",
            "     engineer\n",
            "      student\n",
            "administrator\n",
            "       artist\n",
            "     educator\n",
            "     educator\n",
            "     educator\n",
            "   programmer\n",
            "     educator\n",
            "      student\n",
            "        other\n",
            "         none\n",
            "       lawyer\n",
            "     educator\n",
            "   programmer\n",
            "entertainment\n",
            "        other\n",
            "    marketing\n",
            "      student\n",
            "     educator\n",
            "       doctor\n",
            "      student\n",
            "      student\n",
            "    scientist\n",
            "    marketing\n",
            "entertainment\n",
            "       artist\n",
            "      student\n",
            "     engineer\n",
            "administrator\n",
            "        other\n",
            "administrator\n",
            "administrator\n",
            "        other\n",
            "   technician\n",
            "      student\n",
            "     salesman\n",
            "       lawyer\n",
            "       writer\n",
            "     educator\n",
            "administrator\n",
            "entertainment\n",
            "    librarian\n",
            "     educator\n",
            "      student\n",
            "administrator\n",
            "      student\n",
            "        other\n",
            "administrator\n",
            "   technician\n",
            "     salesman\n",
            "   technician\n",
            "      student\n",
            "        other\n",
            "      student\n",
            "      student\n",
            "   healthcare\n",
            "       writer\n",
            "        other\n",
            "      student\n",
            "     engineer\n",
            "     engineer\n",
            "     educator\n",
            "   programmer\n",
            "      student\n",
            "      student\n",
            "      student\n",
            "    executive\n",
            "   programmer\n",
            "      student\n",
            "      student\n",
            "        other\n",
            "     educator\n",
            "      retired\n",
            "      retired\n",
            "      student\n",
            "    scientist\n",
            "      student\n",
            "     educator\n",
            "     educator\n",
            "     engineer\n",
            "   technician\n",
            "        other\n",
            "       artist\n",
            "       writer\n",
            "     educator\n",
            "     engineer\n",
            "administrator\n",
            "     engineer\n",
            "      student\n",
            "      student\n",
            "       writer\n",
            "   programmer\n",
            "administrator\n",
            "      student\n",
            "      student\n",
            "       writer\n",
            "       writer\n",
            "        other\n",
            "   programmer\n",
            "       writer\n",
            "    marketing\n",
            "administrator\n",
            "        other\n",
            "      student\n",
            "        other\n",
            "administrator\n",
            "   programmer\n",
            "    marketing\n",
            "    librarian\n",
            "      student\n",
            "       writer\n",
            "        other\n",
            "   healthcare\n",
            "      student\n",
            "     engineer\n",
            "administrator\n",
            "     educator\n",
            "administrator\n",
            "    marketing\n",
            "    librarian\n",
            "      student\n",
            "administrator\n",
            "     engineer\n",
            "     salesman\n",
            "      student\n",
            "    librarian\n",
            "      student\n",
            "     educator\n",
            "     engineer\n",
            "     engineer\n",
            "    scientist\n",
            "administrator\n",
            "     engineer\n",
            "      student\n",
            "      student\n",
            "    scientist\n",
            "        other\n",
            "   technician\n",
            "    executive\n",
            "     educator\n",
            "       writer\n",
            "    scientist\n",
            "      student\n",
            "   programmer\n",
            "        other\n",
            "     educator\n",
            "    scientist\n",
            "     educator\n",
            "     educator\n",
            "       writer\n",
            "       writer\n",
            "    executive\n",
            "      student\n",
            "     engineer\n",
            "administrator\n",
            "    librarian\n",
            "      retired\n",
            "      student\n",
            "      student\n",
            "entertainment\n",
            "     educator\n",
            "     educator\n",
            "     educator\n",
            "       artist\n",
            "     educator\n",
            "      retired\n",
            "     educator\n",
            "    marketing\n",
            "    executive\n",
            "      student\n",
            "administrator\n",
            "     educator\n",
            "      student\n",
            "        other\n",
            "      student\n",
            "     engineer\n",
            "      student\n",
            "    librarian\n",
            "      student\n",
            "        other\n",
            "      student\n",
            "       lawyer\n",
            "     educator\n",
            "    librarian\n",
            "      student\n",
            "     educator\n",
            "     educator\n",
            "   programmer\n",
            "       artist\n",
            "        other\n",
            "    marketing\n",
            "      student\n",
            "   programmer\n",
            "       artist\n",
            "        other\n",
            "   programmer\n",
            "     educator\n",
            "     engineer\n",
            "   programmer\n",
            "   healthcare\n",
            "        other\n",
            "      student\n",
            "      student\n",
            "    librarian\n",
            "     educator\n",
            "    marketing\n",
            "     educator\n",
            "     educator\n",
            "    scientist\n",
            "       writer\n",
            "      student\n",
            "      student\n",
            "       writer\n",
            "      student\n",
            "   programmer\n",
            "     educator\n",
            "      student\n",
            "   programmer\n",
            "    scientist\n",
            "     engineer\n",
            "         none\n",
            "        other\n",
            "   healthcare\n",
            "      student\n",
            "      student\n",
            "   programmer\n",
            "     engineer\n",
            "        other\n",
            "     educator\n",
            "        other\n",
            "     engineer\n",
            "    librarian\n",
            "      student\n",
            "      student\n",
            "      student\n",
            "    scientist\n",
            "      retired\n",
            "   programmer\n",
            "      student\n",
            "     educator\n",
            "     engineer\n",
            "      student\n",
            "     engineer\n",
            "      retired\n",
            "        other\n",
            "    executive\n",
            "      student\n",
            "   healthcare\n",
            "     educator\n",
            "         none\n",
            "   programmer\n",
            "     educator\n",
            "      student\n",
            "   programmer\n",
            "    librarian\n",
            "        other\n",
            "     engineer\n",
            "administrator\n",
            "administrator\n",
            "    librarian\n",
            "       writer\n",
            "        other\n",
            "   technician\n",
            "   programmer\n",
            "administrator\n",
            "     educator\n",
            "      student\n",
            "        other\n",
            "   programmer\n",
            "        other\n",
            "     educator\n",
            "      student\n",
            "       lawyer\n",
            "    marketing\n",
            "   programmer\n",
            "    librarian\n",
            "      student\n",
            "    librarian\n",
            "     educator\n",
            "   healthcare\n",
            "administrator\n",
            "        other\n",
            "     salesman\n",
            "     educator\n",
            "     engineer\n",
            "   healthcare\n",
            "   programmer\n",
            "       writer\n",
            "        other\n",
            "        other\n",
            "   programmer\n",
            "        other\n",
            "      student\n",
            "    librarian\n",
            "        other\n",
            "     educator\n",
            "    librarian\n",
            "      student\n",
            "      student\n",
            "    librarian\n",
            "    homemaker\n",
            "        other\n",
            "      student\n",
            "      student\n",
            "      student\n",
            "        other\n",
            "     engineer\n",
            "   technician\n",
            "administrator\n",
            "   technician\n",
            "   technician\n",
            "        other\n",
            "administrator\n",
            "entertainment\n",
            "    homemaker\n",
            "    executive\n",
            "    executive\n",
            "      student\n",
            "administrator\n",
            "      student\n",
            "    executive\n",
            "      student\n",
            "    scientist\n",
            "     educator\n",
            "        other\n",
            "        other\n",
            "        other\n",
            "   healthcare\n",
            "       writer\n",
            "   programmer\n",
            "   technician\n",
            "   technician\n",
            "     educator\n",
            "       writer\n",
            "      student\n",
            "   programmer\n",
            "    marketing\n",
            "       writer\n",
            "     engineer\n",
            "        other\n",
            "administrator\n",
            "        other\n",
            "administrator\n",
            "        other\n",
            "      retired\n",
            "     salesman\n",
            "    librarian\n",
            "     educator\n",
            "         none\n",
            "      student\n",
            "      student\n",
            "      student\n",
            "        other\n",
            "      student\n",
            "administrator\n",
            "    scientist\n",
            "     educator\n",
            "      student\n",
            "        other\n",
            "     engineer\n",
            "administrator\n",
            "    executive\n",
            "      student\n",
            "      student\n",
            "       writer\n",
            "      student\n",
            "      student\n",
            "    executive\n",
            "    librarian\n",
            "   programmer\n",
            "      student\n",
            "      student\n",
            "   programmer\n",
            "      student\n",
            "       artist\n",
            "    marketing\n",
            "administrator\n",
            "     engineer\n",
            "     engineer\n",
            "      student\n",
            "administrator\n",
            "        other\n",
            "   technician\n",
            "     educator\n",
            "   programmer\n",
            "      student\n",
            "     educator\n",
            "   programmer\n",
            "       writer\n",
            "        other\n",
            "       writer\n",
            "administrator\n",
            "   programmer\n",
            "       writer\n",
            "administrator\n",
            "administrator\n",
            "     educator\n",
            "        other\n",
            "    marketing\n",
            "   healthcare\n",
            "     salesman\n",
            "    marketing\n",
            "        other\n",
            "     educator\n",
            "   technician\n",
            "      student\n",
            "        other\n",
            "        other\n",
            "        other\n",
            "      student\n",
            "    librarian\n",
            "administrator\n",
            "      student\n",
            "     engineer\n",
            "    librarian\n",
            "       artist\n",
            "        other\n",
            "     engineer\n",
            "       artist\n",
            "     engineer\n",
            "    librarian\n",
            "       writer\n",
            "   programmer\n",
            "        other\n",
            "   technician\n",
            "       writer\n",
            "        other\n",
            "    executive\n",
            "       artist\n",
            "       artist\n",
            "      student\n",
            "entertainment\n",
            "       artist\n",
            "       doctor\n",
            "       writer\n",
            "    librarian\n",
            "     engineer\n",
            "       doctor\n",
            "       lawyer\n",
            "      student\n",
            "     engineer\n",
            "      student\n",
            "   technician\n",
            "        other\n",
            "administrator\n",
            "       writer\n",
            "      student\n",
            "    librarian\n",
            "    marketing\n",
            "administrator\n",
            "     educator\n",
            "        other\n",
            "      retired\n",
            "      student\n",
            "    executive\n",
            "      student\n",
            "   programmer\n",
            "       artist\n",
            "        other\n",
            "    scientist\n",
            "   programmer\n",
            "      student\n",
            "      student\n",
            "    executive\n",
            "      student\n",
            "administrator\n",
            "    scientist\n",
            "      student\n",
            "        other\n",
            "        other\n",
            "     educator\n",
            "administrator\n",
            "      student\n",
            "    marketing\n",
            "     engineer\n",
            "    librarian\n",
            "     engineer\n",
            "        other\n",
            "      student\n",
            "      student\n",
            "    scientist\n",
            "   technician\n",
            "      student\n",
            "administrator\n",
            "        other\n",
            "      student\n",
            "     educator\n",
            "    librarian\n",
            "       writer\n",
            "        other\n",
            "    homemaker\n",
            "        other\n",
            "      retired\n",
            "    executive\n",
            "       artist\n",
            "     educator\n",
            "      student\n",
            "        other\n",
            "    librarian\n",
            "        other\n",
            "    librarian\n",
            "     educator\n",
            "   healthcare\n",
            "       writer\n",
            "        other\n",
            "      student\n",
            "        other\n",
            "entertainment\n",
            "     engineer\n",
            "      student\n",
            "    scientist\n",
            "        other\n",
            "       artist\n",
            "      student\n",
            "administrator\n",
            "      student\n",
            "        other\n",
            "     salesman\n",
            "entertainment\n",
            "   programmer\n",
            "      student\n",
            "    scientist\n",
            "    scientist\n",
            "     educator\n",
            "     educator\n",
            "      student\n",
            "     engineer\n",
            "       doctor\n",
            "        other\n",
            "     educator\n",
            "   technician\n",
            "      student\n",
            "administrator\n",
            "      student\n",
            "    librarian\n",
            "      student\n"
          ]
        }
      ],
      "source": [
        "print(users['occupation'].to_string(index=False))"
      ]
    },
    {
      "cell_type": "markdown",
      "id": "41b56d2e",
      "metadata": {
        "id": "41b56d2e"
      },
      "source": [
        "### Step 12. How many different occupations are in this dataset?"
      ]
    },
    {
      "cell_type": "code",
      "execution_count": null,
      "id": "0051bdb3",
      "metadata": {
        "colab": {
          "base_uri": "https://localhost:8080/"
        },
        "id": "0051bdb3",
        "outputId": "a719c0be-7fee-4f4a-a289-a16c61c1ac46"
      },
      "outputs": [
        {
          "output_type": "execute_result",
          "data": {
            "text/plain": [
              "20"
            ]
          },
          "metadata": {},
          "execution_count": 96
        }
      ],
      "source": [
        "all_occupations = users[users['occupation'] != 'none']\n",
        "len(all_occupations['occupation'].unique()) # 20 including retired as one of occupation"
      ]
    },
    {
      "cell_type": "markdown",
      "id": "4dba5819",
      "metadata": {
        "id": "4dba5819"
      },
      "source": [
        "### Step 13. What is the most frequent occupation?"
      ]
    },
    {
      "cell_type": "code",
      "execution_count": null,
      "id": "d0778f17",
      "metadata": {
        "colab": {
          "base_uri": "https://localhost:8080/"
        },
        "id": "d0778f17",
        "outputId": "c7d04b9b-bbd0-47ff-be80-55a19d733e17"
      },
      "outputs": [
        {
          "output_type": "execute_result",
          "data": {
            "text/plain": [
              "0    student\n",
              "dtype: object"
            ]
          },
          "metadata": {},
          "execution_count": 97
        }
      ],
      "source": [
        "all_occupations['occupation'].mode() # student"
      ]
    },
    {
      "cell_type": "markdown",
      "id": "4386018b",
      "metadata": {
        "id": "4386018b"
      },
      "source": [
        "### Step 14. Summarize the DataFrame."
      ]
    },
    {
      "cell_type": "code",
      "execution_count": null,
      "id": "aa3e5433",
      "metadata": {
        "colab": {
          "base_uri": "https://localhost:8080/"
        },
        "id": "aa3e5433",
        "outputId": "9a766bc3-1273-4438-8a18-2881514a3dab"
      },
      "outputs": [
        {
          "output_type": "stream",
          "name": "stdout",
          "text": [
            "<class 'pandas.core.frame.DataFrame'>\n",
            "Int64Index: 943 entries, 1 to 943\n",
            "Data columns (total 4 columns):\n",
            " #   Column      Non-Null Count  Dtype \n",
            "---  ------      --------------  ----- \n",
            " 0   age         943 non-null    int64 \n",
            " 1   gender      943 non-null    object\n",
            " 2   occupation  943 non-null    object\n",
            " 3   zip_code    943 non-null    object\n",
            "dtypes: int64(1), object(3)\n",
            "memory usage: 69.1+ KB\n"
          ]
        }
      ],
      "source": [
        "users.info()"
      ]
    },
    {
      "cell_type": "markdown",
      "id": "79bd4c12",
      "metadata": {
        "id": "79bd4c12"
      },
      "source": [
        "### Step 15. Summarize all the columns"
      ]
    },
    {
      "cell_type": "code",
      "execution_count": null,
      "id": "8b5ea300",
      "metadata": {
        "colab": {
          "base_uri": "https://localhost:8080/",
          "height": 394
        },
        "id": "8b5ea300",
        "outputId": "e56e5365-c505-4473-c6dc-d8983b69e908"
      },
      "outputs": [
        {
          "output_type": "execute_result",
          "data": {
            "text/plain": [
              "               age gender occupation zip_code\n",
              "count   943.000000    943        943      943\n",
              "unique         NaN      2         21      795\n",
              "top            NaN      M    student    55414\n",
              "freq           NaN    670        196        9\n",
              "mean     34.051962    NaN        NaN      NaN\n",
              "std      12.192740    NaN        NaN      NaN\n",
              "min       7.000000    NaN        NaN      NaN\n",
              "25%      25.000000    NaN        NaN      NaN\n",
              "50%      31.000000    NaN        NaN      NaN\n",
              "75%      43.000000    NaN        NaN      NaN\n",
              "max      73.000000    NaN        NaN      NaN"
            ],
            "text/html": [
              "\n",
              "  <div id=\"df-04475420-5825-49d2-b608-ecace8052693\">\n",
              "    <div class=\"colab-df-container\">\n",
              "      <div>\n",
              "<style scoped>\n",
              "    .dataframe tbody tr th:only-of-type {\n",
              "        vertical-align: middle;\n",
              "    }\n",
              "\n",
              "    .dataframe tbody tr th {\n",
              "        vertical-align: top;\n",
              "    }\n",
              "\n",
              "    .dataframe thead th {\n",
              "        text-align: right;\n",
              "    }\n",
              "</style>\n",
              "<table border=\"1\" class=\"dataframe\">\n",
              "  <thead>\n",
              "    <tr style=\"text-align: right;\">\n",
              "      <th></th>\n",
              "      <th>age</th>\n",
              "      <th>gender</th>\n",
              "      <th>occupation</th>\n",
              "      <th>zip_code</th>\n",
              "    </tr>\n",
              "  </thead>\n",
              "  <tbody>\n",
              "    <tr>\n",
              "      <th>count</th>\n",
              "      <td>943.000000</td>\n",
              "      <td>943</td>\n",
              "      <td>943</td>\n",
              "      <td>943</td>\n",
              "    </tr>\n",
              "    <tr>\n",
              "      <th>unique</th>\n",
              "      <td>NaN</td>\n",
              "      <td>2</td>\n",
              "      <td>21</td>\n",
              "      <td>795</td>\n",
              "    </tr>\n",
              "    <tr>\n",
              "      <th>top</th>\n",
              "      <td>NaN</td>\n",
              "      <td>M</td>\n",
              "      <td>student</td>\n",
              "      <td>55414</td>\n",
              "    </tr>\n",
              "    <tr>\n",
              "      <th>freq</th>\n",
              "      <td>NaN</td>\n",
              "      <td>670</td>\n",
              "      <td>196</td>\n",
              "      <td>9</td>\n",
              "    </tr>\n",
              "    <tr>\n",
              "      <th>mean</th>\n",
              "      <td>34.051962</td>\n",
              "      <td>NaN</td>\n",
              "      <td>NaN</td>\n",
              "      <td>NaN</td>\n",
              "    </tr>\n",
              "    <tr>\n",
              "      <th>std</th>\n",
              "      <td>12.192740</td>\n",
              "      <td>NaN</td>\n",
              "      <td>NaN</td>\n",
              "      <td>NaN</td>\n",
              "    </tr>\n",
              "    <tr>\n",
              "      <th>min</th>\n",
              "      <td>7.000000</td>\n",
              "      <td>NaN</td>\n",
              "      <td>NaN</td>\n",
              "      <td>NaN</td>\n",
              "    </tr>\n",
              "    <tr>\n",
              "      <th>25%</th>\n",
              "      <td>25.000000</td>\n",
              "      <td>NaN</td>\n",
              "      <td>NaN</td>\n",
              "      <td>NaN</td>\n",
              "    </tr>\n",
              "    <tr>\n",
              "      <th>50%</th>\n",
              "      <td>31.000000</td>\n",
              "      <td>NaN</td>\n",
              "      <td>NaN</td>\n",
              "      <td>NaN</td>\n",
              "    </tr>\n",
              "    <tr>\n",
              "      <th>75%</th>\n",
              "      <td>43.000000</td>\n",
              "      <td>NaN</td>\n",
              "      <td>NaN</td>\n",
              "      <td>NaN</td>\n",
              "    </tr>\n",
              "    <tr>\n",
              "      <th>max</th>\n",
              "      <td>73.000000</td>\n",
              "      <td>NaN</td>\n",
              "      <td>NaN</td>\n",
              "      <td>NaN</td>\n",
              "    </tr>\n",
              "  </tbody>\n",
              "</table>\n",
              "</div>\n",
              "      <button class=\"colab-df-convert\" onclick=\"convertToInteractive('df-04475420-5825-49d2-b608-ecace8052693')\"\n",
              "              title=\"Convert this dataframe to an interactive table.\"\n",
              "              style=\"display:none;\">\n",
              "        \n",
              "  <svg xmlns=\"http://www.w3.org/2000/svg\" height=\"24px\"viewBox=\"0 0 24 24\"\n",
              "       width=\"24px\">\n",
              "    <path d=\"M0 0h24v24H0V0z\" fill=\"none\"/>\n",
              "    <path d=\"M18.56 5.44l.94 2.06.94-2.06 2.06-.94-2.06-.94-.94-2.06-.94 2.06-2.06.94zm-11 1L8.5 8.5l.94-2.06 2.06-.94-2.06-.94L8.5 2.5l-.94 2.06-2.06.94zm10 10l.94 2.06.94-2.06 2.06-.94-2.06-.94-.94-2.06-.94 2.06-2.06.94z\"/><path d=\"M17.41 7.96l-1.37-1.37c-.4-.4-.92-.59-1.43-.59-.52 0-1.04.2-1.43.59L10.3 9.45l-7.72 7.72c-.78.78-.78 2.05 0 2.83L4 21.41c.39.39.9.59 1.41.59.51 0 1.02-.2 1.41-.59l7.78-7.78 2.81-2.81c.8-.78.8-2.07 0-2.86zM5.41 20L4 18.59l7.72-7.72 1.47 1.35L5.41 20z\"/>\n",
              "  </svg>\n",
              "      </button>\n",
              "      \n",
              "  <style>\n",
              "    .colab-df-container {\n",
              "      display:flex;\n",
              "      flex-wrap:wrap;\n",
              "      gap: 12px;\n",
              "    }\n",
              "\n",
              "    .colab-df-convert {\n",
              "      background-color: #E8F0FE;\n",
              "      border: none;\n",
              "      border-radius: 50%;\n",
              "      cursor: pointer;\n",
              "      display: none;\n",
              "      fill: #1967D2;\n",
              "      height: 32px;\n",
              "      padding: 0 0 0 0;\n",
              "      width: 32px;\n",
              "    }\n",
              "\n",
              "    .colab-df-convert:hover {\n",
              "      background-color: #E2EBFA;\n",
              "      box-shadow: 0px 1px 2px rgba(60, 64, 67, 0.3), 0px 1px 3px 1px rgba(60, 64, 67, 0.15);\n",
              "      fill: #174EA6;\n",
              "    }\n",
              "\n",
              "    [theme=dark] .colab-df-convert {\n",
              "      background-color: #3B4455;\n",
              "      fill: #D2E3FC;\n",
              "    }\n",
              "\n",
              "    [theme=dark] .colab-df-convert:hover {\n",
              "      background-color: #434B5C;\n",
              "      box-shadow: 0px 1px 3px 1px rgba(0, 0, 0, 0.15);\n",
              "      filter: drop-shadow(0px 1px 2px rgba(0, 0, 0, 0.3));\n",
              "      fill: #FFFFFF;\n",
              "    }\n",
              "  </style>\n",
              "\n",
              "      <script>\n",
              "        const buttonEl =\n",
              "          document.querySelector('#df-04475420-5825-49d2-b608-ecace8052693 button.colab-df-convert');\n",
              "        buttonEl.style.display =\n",
              "          google.colab.kernel.accessAllowed ? 'block' : 'none';\n",
              "\n",
              "        async function convertToInteractive(key) {\n",
              "          const element = document.querySelector('#df-04475420-5825-49d2-b608-ecace8052693');\n",
              "          const dataTable =\n",
              "            await google.colab.kernel.invokeFunction('convertToInteractive',\n",
              "                                                     [key], {});\n",
              "          if (!dataTable) return;\n",
              "\n",
              "          const docLinkHtml = 'Like what you see? Visit the ' +\n",
              "            '<a target=\"_blank\" href=https://colab.research.google.com/notebooks/data_table.ipynb>data table notebook</a>'\n",
              "            + ' to learn more about interactive tables.';\n",
              "          element.innerHTML = '';\n",
              "          dataTable['output_type'] = 'display_data';\n",
              "          await google.colab.output.renderOutput(dataTable, element);\n",
              "          const docLink = document.createElement('div');\n",
              "          docLink.innerHTML = docLinkHtml;\n",
              "          element.appendChild(docLink);\n",
              "        }\n",
              "      </script>\n",
              "    </div>\n",
              "  </div>\n",
              "  "
            ]
          },
          "metadata": {},
          "execution_count": 110
        }
      ],
      "source": [
        "users.describe(include = ['int', 'object'])"
      ]
    },
    {
      "cell_type": "markdown",
      "id": "42126f94",
      "metadata": {
        "id": "42126f94"
      },
      "source": [
        "### Step 16. Summarize only the occupation column"
      ]
    },
    {
      "cell_type": "code",
      "execution_count": null,
      "id": "28b3daa9",
      "metadata": {
        "colab": {
          "base_uri": "https://localhost:8080/"
        },
        "id": "28b3daa9",
        "outputId": "03ba1924-cac7-4369-b3cd-8a2e804a0548"
      },
      "outputs": [
        {
          "output_type": "execute_result",
          "data": {
            "text/plain": [
              "count         943\n",
              "unique         21\n",
              "top       student\n",
              "freq          196\n",
              "Name: occupation, dtype: object"
            ]
          },
          "metadata": {},
          "execution_count": 112
        }
      ],
      "source": [
        "users['occupation'].describe()"
      ]
    },
    {
      "cell_type": "markdown",
      "id": "e368e6f5",
      "metadata": {
        "id": "e368e6f5"
      },
      "source": [
        "### Step 17. What is the mean age of users?"
      ]
    },
    {
      "cell_type": "code",
      "execution_count": null,
      "id": "3106a605",
      "metadata": {
        "colab": {
          "base_uri": "https://localhost:8080/"
        },
        "id": "3106a605",
        "outputId": "8dfa5178-9e44-4615-ce02-8f3df371be56"
      },
      "outputs": [
        {
          "output_type": "execute_result",
          "data": {
            "text/plain": [
              "34.05196182396607"
            ]
          },
          "metadata": {},
          "execution_count": 113
        }
      ],
      "source": [
        "users['age'].mean() # 34.05196182396607"
      ]
    },
    {
      "cell_type": "markdown",
      "id": "1e65e834",
      "metadata": {
        "id": "1e65e834"
      },
      "source": [
        "### Step 18. What is the age with least occurrence?"
      ]
    },
    {
      "cell_type": "code",
      "execution_count": null,
      "id": "5ee5a0f2",
      "metadata": {
        "colab": {
          "base_uri": "https://localhost:8080/"
        },
        "id": "5ee5a0f2",
        "outputId": "8fef6601-05a0-4f23-fa1e-2215a9b817e4"
      },
      "outputs": [
        {
          "output_type": "execute_result",
          "data": {
            "text/plain": [
              "7     1\n",
              "66    1\n",
              "11    1\n",
              "10    1\n",
              "73    1\n",
              "Name: age, dtype: int64"
            ]
          },
          "metadata": {},
          "execution_count": 119
        }
      ],
      "source": [
        "age_counts = users['age'].value_counts()\n",
        "rare_ages = age_counts[age_counts <= 1]\n",
        "rare_ages # 7, 10, 11, 66, 73"
      ]
    },
    {
      "cell_type": "markdown",
      "id": "f3303768",
      "metadata": {
        "id": "f3303768"
      },
      "source": [
        "## Section 2: Filtering and Sorting"
      ]
    },
    {
      "cell_type": "markdown",
      "id": "f9f86817",
      "metadata": {
        "id": "f9f86817"
      },
      "source": [
        "### Step 1. Import the necessary libraries"
      ]
    },
    {
      "cell_type": "code",
      "execution_count": null,
      "id": "746df2d7",
      "metadata": {
        "id": "746df2d7"
      },
      "outputs": [],
      "source": [
        "import pandas as pd\n",
        "import numpy as np"
      ]
    },
    {
      "cell_type": "markdown",
      "id": "00896ee1",
      "metadata": {
        "id": "00896ee1"
      },
      "source": [
        "### Step 2. Import the dataset from this [address](https://raw.githubusercontent.com/guipsamora/pandas_exercises/master/02_Filtering_%26_Sorting/Euro12/Euro_2012_stats_TEAM.csv). "
      ]
    },
    {
      "cell_type": "code",
      "source": [
        "url = 'https://raw.githubusercontent.com/guipsamora/pandas_exercises/master/02_Filtering_%26_Sorting/Euro12/Euro_2012_stats_TEAM.csv'"
      ],
      "metadata": {
        "id": "-RQk_v4025-m"
      },
      "id": "-RQk_v4025-m",
      "execution_count": null,
      "outputs": []
    },
    {
      "cell_type": "markdown",
      "id": "d4d5c165",
      "metadata": {
        "id": "d4d5c165"
      },
      "source": [
        "### Step 3. Assign it to a variable called euro12."
      ]
    },
    {
      "cell_type": "code",
      "execution_count": null,
      "id": "2976e766",
      "metadata": {
        "id": "2976e766"
      },
      "outputs": [],
      "source": [
        "euro12 = pd.read_csv(url, sep=',')"
      ]
    },
    {
      "cell_type": "markdown",
      "id": "e54e7b26",
      "metadata": {
        "id": "e54e7b26"
      },
      "source": [
        "### Step 4. Select only the Goal column."
      ]
    },
    {
      "cell_type": "code",
      "execution_count": null,
      "id": "0d68252a",
      "metadata": {
        "id": "0d68252a",
        "colab": {
          "base_uri": "https://localhost:8080/"
        },
        "outputId": "25146f98-6ca7-4551-adb8-6918fd17be6c"
      },
      "outputs": [
        {
          "output_type": "execute_result",
          "data": {
            "text/plain": [
              "0      4\n",
              "1      4\n",
              "2      4\n",
              "3      5\n",
              "4      3\n",
              "5     10\n",
              "6      5\n",
              "7      6\n",
              "8      2\n",
              "9      2\n",
              "10     6\n",
              "11     1\n",
              "12     5\n",
              "13    12\n",
              "14     5\n",
              "15     2\n",
              "Name: Goals, dtype: int64"
            ]
          },
          "metadata": {},
          "execution_count": 9
        }
      ],
      "source": [
        "euro12['Goals']"
      ]
    },
    {
      "cell_type": "markdown",
      "id": "3ba9eb18",
      "metadata": {
        "id": "3ba9eb18"
      },
      "source": [
        "### Step 5. How many team participated in the Euro2012?"
      ]
    },
    {
      "cell_type": "code",
      "execution_count": null,
      "id": "2908418c",
      "metadata": {
        "id": "2908418c",
        "colab": {
          "base_uri": "https://localhost:8080/"
        },
        "outputId": "7580c756-3ac3-45c5-8e94-169aab967a05"
      },
      "outputs": [
        {
          "output_type": "execute_result",
          "data": {
            "text/plain": [
              "16"
            ]
          },
          "metadata": {},
          "execution_count": 13
        }
      ],
      "source": [
        "euro12.shape[0] # 16 teams"
      ]
    },
    {
      "cell_type": "markdown",
      "id": "974c9458",
      "metadata": {
        "id": "974c9458"
      },
      "source": [
        "### Step 6. What is the number of columns in the dataset?"
      ]
    },
    {
      "cell_type": "code",
      "execution_count": null,
      "id": "149f8fb8",
      "metadata": {
        "id": "149f8fb8",
        "colab": {
          "base_uri": "https://localhost:8080/"
        },
        "outputId": "84c69cbd-c40e-4ae2-eff2-3a0c09609282"
      },
      "outputs": [
        {
          "output_type": "execute_result",
          "data": {
            "text/plain": [
              "35"
            ]
          },
          "metadata": {},
          "execution_count": 15
        }
      ],
      "source": [
        "euro12.shape[1] # 35 columns"
      ]
    },
    {
      "cell_type": "markdown",
      "id": "d4e7f6ab",
      "metadata": {
        "id": "d4e7f6ab"
      },
      "source": [
        "### Step 7. View only the columns Team, Yellow Cards and Red Cards and assign them to a dataframe called discipline"
      ]
    },
    {
      "cell_type": "code",
      "execution_count": null,
      "id": "7a70b451",
      "metadata": {
        "id": "7a70b451"
      },
      "outputs": [],
      "source": [
        "discipline = euro12[['Team', 'Yellow Cards', 'Red Cards']]"
      ]
    },
    {
      "cell_type": "markdown",
      "id": "e784fb9e",
      "metadata": {
        "id": "e784fb9e"
      },
      "source": [
        "### Step 8. Sort the teams by Red Cards, then to Yellow Cards"
      ]
    },
    {
      "cell_type": "code",
      "execution_count": null,
      "id": "13ef25f4",
      "metadata": {
        "scrolled": true,
        "id": "13ef25f4"
      },
      "outputs": [],
      "source": [
        "sorted_teams = discipline.sort_values(['Red Cards', 'Yellow Cards'])"
      ]
    },
    {
      "cell_type": "markdown",
      "id": "fde074ed",
      "metadata": {
        "id": "fde074ed"
      },
      "source": [
        "### Step 9. Calculate the mean Yellow Cards given per Team"
      ]
    },
    {
      "cell_type": "code",
      "execution_count": null,
      "id": "f3b78c91",
      "metadata": {
        "id": "f3b78c91",
        "colab": {
          "base_uri": "https://localhost:8080/"
        },
        "outputId": "e1e1b920-3810-4620-875b-ce214918f4cf"
      },
      "outputs": [
        {
          "output_type": "execute_result",
          "data": {
            "text/plain": [
              "7.4375"
            ]
          },
          "metadata": {},
          "execution_count": 38
        }
      ],
      "source": [
        "euro12['Yellow Cards'].mean()"
      ]
    },
    {
      "cell_type": "markdown",
      "id": "00ae5eb8",
      "metadata": {
        "id": "00ae5eb8"
      },
      "source": [
        "### Step 10. Filter teams that scored more than 6 goals"
      ]
    },
    {
      "cell_type": "code",
      "execution_count": null,
      "id": "64eed392",
      "metadata": {
        "id": "64eed392"
      },
      "outputs": [],
      "source": [
        "good_teams = euro12[euro12['Goals'] > 6]"
      ]
    },
    {
      "cell_type": "markdown",
      "id": "03aad66a",
      "metadata": {
        "id": "03aad66a"
      },
      "source": [
        "### Step 11. Select the teams that start with G"
      ]
    },
    {
      "cell_type": "code",
      "execution_count": null,
      "id": "874b15c3",
      "metadata": {
        "id": "874b15c3"
      },
      "outputs": [],
      "source": [
        "g_teams = euro12[euro12['Team'].str.startswith('G')]"
      ]
    },
    {
      "cell_type": "markdown",
      "id": "9ed901dd",
      "metadata": {
        "id": "9ed901dd"
      },
      "source": [
        "### Step 12. Select the first 7 columns"
      ]
    },
    {
      "cell_type": "code",
      "execution_count": null,
      "id": "3f87316e",
      "metadata": {
        "id": "3f87316e",
        "colab": {
          "base_uri": "https://localhost:8080/"
        },
        "outputId": "450d9068-5f5e-4239-b7cc-19ed040fb7e7"
      },
      "outputs": [
        {
          "output_type": "execute_result",
          "data": {
            "text/plain": [
              "                   Team  Goals  Shots on target  Shots off target  \\\n",
              "0               Croatia      4               13                12   \n",
              "1        Czech Republic      4               13                18   \n",
              "2               Denmark      4               10                10   \n",
              "3               England      5               11                18   \n",
              "4                France      3               22                24   \n",
              "5               Germany     10               32                32   \n",
              "6                Greece      5                8                18   \n",
              "7                 Italy      6               34                45   \n",
              "8           Netherlands      2               12                36   \n",
              "9                Poland      2               15                23   \n",
              "10             Portugal      6               22                42   \n",
              "11  Republic of Ireland      1                7                12   \n",
              "12               Russia      5                9                31   \n",
              "13                Spain     12               42                33   \n",
              "14               Sweden      5               17                19   \n",
              "15              Ukraine      2                7                26   \n",
              "\n",
              "   Shooting Accuracy % Goals-to-shots  Total shots (inc. Blocked)  \n",
              "0              51.9%            16.0%                          32  \n",
              "1              41.9%            12.9%                          39  \n",
              "2              50.0%            20.0%                          27  \n",
              "3              50.0%            17.2%                          40  \n",
              "4              37.9%             6.5%                          65  \n",
              "5              47.8%            15.6%                          80  \n",
              "6              30.7%            19.2%                          32  \n",
              "7              43.0%             7.5%                         110  \n",
              "8              25.0%             4.1%                          60  \n",
              "9              39.4%             5.2%                          48  \n",
              "10             34.3%             9.3%                          82  \n",
              "11             36.8%             5.2%                          28  \n",
              "12             22.5%            12.5%                          59  \n",
              "13             55.9%            16.0%                         100  \n",
              "14             47.2%            13.8%                          39  \n",
              "15             21.2%             6.0%                          38  "
            ],
            "text/html": [
              "\n",
              "  <div id=\"df-33d52f2d-8fc4-4910-a34d-b41bd1609c92\">\n",
              "    <div class=\"colab-df-container\">\n",
              "      <div>\n",
              "<style scoped>\n",
              "    .dataframe tbody tr th:only-of-type {\n",
              "        vertical-align: middle;\n",
              "    }\n",
              "\n",
              "    .dataframe tbody tr th {\n",
              "        vertical-align: top;\n",
              "    }\n",
              "\n",
              "    .dataframe thead th {\n",
              "        text-align: right;\n",
              "    }\n",
              "</style>\n",
              "<table border=\"1\" class=\"dataframe\">\n",
              "  <thead>\n",
              "    <tr style=\"text-align: right;\">\n",
              "      <th></th>\n",
              "      <th>Team</th>\n",
              "      <th>Goals</th>\n",
              "      <th>Shots on target</th>\n",
              "      <th>Shots off target</th>\n",
              "      <th>Shooting Accuracy</th>\n",
              "      <th>% Goals-to-shots</th>\n",
              "      <th>Total shots (inc. Blocked)</th>\n",
              "    </tr>\n",
              "  </thead>\n",
              "  <tbody>\n",
              "    <tr>\n",
              "      <th>0</th>\n",
              "      <td>Croatia</td>\n",
              "      <td>4</td>\n",
              "      <td>13</td>\n",
              "      <td>12</td>\n",
              "      <td>51.9%</td>\n",
              "      <td>16.0%</td>\n",
              "      <td>32</td>\n",
              "    </tr>\n",
              "    <tr>\n",
              "      <th>1</th>\n",
              "      <td>Czech Republic</td>\n",
              "      <td>4</td>\n",
              "      <td>13</td>\n",
              "      <td>18</td>\n",
              "      <td>41.9%</td>\n",
              "      <td>12.9%</td>\n",
              "      <td>39</td>\n",
              "    </tr>\n",
              "    <tr>\n",
              "      <th>2</th>\n",
              "      <td>Denmark</td>\n",
              "      <td>4</td>\n",
              "      <td>10</td>\n",
              "      <td>10</td>\n",
              "      <td>50.0%</td>\n",
              "      <td>20.0%</td>\n",
              "      <td>27</td>\n",
              "    </tr>\n",
              "    <tr>\n",
              "      <th>3</th>\n",
              "      <td>England</td>\n",
              "      <td>5</td>\n",
              "      <td>11</td>\n",
              "      <td>18</td>\n",
              "      <td>50.0%</td>\n",
              "      <td>17.2%</td>\n",
              "      <td>40</td>\n",
              "    </tr>\n",
              "    <tr>\n",
              "      <th>4</th>\n",
              "      <td>France</td>\n",
              "      <td>3</td>\n",
              "      <td>22</td>\n",
              "      <td>24</td>\n",
              "      <td>37.9%</td>\n",
              "      <td>6.5%</td>\n",
              "      <td>65</td>\n",
              "    </tr>\n",
              "    <tr>\n",
              "      <th>5</th>\n",
              "      <td>Germany</td>\n",
              "      <td>10</td>\n",
              "      <td>32</td>\n",
              "      <td>32</td>\n",
              "      <td>47.8%</td>\n",
              "      <td>15.6%</td>\n",
              "      <td>80</td>\n",
              "    </tr>\n",
              "    <tr>\n",
              "      <th>6</th>\n",
              "      <td>Greece</td>\n",
              "      <td>5</td>\n",
              "      <td>8</td>\n",
              "      <td>18</td>\n",
              "      <td>30.7%</td>\n",
              "      <td>19.2%</td>\n",
              "      <td>32</td>\n",
              "    </tr>\n",
              "    <tr>\n",
              "      <th>7</th>\n",
              "      <td>Italy</td>\n",
              "      <td>6</td>\n",
              "      <td>34</td>\n",
              "      <td>45</td>\n",
              "      <td>43.0%</td>\n",
              "      <td>7.5%</td>\n",
              "      <td>110</td>\n",
              "    </tr>\n",
              "    <tr>\n",
              "      <th>8</th>\n",
              "      <td>Netherlands</td>\n",
              "      <td>2</td>\n",
              "      <td>12</td>\n",
              "      <td>36</td>\n",
              "      <td>25.0%</td>\n",
              "      <td>4.1%</td>\n",
              "      <td>60</td>\n",
              "    </tr>\n",
              "    <tr>\n",
              "      <th>9</th>\n",
              "      <td>Poland</td>\n",
              "      <td>2</td>\n",
              "      <td>15</td>\n",
              "      <td>23</td>\n",
              "      <td>39.4%</td>\n",
              "      <td>5.2%</td>\n",
              "      <td>48</td>\n",
              "    </tr>\n",
              "    <tr>\n",
              "      <th>10</th>\n",
              "      <td>Portugal</td>\n",
              "      <td>6</td>\n",
              "      <td>22</td>\n",
              "      <td>42</td>\n",
              "      <td>34.3%</td>\n",
              "      <td>9.3%</td>\n",
              "      <td>82</td>\n",
              "    </tr>\n",
              "    <tr>\n",
              "      <th>11</th>\n",
              "      <td>Republic of Ireland</td>\n",
              "      <td>1</td>\n",
              "      <td>7</td>\n",
              "      <td>12</td>\n",
              "      <td>36.8%</td>\n",
              "      <td>5.2%</td>\n",
              "      <td>28</td>\n",
              "    </tr>\n",
              "    <tr>\n",
              "      <th>12</th>\n",
              "      <td>Russia</td>\n",
              "      <td>5</td>\n",
              "      <td>9</td>\n",
              "      <td>31</td>\n",
              "      <td>22.5%</td>\n",
              "      <td>12.5%</td>\n",
              "      <td>59</td>\n",
              "    </tr>\n",
              "    <tr>\n",
              "      <th>13</th>\n",
              "      <td>Spain</td>\n",
              "      <td>12</td>\n",
              "      <td>42</td>\n",
              "      <td>33</td>\n",
              "      <td>55.9%</td>\n",
              "      <td>16.0%</td>\n",
              "      <td>100</td>\n",
              "    </tr>\n",
              "    <tr>\n",
              "      <th>14</th>\n",
              "      <td>Sweden</td>\n",
              "      <td>5</td>\n",
              "      <td>17</td>\n",
              "      <td>19</td>\n",
              "      <td>47.2%</td>\n",
              "      <td>13.8%</td>\n",
              "      <td>39</td>\n",
              "    </tr>\n",
              "    <tr>\n",
              "      <th>15</th>\n",
              "      <td>Ukraine</td>\n",
              "      <td>2</td>\n",
              "      <td>7</td>\n",
              "      <td>26</td>\n",
              "      <td>21.2%</td>\n",
              "      <td>6.0%</td>\n",
              "      <td>38</td>\n",
              "    </tr>\n",
              "  </tbody>\n",
              "</table>\n",
              "</div>\n",
              "      <button class=\"colab-df-convert\" onclick=\"convertToInteractive('df-33d52f2d-8fc4-4910-a34d-b41bd1609c92')\"\n",
              "              title=\"Convert this dataframe to an interactive table.\"\n",
              "              style=\"display:none;\">\n",
              "        \n",
              "  <svg xmlns=\"http://www.w3.org/2000/svg\" height=\"24px\"viewBox=\"0 0 24 24\"\n",
              "       width=\"24px\">\n",
              "    <path d=\"M0 0h24v24H0V0z\" fill=\"none\"/>\n",
              "    <path d=\"M18.56 5.44l.94 2.06.94-2.06 2.06-.94-2.06-.94-.94-2.06-.94 2.06-2.06.94zm-11 1L8.5 8.5l.94-2.06 2.06-.94-2.06-.94L8.5 2.5l-.94 2.06-2.06.94zm10 10l.94 2.06.94-2.06 2.06-.94-2.06-.94-.94-2.06-.94 2.06-2.06.94z\"/><path d=\"M17.41 7.96l-1.37-1.37c-.4-.4-.92-.59-1.43-.59-.52 0-1.04.2-1.43.59L10.3 9.45l-7.72 7.72c-.78.78-.78 2.05 0 2.83L4 21.41c.39.39.9.59 1.41.59.51 0 1.02-.2 1.41-.59l7.78-7.78 2.81-2.81c.8-.78.8-2.07 0-2.86zM5.41 20L4 18.59l7.72-7.72 1.47 1.35L5.41 20z\"/>\n",
              "  </svg>\n",
              "      </button>\n",
              "      \n",
              "  <style>\n",
              "    .colab-df-container {\n",
              "      display:flex;\n",
              "      flex-wrap:wrap;\n",
              "      gap: 12px;\n",
              "    }\n",
              "\n",
              "    .colab-df-convert {\n",
              "      background-color: #E8F0FE;\n",
              "      border: none;\n",
              "      border-radius: 50%;\n",
              "      cursor: pointer;\n",
              "      display: none;\n",
              "      fill: #1967D2;\n",
              "      height: 32px;\n",
              "      padding: 0 0 0 0;\n",
              "      width: 32px;\n",
              "    }\n",
              "\n",
              "    .colab-df-convert:hover {\n",
              "      background-color: #E2EBFA;\n",
              "      box-shadow: 0px 1px 2px rgba(60, 64, 67, 0.3), 0px 1px 3px 1px rgba(60, 64, 67, 0.15);\n",
              "      fill: #174EA6;\n",
              "    }\n",
              "\n",
              "    [theme=dark] .colab-df-convert {\n",
              "      background-color: #3B4455;\n",
              "      fill: #D2E3FC;\n",
              "    }\n",
              "\n",
              "    [theme=dark] .colab-df-convert:hover {\n",
              "      background-color: #434B5C;\n",
              "      box-shadow: 0px 1px 3px 1px rgba(0, 0, 0, 0.15);\n",
              "      filter: drop-shadow(0px 1px 2px rgba(0, 0, 0, 0.3));\n",
              "      fill: #FFFFFF;\n",
              "    }\n",
              "  </style>\n",
              "\n",
              "      <script>\n",
              "        const buttonEl =\n",
              "          document.querySelector('#df-33d52f2d-8fc4-4910-a34d-b41bd1609c92 button.colab-df-convert');\n",
              "        buttonEl.style.display =\n",
              "          google.colab.kernel.accessAllowed ? 'block' : 'none';\n",
              "\n",
              "        async function convertToInteractive(key) {\n",
              "          const element = document.querySelector('#df-33d52f2d-8fc4-4910-a34d-b41bd1609c92');\n",
              "          const dataTable =\n",
              "            await google.colab.kernel.invokeFunction('convertToInteractive',\n",
              "                                                     [key], {});\n",
              "          if (!dataTable) return;\n",
              "\n",
              "          const docLinkHtml = 'Like what you see? Visit the ' +\n",
              "            '<a target=\"_blank\" href=https://colab.research.google.com/notebooks/data_table.ipynb>data table notebook</a>'\n",
              "            + ' to learn more about interactive tables.';\n",
              "          element.innerHTML = '';\n",
              "          dataTable['output_type'] = 'display_data';\n",
              "          await google.colab.output.renderOutput(dataTable, element);\n",
              "          const docLink = document.createElement('div');\n",
              "          docLink.innerHTML = docLinkHtml;\n",
              "          element.appendChild(docLink);\n",
              "        }\n",
              "      </script>\n",
              "    </div>\n",
              "  </div>\n",
              "  "
            ]
          },
          "metadata": {},
          "execution_count": 58
        }
      ],
      "source": [
        "euro12.iloc[:, 0:7]"
      ]
    },
    {
      "cell_type": "markdown",
      "id": "15593c76",
      "metadata": {
        "id": "15593c76"
      },
      "source": [
        "### Step 13. Select all columns except the last 3."
      ]
    },
    {
      "cell_type": "code",
      "execution_count": null,
      "id": "4c755212",
      "metadata": {
        "id": "4c755212",
        "colab": {
          "base_uri": "https://localhost:8080/"
        },
        "outputId": "65f9b43a-2235-4b05-c875-28dbe6c72944"
      },
      "outputs": [
        {
          "output_type": "execute_result",
          "data": {
            "text/plain": [
              "                   Team  Goals  Shots on target  Shots off target  \\\n",
              "0               Croatia      4               13                12   \n",
              "1        Czech Republic      4               13                18   \n",
              "2               Denmark      4               10                10   \n",
              "3               England      5               11                18   \n",
              "4                France      3               22                24   \n",
              "5               Germany     10               32                32   \n",
              "6                Greece      5                8                18   \n",
              "7                 Italy      6               34                45   \n",
              "8           Netherlands      2               12                36   \n",
              "9                Poland      2               15                23   \n",
              "10             Portugal      6               22                42   \n",
              "11  Republic of Ireland      1                7                12   \n",
              "12               Russia      5                9                31   \n",
              "13                Spain     12               42                33   \n",
              "14               Sweden      5               17                19   \n",
              "15              Ukraine      2                7                26   \n",
              "\n",
              "   Shooting Accuracy % Goals-to-shots  Total shots (inc. Blocked)  \\\n",
              "0              51.9%            16.0%                          32   \n",
              "1              41.9%            12.9%                          39   \n",
              "2              50.0%            20.0%                          27   \n",
              "3              50.0%            17.2%                          40   \n",
              "4              37.9%             6.5%                          65   \n",
              "5              47.8%            15.6%                          80   \n",
              "6              30.7%            19.2%                          32   \n",
              "7              43.0%             7.5%                         110   \n",
              "8              25.0%             4.1%                          60   \n",
              "9              39.4%             5.2%                          48   \n",
              "10             34.3%             9.3%                          82   \n",
              "11             36.8%             5.2%                          28   \n",
              "12             22.5%            12.5%                          59   \n",
              "13             55.9%            16.0%                         100   \n",
              "14             47.2%            13.8%                          39   \n",
              "15             21.2%             6.0%                          38   \n",
              "\n",
              "    Hit Woodwork  Penalty goals  Penalties not scored  ...  Clean Sheets  \\\n",
              "0              0              0                     0  ...             0   \n",
              "1              0              0                     0  ...             1   \n",
              "2              1              0                     0  ...             1   \n",
              "3              0              0                     0  ...             2   \n",
              "4              1              0                     0  ...             1   \n",
              "5              2              1                     0  ...             1   \n",
              "6              1              1                     1  ...             1   \n",
              "7              2              0                     0  ...             2   \n",
              "8              2              0                     0  ...             0   \n",
              "9              0              0                     0  ...             0   \n",
              "10             6              0                     0  ...             2   \n",
              "11             0              0                     0  ...             0   \n",
              "12             2              0                     0  ...             0   \n",
              "13             0              1                     0  ...             5   \n",
              "14             3              0                     0  ...             1   \n",
              "15             0              0                     0  ...             0   \n",
              "\n",
              "    Blocks  Goals conceded Saves made  Saves-to-shots ratio  Fouls Won  \\\n",
              "0       10               3         13                 81.3%         41   \n",
              "1       10               6          9                 60.1%         53   \n",
              "2       10               5         10                 66.7%         25   \n",
              "3       29               3         22                 88.1%         43   \n",
              "4        7               5          6                 54.6%         36   \n",
              "5       11               6         10                 62.6%         63   \n",
              "6       23               7         13                 65.1%         67   \n",
              "7       18               7         20                 74.1%        101   \n",
              "8        9               5         12                 70.6%         35   \n",
              "9        8               3          6                 66.7%         48   \n",
              "10      11               4         10                 71.5%         73   \n",
              "11      23               9         17                 65.4%         43   \n",
              "12       8               3         10                 77.0%         34   \n",
              "13       8               1         15                 93.8%        102   \n",
              "14      12               5          8                 61.6%         35   \n",
              "15       4               4         13                 76.5%         48   \n",
              "\n",
              "    Fouls Conceded  Offsides  Yellow Cards  Red Cards  \n",
              "0               62         2             9          0  \n",
              "1               73         8             7          0  \n",
              "2               38         8             4          0  \n",
              "3               45         6             5          0  \n",
              "4               51         5             6          0  \n",
              "5               49        12             4          0  \n",
              "6               48        12             9          1  \n",
              "7               89        16            16          0  \n",
              "8               30         3             5          0  \n",
              "9               56         3             7          1  \n",
              "10              90        10            12          0  \n",
              "11              51        11             6          1  \n",
              "12              43         4             6          0  \n",
              "13              83        19            11          0  \n",
              "14              51         7             7          0  \n",
              "15              31         4             5          0  \n",
              "\n",
              "[16 rows x 32 columns]"
            ],
            "text/html": [
              "\n",
              "  <div id=\"df-b05f018d-5a30-4bd8-adb0-bc05865f640a\">\n",
              "    <div class=\"colab-df-container\">\n",
              "      <div>\n",
              "<style scoped>\n",
              "    .dataframe tbody tr th:only-of-type {\n",
              "        vertical-align: middle;\n",
              "    }\n",
              "\n",
              "    .dataframe tbody tr th {\n",
              "        vertical-align: top;\n",
              "    }\n",
              "\n",
              "    .dataframe thead th {\n",
              "        text-align: right;\n",
              "    }\n",
              "</style>\n",
              "<table border=\"1\" class=\"dataframe\">\n",
              "  <thead>\n",
              "    <tr style=\"text-align: right;\">\n",
              "      <th></th>\n",
              "      <th>Team</th>\n",
              "      <th>Goals</th>\n",
              "      <th>Shots on target</th>\n",
              "      <th>Shots off target</th>\n",
              "      <th>Shooting Accuracy</th>\n",
              "      <th>% Goals-to-shots</th>\n",
              "      <th>Total shots (inc. Blocked)</th>\n",
              "      <th>Hit Woodwork</th>\n",
              "      <th>Penalty goals</th>\n",
              "      <th>Penalties not scored</th>\n",
              "      <th>...</th>\n",
              "      <th>Clean Sheets</th>\n",
              "      <th>Blocks</th>\n",
              "      <th>Goals conceded</th>\n",
              "      <th>Saves made</th>\n",
              "      <th>Saves-to-shots ratio</th>\n",
              "      <th>Fouls Won</th>\n",
              "      <th>Fouls Conceded</th>\n",
              "      <th>Offsides</th>\n",
              "      <th>Yellow Cards</th>\n",
              "      <th>Red Cards</th>\n",
              "    </tr>\n",
              "  </thead>\n",
              "  <tbody>\n",
              "    <tr>\n",
              "      <th>0</th>\n",
              "      <td>Croatia</td>\n",
              "      <td>4</td>\n",
              "      <td>13</td>\n",
              "      <td>12</td>\n",
              "      <td>51.9%</td>\n",
              "      <td>16.0%</td>\n",
              "      <td>32</td>\n",
              "      <td>0</td>\n",
              "      <td>0</td>\n",
              "      <td>0</td>\n",
              "      <td>...</td>\n",
              "      <td>0</td>\n",
              "      <td>10</td>\n",
              "      <td>3</td>\n",
              "      <td>13</td>\n",
              "      <td>81.3%</td>\n",
              "      <td>41</td>\n",
              "      <td>62</td>\n",
              "      <td>2</td>\n",
              "      <td>9</td>\n",
              "      <td>0</td>\n",
              "    </tr>\n",
              "    <tr>\n",
              "      <th>1</th>\n",
              "      <td>Czech Republic</td>\n",
              "      <td>4</td>\n",
              "      <td>13</td>\n",
              "      <td>18</td>\n",
              "      <td>41.9%</td>\n",
              "      <td>12.9%</td>\n",
              "      <td>39</td>\n",
              "      <td>0</td>\n",
              "      <td>0</td>\n",
              "      <td>0</td>\n",
              "      <td>...</td>\n",
              "      <td>1</td>\n",
              "      <td>10</td>\n",
              "      <td>6</td>\n",
              "      <td>9</td>\n",
              "      <td>60.1%</td>\n",
              "      <td>53</td>\n",
              "      <td>73</td>\n",
              "      <td>8</td>\n",
              "      <td>7</td>\n",
              "      <td>0</td>\n",
              "    </tr>\n",
              "    <tr>\n",
              "      <th>2</th>\n",
              "      <td>Denmark</td>\n",
              "      <td>4</td>\n",
              "      <td>10</td>\n",
              "      <td>10</td>\n",
              "      <td>50.0%</td>\n",
              "      <td>20.0%</td>\n",
              "      <td>27</td>\n",
              "      <td>1</td>\n",
              "      <td>0</td>\n",
              "      <td>0</td>\n",
              "      <td>...</td>\n",
              "      <td>1</td>\n",
              "      <td>10</td>\n",
              "      <td>5</td>\n",
              "      <td>10</td>\n",
              "      <td>66.7%</td>\n",
              "      <td>25</td>\n",
              "      <td>38</td>\n",
              "      <td>8</td>\n",
              "      <td>4</td>\n",
              "      <td>0</td>\n",
              "    </tr>\n",
              "    <tr>\n",
              "      <th>3</th>\n",
              "      <td>England</td>\n",
              "      <td>5</td>\n",
              "      <td>11</td>\n",
              "      <td>18</td>\n",
              "      <td>50.0%</td>\n",
              "      <td>17.2%</td>\n",
              "      <td>40</td>\n",
              "      <td>0</td>\n",
              "      <td>0</td>\n",
              "      <td>0</td>\n",
              "      <td>...</td>\n",
              "      <td>2</td>\n",
              "      <td>29</td>\n",
              "      <td>3</td>\n",
              "      <td>22</td>\n",
              "      <td>88.1%</td>\n",
              "      <td>43</td>\n",
              "      <td>45</td>\n",
              "      <td>6</td>\n",
              "      <td>5</td>\n",
              "      <td>0</td>\n",
              "    </tr>\n",
              "    <tr>\n",
              "      <th>4</th>\n",
              "      <td>France</td>\n",
              "      <td>3</td>\n",
              "      <td>22</td>\n",
              "      <td>24</td>\n",
              "      <td>37.9%</td>\n",
              "      <td>6.5%</td>\n",
              "      <td>65</td>\n",
              "      <td>1</td>\n",
              "      <td>0</td>\n",
              "      <td>0</td>\n",
              "      <td>...</td>\n",
              "      <td>1</td>\n",
              "      <td>7</td>\n",
              "      <td>5</td>\n",
              "      <td>6</td>\n",
              "      <td>54.6%</td>\n",
              "      <td>36</td>\n",
              "      <td>51</td>\n",
              "      <td>5</td>\n",
              "      <td>6</td>\n",
              "      <td>0</td>\n",
              "    </tr>\n",
              "    <tr>\n",
              "      <th>5</th>\n",
              "      <td>Germany</td>\n",
              "      <td>10</td>\n",
              "      <td>32</td>\n",
              "      <td>32</td>\n",
              "      <td>47.8%</td>\n",
              "      <td>15.6%</td>\n",
              "      <td>80</td>\n",
              "      <td>2</td>\n",
              "      <td>1</td>\n",
              "      <td>0</td>\n",
              "      <td>...</td>\n",
              "      <td>1</td>\n",
              "      <td>11</td>\n",
              "      <td>6</td>\n",
              "      <td>10</td>\n",
              "      <td>62.6%</td>\n",
              "      <td>63</td>\n",
              "      <td>49</td>\n",
              "      <td>12</td>\n",
              "      <td>4</td>\n",
              "      <td>0</td>\n",
              "    </tr>\n",
              "    <tr>\n",
              "      <th>6</th>\n",
              "      <td>Greece</td>\n",
              "      <td>5</td>\n",
              "      <td>8</td>\n",
              "      <td>18</td>\n",
              "      <td>30.7%</td>\n",
              "      <td>19.2%</td>\n",
              "      <td>32</td>\n",
              "      <td>1</td>\n",
              "      <td>1</td>\n",
              "      <td>1</td>\n",
              "      <td>...</td>\n",
              "      <td>1</td>\n",
              "      <td>23</td>\n",
              "      <td>7</td>\n",
              "      <td>13</td>\n",
              "      <td>65.1%</td>\n",
              "      <td>67</td>\n",
              "      <td>48</td>\n",
              "      <td>12</td>\n",
              "      <td>9</td>\n",
              "      <td>1</td>\n",
              "    </tr>\n",
              "    <tr>\n",
              "      <th>7</th>\n",
              "      <td>Italy</td>\n",
              "      <td>6</td>\n",
              "      <td>34</td>\n",
              "      <td>45</td>\n",
              "      <td>43.0%</td>\n",
              "      <td>7.5%</td>\n",
              "      <td>110</td>\n",
              "      <td>2</td>\n",
              "      <td>0</td>\n",
              "      <td>0</td>\n",
              "      <td>...</td>\n",
              "      <td>2</td>\n",
              "      <td>18</td>\n",
              "      <td>7</td>\n",
              "      <td>20</td>\n",
              "      <td>74.1%</td>\n",
              "      <td>101</td>\n",
              "      <td>89</td>\n",
              "      <td>16</td>\n",
              "      <td>16</td>\n",
              "      <td>0</td>\n",
              "    </tr>\n",
              "    <tr>\n",
              "      <th>8</th>\n",
              "      <td>Netherlands</td>\n",
              "      <td>2</td>\n",
              "      <td>12</td>\n",
              "      <td>36</td>\n",
              "      <td>25.0%</td>\n",
              "      <td>4.1%</td>\n",
              "      <td>60</td>\n",
              "      <td>2</td>\n",
              "      <td>0</td>\n",
              "      <td>0</td>\n",
              "      <td>...</td>\n",
              "      <td>0</td>\n",
              "      <td>9</td>\n",
              "      <td>5</td>\n",
              "      <td>12</td>\n",
              "      <td>70.6%</td>\n",
              "      <td>35</td>\n",
              "      <td>30</td>\n",
              "      <td>3</td>\n",
              "      <td>5</td>\n",
              "      <td>0</td>\n",
              "    </tr>\n",
              "    <tr>\n",
              "      <th>9</th>\n",
              "      <td>Poland</td>\n",
              "      <td>2</td>\n",
              "      <td>15</td>\n",
              "      <td>23</td>\n",
              "      <td>39.4%</td>\n",
              "      <td>5.2%</td>\n",
              "      <td>48</td>\n",
              "      <td>0</td>\n",
              "      <td>0</td>\n",
              "      <td>0</td>\n",
              "      <td>...</td>\n",
              "      <td>0</td>\n",
              "      <td>8</td>\n",
              "      <td>3</td>\n",
              "      <td>6</td>\n",
              "      <td>66.7%</td>\n",
              "      <td>48</td>\n",
              "      <td>56</td>\n",
              "      <td>3</td>\n",
              "      <td>7</td>\n",
              "      <td>1</td>\n",
              "    </tr>\n",
              "    <tr>\n",
              "      <th>10</th>\n",
              "      <td>Portugal</td>\n",
              "      <td>6</td>\n",
              "      <td>22</td>\n",
              "      <td>42</td>\n",
              "      <td>34.3%</td>\n",
              "      <td>9.3%</td>\n",
              "      <td>82</td>\n",
              "      <td>6</td>\n",
              "      <td>0</td>\n",
              "      <td>0</td>\n",
              "      <td>...</td>\n",
              "      <td>2</td>\n",
              "      <td>11</td>\n",
              "      <td>4</td>\n",
              "      <td>10</td>\n",
              "      <td>71.5%</td>\n",
              "      <td>73</td>\n",
              "      <td>90</td>\n",
              "      <td>10</td>\n",
              "      <td>12</td>\n",
              "      <td>0</td>\n",
              "    </tr>\n",
              "    <tr>\n",
              "      <th>11</th>\n",
              "      <td>Republic of Ireland</td>\n",
              "      <td>1</td>\n",
              "      <td>7</td>\n",
              "      <td>12</td>\n",
              "      <td>36.8%</td>\n",
              "      <td>5.2%</td>\n",
              "      <td>28</td>\n",
              "      <td>0</td>\n",
              "      <td>0</td>\n",
              "      <td>0</td>\n",
              "      <td>...</td>\n",
              "      <td>0</td>\n",
              "      <td>23</td>\n",
              "      <td>9</td>\n",
              "      <td>17</td>\n",
              "      <td>65.4%</td>\n",
              "      <td>43</td>\n",
              "      <td>51</td>\n",
              "      <td>11</td>\n",
              "      <td>6</td>\n",
              "      <td>1</td>\n",
              "    </tr>\n",
              "    <tr>\n",
              "      <th>12</th>\n",
              "      <td>Russia</td>\n",
              "      <td>5</td>\n",
              "      <td>9</td>\n",
              "      <td>31</td>\n",
              "      <td>22.5%</td>\n",
              "      <td>12.5%</td>\n",
              "      <td>59</td>\n",
              "      <td>2</td>\n",
              "      <td>0</td>\n",
              "      <td>0</td>\n",
              "      <td>...</td>\n",
              "      <td>0</td>\n",
              "      <td>8</td>\n",
              "      <td>3</td>\n",
              "      <td>10</td>\n",
              "      <td>77.0%</td>\n",
              "      <td>34</td>\n",
              "      <td>43</td>\n",
              "      <td>4</td>\n",
              "      <td>6</td>\n",
              "      <td>0</td>\n",
              "    </tr>\n",
              "    <tr>\n",
              "      <th>13</th>\n",
              "      <td>Spain</td>\n",
              "      <td>12</td>\n",
              "      <td>42</td>\n",
              "      <td>33</td>\n",
              "      <td>55.9%</td>\n",
              "      <td>16.0%</td>\n",
              "      <td>100</td>\n",
              "      <td>0</td>\n",
              "      <td>1</td>\n",
              "      <td>0</td>\n",
              "      <td>...</td>\n",
              "      <td>5</td>\n",
              "      <td>8</td>\n",
              "      <td>1</td>\n",
              "      <td>15</td>\n",
              "      <td>93.8%</td>\n",
              "      <td>102</td>\n",
              "      <td>83</td>\n",
              "      <td>19</td>\n",
              "      <td>11</td>\n",
              "      <td>0</td>\n",
              "    </tr>\n",
              "    <tr>\n",
              "      <th>14</th>\n",
              "      <td>Sweden</td>\n",
              "      <td>5</td>\n",
              "      <td>17</td>\n",
              "      <td>19</td>\n",
              "      <td>47.2%</td>\n",
              "      <td>13.8%</td>\n",
              "      <td>39</td>\n",
              "      <td>3</td>\n",
              "      <td>0</td>\n",
              "      <td>0</td>\n",
              "      <td>...</td>\n",
              "      <td>1</td>\n",
              "      <td>12</td>\n",
              "      <td>5</td>\n",
              "      <td>8</td>\n",
              "      <td>61.6%</td>\n",
              "      <td>35</td>\n",
              "      <td>51</td>\n",
              "      <td>7</td>\n",
              "      <td>7</td>\n",
              "      <td>0</td>\n",
              "    </tr>\n",
              "    <tr>\n",
              "      <th>15</th>\n",
              "      <td>Ukraine</td>\n",
              "      <td>2</td>\n",
              "      <td>7</td>\n",
              "      <td>26</td>\n",
              "      <td>21.2%</td>\n",
              "      <td>6.0%</td>\n",
              "      <td>38</td>\n",
              "      <td>0</td>\n",
              "      <td>0</td>\n",
              "      <td>0</td>\n",
              "      <td>...</td>\n",
              "      <td>0</td>\n",
              "      <td>4</td>\n",
              "      <td>4</td>\n",
              "      <td>13</td>\n",
              "      <td>76.5%</td>\n",
              "      <td>48</td>\n",
              "      <td>31</td>\n",
              "      <td>4</td>\n",
              "      <td>5</td>\n",
              "      <td>0</td>\n",
              "    </tr>\n",
              "  </tbody>\n",
              "</table>\n",
              "<p>16 rows × 32 columns</p>\n",
              "</div>\n",
              "      <button class=\"colab-df-convert\" onclick=\"convertToInteractive('df-b05f018d-5a30-4bd8-adb0-bc05865f640a')\"\n",
              "              title=\"Convert this dataframe to an interactive table.\"\n",
              "              style=\"display:none;\">\n",
              "        \n",
              "  <svg xmlns=\"http://www.w3.org/2000/svg\" height=\"24px\"viewBox=\"0 0 24 24\"\n",
              "       width=\"24px\">\n",
              "    <path d=\"M0 0h24v24H0V0z\" fill=\"none\"/>\n",
              "    <path d=\"M18.56 5.44l.94 2.06.94-2.06 2.06-.94-2.06-.94-.94-2.06-.94 2.06-2.06.94zm-11 1L8.5 8.5l.94-2.06 2.06-.94-2.06-.94L8.5 2.5l-.94 2.06-2.06.94zm10 10l.94 2.06.94-2.06 2.06-.94-2.06-.94-.94-2.06-.94 2.06-2.06.94z\"/><path d=\"M17.41 7.96l-1.37-1.37c-.4-.4-.92-.59-1.43-.59-.52 0-1.04.2-1.43.59L10.3 9.45l-7.72 7.72c-.78.78-.78 2.05 0 2.83L4 21.41c.39.39.9.59 1.41.59.51 0 1.02-.2 1.41-.59l7.78-7.78 2.81-2.81c.8-.78.8-2.07 0-2.86zM5.41 20L4 18.59l7.72-7.72 1.47 1.35L5.41 20z\"/>\n",
              "  </svg>\n",
              "      </button>\n",
              "      \n",
              "  <style>\n",
              "    .colab-df-container {\n",
              "      display:flex;\n",
              "      flex-wrap:wrap;\n",
              "      gap: 12px;\n",
              "    }\n",
              "\n",
              "    .colab-df-convert {\n",
              "      background-color: #E8F0FE;\n",
              "      border: none;\n",
              "      border-radius: 50%;\n",
              "      cursor: pointer;\n",
              "      display: none;\n",
              "      fill: #1967D2;\n",
              "      height: 32px;\n",
              "      padding: 0 0 0 0;\n",
              "      width: 32px;\n",
              "    }\n",
              "\n",
              "    .colab-df-convert:hover {\n",
              "      background-color: #E2EBFA;\n",
              "      box-shadow: 0px 1px 2px rgba(60, 64, 67, 0.3), 0px 1px 3px 1px rgba(60, 64, 67, 0.15);\n",
              "      fill: #174EA6;\n",
              "    }\n",
              "\n",
              "    [theme=dark] .colab-df-convert {\n",
              "      background-color: #3B4455;\n",
              "      fill: #D2E3FC;\n",
              "    }\n",
              "\n",
              "    [theme=dark] .colab-df-convert:hover {\n",
              "      background-color: #434B5C;\n",
              "      box-shadow: 0px 1px 3px 1px rgba(0, 0, 0, 0.15);\n",
              "      filter: drop-shadow(0px 1px 2px rgba(0, 0, 0, 0.3));\n",
              "      fill: #FFFFFF;\n",
              "    }\n",
              "  </style>\n",
              "\n",
              "      <script>\n",
              "        const buttonEl =\n",
              "          document.querySelector('#df-b05f018d-5a30-4bd8-adb0-bc05865f640a button.colab-df-convert');\n",
              "        buttonEl.style.display =\n",
              "          google.colab.kernel.accessAllowed ? 'block' : 'none';\n",
              "\n",
              "        async function convertToInteractive(key) {\n",
              "          const element = document.querySelector('#df-b05f018d-5a30-4bd8-adb0-bc05865f640a');\n",
              "          const dataTable =\n",
              "            await google.colab.kernel.invokeFunction('convertToInteractive',\n",
              "                                                     [key], {});\n",
              "          if (!dataTable) return;\n",
              "\n",
              "          const docLinkHtml = 'Like what you see? Visit the ' +\n",
              "            '<a target=\"_blank\" href=https://colab.research.google.com/notebooks/data_table.ipynb>data table notebook</a>'\n",
              "            + ' to learn more about interactive tables.';\n",
              "          element.innerHTML = '';\n",
              "          dataTable['output_type'] = 'display_data';\n",
              "          await google.colab.output.renderOutput(dataTable, element);\n",
              "          const docLink = document.createElement('div');\n",
              "          docLink.innerHTML = docLinkHtml;\n",
              "          element.appendChild(docLink);\n",
              "        }\n",
              "      </script>\n",
              "    </div>\n",
              "  </div>\n",
              "  "
            ]
          },
          "metadata": {},
          "execution_count": 60
        }
      ],
      "source": [
        "euro12.iloc[:,0:-3]"
      ]
    },
    {
      "cell_type": "markdown",
      "id": "bd96dc64",
      "metadata": {
        "id": "bd96dc64"
      },
      "source": [
        "### Step 14. Present only the Shooting Accuracy from England, Italy and Russia"
      ]
    },
    {
      "cell_type": "code",
      "execution_count": null,
      "id": "aa451946",
      "metadata": {
        "id": "aa451946",
        "colab": {
          "base_uri": "https://localhost:8080/"
        },
        "outputId": "dba014f5-4c16-4ac1-e13e-38c3b7f8b534"
      },
      "outputs": [
        {
          "output_type": "execute_result",
          "data": {
            "text/plain": [
              "3     50.0%\n",
              "7     43.0%\n",
              "12    22.5%\n",
              "Name: Shooting Accuracy, dtype: object"
            ]
          },
          "metadata": {},
          "execution_count": 78
        }
      ],
      "source": [
        "euro12.loc[(euro12['Team'] == 'England') | (euro12['Team'] == 'Italy') | (euro12['Team'] == 'Russia'), 'Shooting Accuracy']"
      ]
    },
    {
      "cell_type": "markdown",
      "id": "56ffa63b",
      "metadata": {
        "id": "56ffa63b"
      },
      "source": [
        "## Section 3: Grouping"
      ]
    },
    {
      "cell_type": "markdown",
      "id": "907efa1f",
      "metadata": {
        "id": "907efa1f"
      },
      "source": [
        "### Step 1. Import the necessary libraries"
      ]
    },
    {
      "cell_type": "code",
      "execution_count": null,
      "id": "60724404",
      "metadata": {
        "id": "60724404"
      },
      "outputs": [],
      "source": [
        "import pandas as pd\n",
        "import numpy as np"
      ]
    },
    {
      "cell_type": "markdown",
      "id": "08d87139",
      "metadata": {
        "id": "08d87139"
      },
      "source": [
        "### Step 2. Import the dataset from this [address](https://raw.githubusercontent.com/justmarkham/DAT8/master/data/drinks.csv). "
      ]
    },
    {
      "cell_type": "code",
      "source": [
        "url = 'https://raw.githubusercontent.com/justmarkham/DAT8/master/data/drinks.csv'"
      ],
      "metadata": {
        "id": "NsmD8hYlMYEJ"
      },
      "id": "NsmD8hYlMYEJ",
      "execution_count": null,
      "outputs": []
    },
    {
      "cell_type": "markdown",
      "id": "ec6872ce",
      "metadata": {
        "id": "ec6872ce"
      },
      "source": [
        "### Step 3. Assign it to a variable called drinks."
      ]
    },
    {
      "cell_type": "code",
      "execution_count": null,
      "id": "4839ebdc",
      "metadata": {
        "id": "4839ebdc"
      },
      "outputs": [],
      "source": [
        "drinks = pd.read_csv(url, sep=',')"
      ]
    },
    {
      "cell_type": "markdown",
      "id": "f5797352",
      "metadata": {
        "id": "f5797352"
      },
      "source": [
        "### Step 4. Which continent drinks more beer on average?"
      ]
    },
    {
      "cell_type": "code",
      "execution_count": null,
      "id": "9598d104",
      "metadata": {
        "id": "9598d104",
        "colab": {
          "base_uri": "https://localhost:8080/"
        },
        "outputId": "9f3d5e83-b187-4a43-a51b-c5d550da1c51"
      },
      "outputs": [
        {
          "output_type": "execute_result",
          "data": {
            "text/plain": [
              "continent\n",
              "EU    193.777778\n",
              "Name: beer_servings, dtype: float64"
            ]
          },
          "metadata": {},
          "execution_count": 50
        }
      ],
      "source": [
        "groups_by_cont = drinks.groupby('continent')\n",
        "groups_by_cont['beer_servings'].agg('mean').nlargest().head(1) # EU"
      ]
    },
    {
      "cell_type": "markdown",
      "id": "7f6cc612",
      "metadata": {
        "id": "7f6cc612"
      },
      "source": [
        "### Step 5. For each continent print the statistics for wine consumption."
      ]
    },
    {
      "cell_type": "code",
      "execution_count": null,
      "id": "1ef89cb2",
      "metadata": {
        "id": "1ef89cb2",
        "colab": {
          "base_uri": "https://localhost:8080/"
        },
        "outputId": "91fc4c13-4655-4764-e134-fa933bf1f9ab"
      },
      "outputs": [
        {
          "output_type": "stream",
          "name": "stdout",
          "text": [
            "AF mean: 16.264150943396228\n",
            "AF median: 2.0\n",
            "AS mean: 9.068181818181818\n",
            "AS median: 1.0\n",
            "EU mean: 142.22222222222223\n",
            "EU median: 128.0\n",
            "OC mean: 35.625\n",
            "OC median: 8.5\n",
            "SA mean: 62.416666666666664\n",
            "SA median: 12.0\n"
          ]
        }
      ],
      "source": [
        "for name, item in groups_by_cont:\n",
        "  print(f'{name} mean: {item[\"wine_servings\"].mean()}')\n",
        "  print(f'{name} median: {item[\"wine_servings\"].median()}')"
      ]
    },
    {
      "cell_type": "markdown",
      "id": "fb845470",
      "metadata": {
        "id": "fb845470"
      },
      "source": [
        "### Step 6. Print the mean alcohol consumption per continent for every column"
      ]
    },
    {
      "cell_type": "code",
      "execution_count": null,
      "id": "4e588a9d",
      "metadata": {
        "id": "4e588a9d",
        "colab": {
          "base_uri": "https://localhost:8080/"
        },
        "outputId": "f1b55812-5c6b-4731-9616-478c8f4f6242"
      },
      "outputs": [
        {
          "output_type": "stream",
          "name": "stdout",
          "text": [
            "AF beer: 61.471698113207545\n",
            "AF spirit: 16.339622641509433\n",
            "AF wine: 16.264150943396228\n",
            "AF total: 3.0075471698113208\n",
            "AS beer: 37.04545454545455\n",
            "AS spirit: 60.84090909090909\n",
            "AS wine: 9.068181818181818\n",
            "AS total: 2.170454545454545\n",
            "EU beer: 193.77777777777777\n",
            "EU spirit: 132.55555555555554\n",
            "EU wine: 142.22222222222223\n",
            "EU total: 8.617777777777775\n",
            "OC beer: 89.6875\n",
            "OC spirit: 58.4375\n",
            "OC wine: 35.625\n",
            "OC total: 3.3812499999999996\n",
            "SA beer: 175.08333333333334\n",
            "SA spirit: 114.75\n",
            "SA wine: 62.416666666666664\n",
            "SA total: 6.308333333333334\n"
          ]
        }
      ],
      "source": [
        "for name, item in groups_by_cont:\n",
        "  print(f'{name} beer: {item[\"beer_servings\"].mean()}')\n",
        "  print(f'{name} spirit: {item[\"spirit_servings\"].mean()}')\n",
        "  print(f'{name} wine: {item[\"wine_servings\"].mean()}')\n",
        "  print(f'{name} total: {item[\"total_litres_of_pure_alcohol\"].mean()}')"
      ]
    },
    {
      "cell_type": "markdown",
      "id": "e9434abc",
      "metadata": {
        "id": "e9434abc"
      },
      "source": [
        "### Step 7. Print the median alcohol consumption per continent for every column"
      ]
    },
    {
      "cell_type": "code",
      "execution_count": null,
      "id": "34a57ae2",
      "metadata": {
        "id": "34a57ae2",
        "colab": {
          "base_uri": "https://localhost:8080/"
        },
        "outputId": "a9c59cc0-7980-4176-a671-64dff77c6bc0"
      },
      "outputs": [
        {
          "output_type": "stream",
          "name": "stdout",
          "text": [
            "AF beer: 32.0\n",
            "AF spirit: 3.0\n",
            "AF wine: 2.0\n",
            "AF total: 2.3\n",
            "AS beer: 17.5\n",
            "AS spirit: 16.0\n",
            "AS wine: 1.0\n",
            "AS total: 1.2\n",
            "EU beer: 219.0\n",
            "EU spirit: 122.0\n",
            "EU wine: 128.0\n",
            "EU total: 10.0\n",
            "OC beer: 52.5\n",
            "OC spirit: 37.0\n",
            "OC wine: 8.5\n",
            "OC total: 1.75\n",
            "SA beer: 162.5\n",
            "SA spirit: 108.5\n",
            "SA wine: 12.0\n",
            "SA total: 6.85\n"
          ]
        }
      ],
      "source": [
        "for name, item in groups_by_cont:\n",
        "  print(f'{name} beer: {item[\"beer_servings\"].median()}')\n",
        "  print(f'{name} spirit: {item[\"spirit_servings\"].median()}')\n",
        "  print(f'{name} wine: {item[\"wine_servings\"].median()}')\n",
        "  print(f'{name} total: {item[\"total_litres_of_pure_alcohol\"].median()}')"
      ]
    },
    {
      "cell_type": "markdown",
      "id": "a0ab2bd5",
      "metadata": {
        "id": "a0ab2bd5"
      },
      "source": [
        "### Step 8. Print the mean, min and max values for spirit consumption.\n",
        "#### This time output a DataFrame"
      ]
    },
    {
      "cell_type": "code",
      "execution_count": null,
      "id": "93d9779b",
      "metadata": {
        "id": "93d9779b",
        "colab": {
          "base_uri": "https://localhost:8080/"
        },
        "outputId": "7330f37a-d413-436b-e79f-67adac777a11"
      },
      "outputs": [
        {
          "output_type": "execute_result",
          "data": {
            "text/plain": [
              "          beer_servings          spirit_servings          wine_servings      \\\n",
              "                   mean min  max            mean min  max          mean min   \n",
              "continent                                                                     \n",
              "AF            61.471698   0  376       16.339623   0  152     16.264151   0   \n",
              "AS            37.045455   0  247       60.840909   0  326      9.068182   0   \n",
              "EU           193.777778   0  361      132.555556   0  373    142.222222   0   \n",
              "OC            89.687500   0  306       58.437500   0  254     35.625000   0   \n",
              "SA           175.083333  93  333      114.750000  25  302     62.416667   1   \n",
              "\n",
              "               total_litres_of_pure_alcohol             \n",
              "           max                         mean  min   max  \n",
              "continent                                               \n",
              "AF         233                     3.007547  0.0   9.1  \n",
              "AS         123                     2.170455  0.0  11.5  \n",
              "EU         370                     8.617778  0.0  14.4  \n",
              "OC         212                     3.381250  0.0  10.4  \n",
              "SA         221                     6.308333  3.8   8.3  "
            ],
            "text/html": [
              "\n",
              "  <div id=\"df-f21075d3-b1a4-4495-b09f-d77aebf807ce\">\n",
              "    <div class=\"colab-df-container\">\n",
              "      <div>\n",
              "<style scoped>\n",
              "    .dataframe tbody tr th:only-of-type {\n",
              "        vertical-align: middle;\n",
              "    }\n",
              "\n",
              "    .dataframe tbody tr th {\n",
              "        vertical-align: top;\n",
              "    }\n",
              "\n",
              "    .dataframe thead tr th {\n",
              "        text-align: left;\n",
              "    }\n",
              "\n",
              "    .dataframe thead tr:last-of-type th {\n",
              "        text-align: right;\n",
              "    }\n",
              "</style>\n",
              "<table border=\"1\" class=\"dataframe\">\n",
              "  <thead>\n",
              "    <tr>\n",
              "      <th></th>\n",
              "      <th colspan=\"3\" halign=\"left\">beer_servings</th>\n",
              "      <th colspan=\"3\" halign=\"left\">spirit_servings</th>\n",
              "      <th colspan=\"3\" halign=\"left\">wine_servings</th>\n",
              "      <th colspan=\"3\" halign=\"left\">total_litres_of_pure_alcohol</th>\n",
              "    </tr>\n",
              "    <tr>\n",
              "      <th></th>\n",
              "      <th>mean</th>\n",
              "      <th>min</th>\n",
              "      <th>max</th>\n",
              "      <th>mean</th>\n",
              "      <th>min</th>\n",
              "      <th>max</th>\n",
              "      <th>mean</th>\n",
              "      <th>min</th>\n",
              "      <th>max</th>\n",
              "      <th>mean</th>\n",
              "      <th>min</th>\n",
              "      <th>max</th>\n",
              "    </tr>\n",
              "    <tr>\n",
              "      <th>continent</th>\n",
              "      <th></th>\n",
              "      <th></th>\n",
              "      <th></th>\n",
              "      <th></th>\n",
              "      <th></th>\n",
              "      <th></th>\n",
              "      <th></th>\n",
              "      <th></th>\n",
              "      <th></th>\n",
              "      <th></th>\n",
              "      <th></th>\n",
              "      <th></th>\n",
              "    </tr>\n",
              "  </thead>\n",
              "  <tbody>\n",
              "    <tr>\n",
              "      <th>AF</th>\n",
              "      <td>61.471698</td>\n",
              "      <td>0</td>\n",
              "      <td>376</td>\n",
              "      <td>16.339623</td>\n",
              "      <td>0</td>\n",
              "      <td>152</td>\n",
              "      <td>16.264151</td>\n",
              "      <td>0</td>\n",
              "      <td>233</td>\n",
              "      <td>3.007547</td>\n",
              "      <td>0.0</td>\n",
              "      <td>9.1</td>\n",
              "    </tr>\n",
              "    <tr>\n",
              "      <th>AS</th>\n",
              "      <td>37.045455</td>\n",
              "      <td>0</td>\n",
              "      <td>247</td>\n",
              "      <td>60.840909</td>\n",
              "      <td>0</td>\n",
              "      <td>326</td>\n",
              "      <td>9.068182</td>\n",
              "      <td>0</td>\n",
              "      <td>123</td>\n",
              "      <td>2.170455</td>\n",
              "      <td>0.0</td>\n",
              "      <td>11.5</td>\n",
              "    </tr>\n",
              "    <tr>\n",
              "      <th>EU</th>\n",
              "      <td>193.777778</td>\n",
              "      <td>0</td>\n",
              "      <td>361</td>\n",
              "      <td>132.555556</td>\n",
              "      <td>0</td>\n",
              "      <td>373</td>\n",
              "      <td>142.222222</td>\n",
              "      <td>0</td>\n",
              "      <td>370</td>\n",
              "      <td>8.617778</td>\n",
              "      <td>0.0</td>\n",
              "      <td>14.4</td>\n",
              "    </tr>\n",
              "    <tr>\n",
              "      <th>OC</th>\n",
              "      <td>89.687500</td>\n",
              "      <td>0</td>\n",
              "      <td>306</td>\n",
              "      <td>58.437500</td>\n",
              "      <td>0</td>\n",
              "      <td>254</td>\n",
              "      <td>35.625000</td>\n",
              "      <td>0</td>\n",
              "      <td>212</td>\n",
              "      <td>3.381250</td>\n",
              "      <td>0.0</td>\n",
              "      <td>10.4</td>\n",
              "    </tr>\n",
              "    <tr>\n",
              "      <th>SA</th>\n",
              "      <td>175.083333</td>\n",
              "      <td>93</td>\n",
              "      <td>333</td>\n",
              "      <td>114.750000</td>\n",
              "      <td>25</td>\n",
              "      <td>302</td>\n",
              "      <td>62.416667</td>\n",
              "      <td>1</td>\n",
              "      <td>221</td>\n",
              "      <td>6.308333</td>\n",
              "      <td>3.8</td>\n",
              "      <td>8.3</td>\n",
              "    </tr>\n",
              "  </tbody>\n",
              "</table>\n",
              "</div>\n",
              "      <button class=\"colab-df-convert\" onclick=\"convertToInteractive('df-f21075d3-b1a4-4495-b09f-d77aebf807ce')\"\n",
              "              title=\"Convert this dataframe to an interactive table.\"\n",
              "              style=\"display:none;\">\n",
              "        \n",
              "  <svg xmlns=\"http://www.w3.org/2000/svg\" height=\"24px\"viewBox=\"0 0 24 24\"\n",
              "       width=\"24px\">\n",
              "    <path d=\"M0 0h24v24H0V0z\" fill=\"none\"/>\n",
              "    <path d=\"M18.56 5.44l.94 2.06.94-2.06 2.06-.94-2.06-.94-.94-2.06-.94 2.06-2.06.94zm-11 1L8.5 8.5l.94-2.06 2.06-.94-2.06-.94L8.5 2.5l-.94 2.06-2.06.94zm10 10l.94 2.06.94-2.06 2.06-.94-2.06-.94-.94-2.06-.94 2.06-2.06.94z\"/><path d=\"M17.41 7.96l-1.37-1.37c-.4-.4-.92-.59-1.43-.59-.52 0-1.04.2-1.43.59L10.3 9.45l-7.72 7.72c-.78.78-.78 2.05 0 2.83L4 21.41c.39.39.9.59 1.41.59.51 0 1.02-.2 1.41-.59l7.78-7.78 2.81-2.81c.8-.78.8-2.07 0-2.86zM5.41 20L4 18.59l7.72-7.72 1.47 1.35L5.41 20z\"/>\n",
              "  </svg>\n",
              "      </button>\n",
              "      \n",
              "  <style>\n",
              "    .colab-df-container {\n",
              "      display:flex;\n",
              "      flex-wrap:wrap;\n",
              "      gap: 12px;\n",
              "    }\n",
              "\n",
              "    .colab-df-convert {\n",
              "      background-color: #E8F0FE;\n",
              "      border: none;\n",
              "      border-radius: 50%;\n",
              "      cursor: pointer;\n",
              "      display: none;\n",
              "      fill: #1967D2;\n",
              "      height: 32px;\n",
              "      padding: 0 0 0 0;\n",
              "      width: 32px;\n",
              "    }\n",
              "\n",
              "    .colab-df-convert:hover {\n",
              "      background-color: #E2EBFA;\n",
              "      box-shadow: 0px 1px 2px rgba(60, 64, 67, 0.3), 0px 1px 3px 1px rgba(60, 64, 67, 0.15);\n",
              "      fill: #174EA6;\n",
              "    }\n",
              "\n",
              "    [theme=dark] .colab-df-convert {\n",
              "      background-color: #3B4455;\n",
              "      fill: #D2E3FC;\n",
              "    }\n",
              "\n",
              "    [theme=dark] .colab-df-convert:hover {\n",
              "      background-color: #434B5C;\n",
              "      box-shadow: 0px 1px 3px 1px rgba(0, 0, 0, 0.15);\n",
              "      filter: drop-shadow(0px 1px 2px rgba(0, 0, 0, 0.3));\n",
              "      fill: #FFFFFF;\n",
              "    }\n",
              "  </style>\n",
              "\n",
              "      <script>\n",
              "        const buttonEl =\n",
              "          document.querySelector('#df-f21075d3-b1a4-4495-b09f-d77aebf807ce button.colab-df-convert');\n",
              "        buttonEl.style.display =\n",
              "          google.colab.kernel.accessAllowed ? 'block' : 'none';\n",
              "\n",
              "        async function convertToInteractive(key) {\n",
              "          const element = document.querySelector('#df-f21075d3-b1a4-4495-b09f-d77aebf807ce');\n",
              "          const dataTable =\n",
              "            await google.colab.kernel.invokeFunction('convertToInteractive',\n",
              "                                                     [key], {});\n",
              "          if (!dataTable) return;\n",
              "\n",
              "          const docLinkHtml = 'Like what you see? Visit the ' +\n",
              "            '<a target=\"_blank\" href=https://colab.research.google.com/notebooks/data_table.ipynb>data table notebook</a>'\n",
              "            + ' to learn more about interactive tables.';\n",
              "          element.innerHTML = '';\n",
              "          dataTable['output_type'] = 'display_data';\n",
              "          await google.colab.output.renderOutput(dataTable, element);\n",
              "          const docLink = document.createElement('div');\n",
              "          docLink.innerHTML = docLinkHtml;\n",
              "          element.appendChild(docLink);\n",
              "        }\n",
              "      </script>\n",
              "    </div>\n",
              "  </div>\n",
              "  "
            ]
          },
          "metadata": {},
          "execution_count": 63
        }
      ],
      "source": [
        "groups_by_cont.agg(['mean', 'min', 'max'])"
      ]
    },
    {
      "cell_type": "markdown",
      "id": "9fe6c338",
      "metadata": {
        "id": "9fe6c338"
      },
      "source": [
        "## Section 4: Apply"
      ]
    },
    {
      "cell_type": "markdown",
      "id": "2ac338e2",
      "metadata": {
        "id": "2ac338e2"
      },
      "source": [
        "### Step 1. Import the necessary libraries"
      ]
    },
    {
      "cell_type": "code",
      "execution_count": 8,
      "id": "55a7863f",
      "metadata": {
        "id": "55a7863f"
      },
      "outputs": [],
      "source": [
        "import pandas as pd\n",
        "import numpy as np"
      ]
    },
    {
      "cell_type": "markdown",
      "id": "d7d4e41b",
      "metadata": {
        "id": "d7d4e41b"
      },
      "source": [
        "### Step 2. Import the dataset from this [address](https://raw.githubusercontent.com/guipsamora/pandas_exercises/master/04_Apply/US_Crime_Rates/US_Crime_Rates_1960_2014.csv). "
      ]
    },
    {
      "cell_type": "code",
      "source": [
        "url = 'https://raw.githubusercontent.com/guipsamora/pandas_exercises/master/04_Apply/US_Crime_Rates/US_Crime_Rates_1960_2014.csv'"
      ],
      "metadata": {
        "id": "n8jGj8sSV2TT"
      },
      "id": "n8jGj8sSV2TT",
      "execution_count": 9,
      "outputs": []
    },
    {
      "cell_type": "markdown",
      "id": "c35b9589",
      "metadata": {
        "id": "c35b9589"
      },
      "source": [
        "### Step 3. Assign it to a variable called crime."
      ]
    },
    {
      "cell_type": "code",
      "execution_count": 10,
      "id": "279afa18",
      "metadata": {
        "id": "279afa18"
      },
      "outputs": [],
      "source": [
        "crime = pd.read_csv(url, sep=',')"
      ]
    },
    {
      "cell_type": "markdown",
      "id": "8af7de8e",
      "metadata": {
        "id": "8af7de8e"
      },
      "source": [
        "### Step 4. What is the type of the columns?"
      ]
    },
    {
      "cell_type": "code",
      "execution_count": 11,
      "id": "d6b6d061",
      "metadata": {
        "id": "d6b6d061",
        "colab": {
          "base_uri": "https://localhost:8080/"
        },
        "outputId": "0796c2d6-a04e-478c-fe53-6a65b3cdf095"
      },
      "outputs": [
        {
          "output_type": "stream",
          "name": "stdout",
          "text": [
            "<class 'pandas.core.frame.DataFrame'>\n",
            "RangeIndex: 55 entries, 0 to 54\n",
            "Data columns (total 12 columns):\n",
            " #   Column              Non-Null Count  Dtype\n",
            "---  ------              --------------  -----\n",
            " 0   Year                55 non-null     int64\n",
            " 1   Population          55 non-null     int64\n",
            " 2   Total               55 non-null     int64\n",
            " 3   Violent             55 non-null     int64\n",
            " 4   Property            55 non-null     int64\n",
            " 5   Murder              55 non-null     int64\n",
            " 6   Forcible_Rape       55 non-null     int64\n",
            " 7   Robbery             55 non-null     int64\n",
            " 8   Aggravated_assault  55 non-null     int64\n",
            " 9   Burglary            55 non-null     int64\n",
            " 10  Larceny_Theft       55 non-null     int64\n",
            " 11  Vehicle_Theft       55 non-null     int64\n",
            "dtypes: int64(12)\n",
            "memory usage: 5.3 KB\n"
          ]
        }
      ],
      "source": [
        "crime.info() # int64"
      ]
    },
    {
      "cell_type": "markdown",
      "id": "0c0eda69",
      "metadata": {
        "id": "0c0eda69"
      },
      "source": [
        "##### Have you noticed that the type of Year is int64. But pandas has a different type to work with Time Series. Let's see it now.\n",
        "\n",
        "### Step 5. Convert the type of the column Year to datetime64"
      ]
    },
    {
      "cell_type": "code",
      "execution_count": 12,
      "id": "a7ddd5b4",
      "metadata": {
        "id": "a7ddd5b4"
      },
      "outputs": [],
      "source": [
        "crime['Year'] = pd.to_datetime(crime['Year'], format='%Y')"
      ]
    },
    {
      "cell_type": "markdown",
      "id": "a7bbcef2",
      "metadata": {
        "id": "a7bbcef2"
      },
      "source": [
        "### Step 6. Set the Year column as the index of the dataframe"
      ]
    },
    {
      "cell_type": "code",
      "execution_count": 13,
      "id": "00dedda7",
      "metadata": {
        "id": "00dedda7"
      },
      "outputs": [],
      "source": [
        "crime.set_index('Year', inplace=True)"
      ]
    },
    {
      "cell_type": "markdown",
      "id": "f206d331",
      "metadata": {
        "id": "f206d331"
      },
      "source": [
        "### Step 7. Delete the Total column"
      ]
    },
    {
      "cell_type": "code",
      "execution_count": null,
      "id": "1375fbfa",
      "metadata": {
        "id": "1375fbfa",
        "colab": {
          "base_uri": "https://localhost:8080/"
        },
        "outputId": "879864c7-4607-422d-d771-a397fa520d34"
      },
      "outputs": [
        {
          "output_type": "execute_result",
          "data": {
            "text/plain": [
              "            Population  Violent  Property  Murder  Forcible_Rape  Robbery  \\\n",
              "Year                                                                        \n",
              "1960-01-01   179323175   288460   3095700    9110          17190   107840   \n",
              "1961-01-01   182992000   289390   3198600    8740          17220   106670   \n",
              "1962-01-01   185771000   301510   3450700    8530          17550   110860   \n",
              "1963-01-01   188483000   316970   3792500    8640          17650   116470   \n",
              "1964-01-01   191141000   364220   4200400    9360          21420   130390   \n",
              "1965-01-01   193526000   387390   4352000    9960          23410   138690   \n",
              "1966-01-01   195576000   430180   4793300   11040          25820   157990   \n",
              "1967-01-01   197457000   499930   5403500   12240          27620   202910   \n",
              "1968-01-01   199399000   595010   6125200   13800          31670   262840   \n",
              "1969-01-01   201385000   661870   6749000   14760          37170   298850   \n",
              "1970-01-01   203235298   738820   7359200   16000          37990   349860   \n",
              "1971-01-01   206212000   816500   7771700   17780          42260   387700   \n",
              "1972-01-01   208230000   834900   7413900   18670          46850   376290   \n",
              "1973-01-01   209851000   875910   7842200   19640          51400   384220   \n",
              "1974-01-01   211392000   974720   9278700   20710          55400   442400   \n",
              "1975-01-01   213124000  1039710  10252700   20510          56090   470500   \n",
              "1976-01-01   214659000  1004210  10345500   18780          57080   427810   \n",
              "1977-01-01   216332000  1029580   9955000   19120          63500   412610   \n",
              "1978-01-01   218059000  1085550  10123400   19560          67610   426930   \n",
              "1979-01-01   220099000  1208030  11041500   21460          76390   480700   \n",
              "1980-01-01   225349264  1344520  12063700   23040          82990   565840   \n",
              "1981-01-01   229146000  1361820  12061900   22520          82500   592910   \n",
              "1982-01-01   231534000  1322390  11652000   21010          78770   553130   \n",
              "1983-01-01   233981000  1258090  10850500   19310          78920   506570   \n",
              "1984-01-01   236158000  1273280  10608500   18690          84230   485010   \n",
              "1985-01-01   238740000  1328800  11102600   18980          88670   497870   \n",
              "1986-01-01   240132887  1489169  11722700   20613          91459   542775   \n",
              "1987-01-01   242282918  1483999  12024700   20096          91110   517704   \n",
              "1988-01-01   245807000  1566220  12356900   20680          92490   542970   \n",
              "1989-01-01   248239000  1646040  12605400   21500          94500   578330   \n",
              "1990-01-01   248709873  1820130  12655500   23440         102560   639270   \n",
              "1991-01-01   252177000  1911770  12961100   24700         106590   687730   \n",
              "1992-01-01   255082000  1932270  12505900   23760         109060   672480   \n",
              "1993-01-01   257908000  1926020  12218800   24530         106010   659870   \n",
              "1994-01-01   260341000  1857670  12131900   23330         102220   618950   \n",
              "1995-01-01   262755000  1798790  12063900   21610          97470   580510   \n",
              "1996-01-01   265228572  1688540  11805300   19650          96250   535590   \n",
              "1997-01-01   267637000  1634770  11558175   18208          96153   498534   \n",
              "1998-01-01   270296000  1531044  10944590   16914          93103   446625   \n",
              "1999-01-01   272690813  1426044  10208334   15522          89411   409371   \n",
              "2000-01-01   281421906  1425486  10182586   15586          90178   408016   \n",
              "2001-01-01   285317559  1439480  10437480   16037          90863   423557   \n",
              "2002-01-01   287973924  1423677  10455277   16229          95235   420806   \n",
              "2003-01-01   290690788  1383676  10442862   16528          93883   414235   \n",
              "2004-01-01   293656842  1360088  10319386   16148          95089   401470   \n",
              "2005-01-01   296507061  1390745  10174754   16740          94347   417438   \n",
              "2006-01-01   299398484  1418043   9983568   17030          92757   447403   \n",
              "2007-01-01   301621157  1408337   9843481   16929          90427   445125   \n",
              "2008-01-01   304374846  1392628   9767915   16442          90479   443574   \n",
              "2009-01-01   307006550  1325896   9337060   15399          89241   408742   \n",
              "2010-01-01   309330219  1251248   9112625   14772          85593   369089   \n",
              "2011-01-01   311587816  1206031   9052743   14661          84175   354772   \n",
              "2012-01-01   313873685  1217067   9001992   14866          85141   355051   \n",
              "2013-01-01   316497531  1199684   8650761   14319          82109   345095   \n",
              "2014-01-01   318857056  1197987   8277829   14249          84041   325802   \n",
              "\n",
              "            Aggravated_assault  Burglary  Larceny_Theft  Vehicle_Theft  \n",
              "Year                                                                    \n",
              "1960-01-01              154320    912100        1855400         328200  \n",
              "1961-01-01              156760    949600        1913000         336000  \n",
              "1962-01-01              164570    994300        2089600         366800  \n",
              "1963-01-01              174210   1086400        2297800         408300  \n",
              "1964-01-01              203050   1213200        2514400         472800  \n",
              "1965-01-01              215330   1282500        2572600         496900  \n",
              "1966-01-01              235330   1410100        2822000         561200  \n",
              "1967-01-01              257160   1632100        3111600         659800  \n",
              "1968-01-01              286700   1858900        3482700         783600  \n",
              "1969-01-01              311090   1981900        3888600         878500  \n",
              "1970-01-01              334970   2205000        4225800         928400  \n",
              "1971-01-01              368760   2399300        4424200         948200  \n",
              "1972-01-01              393090   2375500        4151200         887200  \n",
              "1973-01-01              420650   2565500        4347900         928800  \n",
              "1974-01-01              456210   3039200        5262500         977100  \n",
              "1975-01-01              492620   3265300        5977700        1009600  \n",
              "1976-01-01              500530   3108700        6270800         966000  \n",
              "1977-01-01              534350   3071500        5905700         977700  \n",
              "1978-01-01              571460   3128300        5991000        1004100  \n",
              "1979-01-01              629480   3327700        6601000        1112800  \n",
              "1980-01-01              672650   3795200        7136900        1131700  \n",
              "1981-01-01              663900   3779700        7194400        1087800  \n",
              "1982-01-01              669480   3447100        7142500        1062400  \n",
              "1983-01-01              653290   3129900        6712800        1007900  \n",
              "1984-01-01              685350   2984400        6591900        1032200  \n",
              "1985-01-01              723250   3073300        6926400        1102900  \n",
              "1986-01-01              834322   3241410        7257153        1224137  \n",
              "1987-01-01              855088   3236184        7499900        1288674  \n",
              "1988-01-01              910090   3218100        7705900        1432900  \n",
              "1989-01-01              951710   3168200        7872400        1564800  \n",
              "1990-01-01             1054860   3073900        7945700        1635900  \n",
              "1991-01-01             1092740   3157200        8142200        1661700  \n",
              "1992-01-01             1126970   2979900        7915200        1610800  \n",
              "1993-01-01             1135610   2834800        7820900        1563100  \n",
              "1994-01-01             1113180   2712800        7879800        1539300  \n",
              "1995-01-01             1099210   2593800        7997700        1472400  \n",
              "1996-01-01             1037050   2506400        7904700        1394200  \n",
              "1997-01-01             1023201   2460526        7743760        1354189  \n",
              "1998-01-01              974402   2329950        7373886        1240754  \n",
              "1999-01-01              911740   2100739        6955520        1152075  \n",
              "2000-01-01              911706   2050992        6971590        1160002  \n",
              "2001-01-01              909023   2116531        7092267        1228391  \n",
              "2002-01-01              891407   2151252        7057370        1246646  \n",
              "2003-01-01              859030   2154834        7026802        1261226  \n",
              "2004-01-01              847381   2144446        6937089        1237851  \n",
              "2005-01-01              862220   2155448        6783447        1235859  \n",
              "2006-01-01              860853   2183746        6607013        1192809  \n",
              "2007-01-01              855856   2176140        6568572        1095769  \n",
              "2008-01-01              842134   2228474        6588046         958629  \n",
              "2009-01-01              812514   2203313        6338095         795652  \n",
              "2010-01-01              781844   2168457        6204601         739565  \n",
              "2011-01-01              752423   2185140        6151095         716508  \n",
              "2012-01-01              762009   2109932        6168874         723186  \n",
              "2013-01-01              726575   1931835        6018632         700294  \n",
              "2014-01-01              741291   1729806        5858496         689527  "
            ],
            "text/html": [
              "\n",
              "  <div id=\"df-5ea57377-46b3-437e-9f7b-21d6d50a5672\">\n",
              "    <div class=\"colab-df-container\">\n",
              "      <div>\n",
              "<style scoped>\n",
              "    .dataframe tbody tr th:only-of-type {\n",
              "        vertical-align: middle;\n",
              "    }\n",
              "\n",
              "    .dataframe tbody tr th {\n",
              "        vertical-align: top;\n",
              "    }\n",
              "\n",
              "    .dataframe thead th {\n",
              "        text-align: right;\n",
              "    }\n",
              "</style>\n",
              "<table border=\"1\" class=\"dataframe\">\n",
              "  <thead>\n",
              "    <tr style=\"text-align: right;\">\n",
              "      <th></th>\n",
              "      <th>Population</th>\n",
              "      <th>Violent</th>\n",
              "      <th>Property</th>\n",
              "      <th>Murder</th>\n",
              "      <th>Forcible_Rape</th>\n",
              "      <th>Robbery</th>\n",
              "      <th>Aggravated_assault</th>\n",
              "      <th>Burglary</th>\n",
              "      <th>Larceny_Theft</th>\n",
              "      <th>Vehicle_Theft</th>\n",
              "    </tr>\n",
              "    <tr>\n",
              "      <th>Year</th>\n",
              "      <th></th>\n",
              "      <th></th>\n",
              "      <th></th>\n",
              "      <th></th>\n",
              "      <th></th>\n",
              "      <th></th>\n",
              "      <th></th>\n",
              "      <th></th>\n",
              "      <th></th>\n",
              "      <th></th>\n",
              "    </tr>\n",
              "  </thead>\n",
              "  <tbody>\n",
              "    <tr>\n",
              "      <th>1960-01-01</th>\n",
              "      <td>179323175</td>\n",
              "      <td>288460</td>\n",
              "      <td>3095700</td>\n",
              "      <td>9110</td>\n",
              "      <td>17190</td>\n",
              "      <td>107840</td>\n",
              "      <td>154320</td>\n",
              "      <td>912100</td>\n",
              "      <td>1855400</td>\n",
              "      <td>328200</td>\n",
              "    </tr>\n",
              "    <tr>\n",
              "      <th>1961-01-01</th>\n",
              "      <td>182992000</td>\n",
              "      <td>289390</td>\n",
              "      <td>3198600</td>\n",
              "      <td>8740</td>\n",
              "      <td>17220</td>\n",
              "      <td>106670</td>\n",
              "      <td>156760</td>\n",
              "      <td>949600</td>\n",
              "      <td>1913000</td>\n",
              "      <td>336000</td>\n",
              "    </tr>\n",
              "    <tr>\n",
              "      <th>1962-01-01</th>\n",
              "      <td>185771000</td>\n",
              "      <td>301510</td>\n",
              "      <td>3450700</td>\n",
              "      <td>8530</td>\n",
              "      <td>17550</td>\n",
              "      <td>110860</td>\n",
              "      <td>164570</td>\n",
              "      <td>994300</td>\n",
              "      <td>2089600</td>\n",
              "      <td>366800</td>\n",
              "    </tr>\n",
              "    <tr>\n",
              "      <th>1963-01-01</th>\n",
              "      <td>188483000</td>\n",
              "      <td>316970</td>\n",
              "      <td>3792500</td>\n",
              "      <td>8640</td>\n",
              "      <td>17650</td>\n",
              "      <td>116470</td>\n",
              "      <td>174210</td>\n",
              "      <td>1086400</td>\n",
              "      <td>2297800</td>\n",
              "      <td>408300</td>\n",
              "    </tr>\n",
              "    <tr>\n",
              "      <th>1964-01-01</th>\n",
              "      <td>191141000</td>\n",
              "      <td>364220</td>\n",
              "      <td>4200400</td>\n",
              "      <td>9360</td>\n",
              "      <td>21420</td>\n",
              "      <td>130390</td>\n",
              "      <td>203050</td>\n",
              "      <td>1213200</td>\n",
              "      <td>2514400</td>\n",
              "      <td>472800</td>\n",
              "    </tr>\n",
              "    <tr>\n",
              "      <th>1965-01-01</th>\n",
              "      <td>193526000</td>\n",
              "      <td>387390</td>\n",
              "      <td>4352000</td>\n",
              "      <td>9960</td>\n",
              "      <td>23410</td>\n",
              "      <td>138690</td>\n",
              "      <td>215330</td>\n",
              "      <td>1282500</td>\n",
              "      <td>2572600</td>\n",
              "      <td>496900</td>\n",
              "    </tr>\n",
              "    <tr>\n",
              "      <th>1966-01-01</th>\n",
              "      <td>195576000</td>\n",
              "      <td>430180</td>\n",
              "      <td>4793300</td>\n",
              "      <td>11040</td>\n",
              "      <td>25820</td>\n",
              "      <td>157990</td>\n",
              "      <td>235330</td>\n",
              "      <td>1410100</td>\n",
              "      <td>2822000</td>\n",
              "      <td>561200</td>\n",
              "    </tr>\n",
              "    <tr>\n",
              "      <th>1967-01-01</th>\n",
              "      <td>197457000</td>\n",
              "      <td>499930</td>\n",
              "      <td>5403500</td>\n",
              "      <td>12240</td>\n",
              "      <td>27620</td>\n",
              "      <td>202910</td>\n",
              "      <td>257160</td>\n",
              "      <td>1632100</td>\n",
              "      <td>3111600</td>\n",
              "      <td>659800</td>\n",
              "    </tr>\n",
              "    <tr>\n",
              "      <th>1968-01-01</th>\n",
              "      <td>199399000</td>\n",
              "      <td>595010</td>\n",
              "      <td>6125200</td>\n",
              "      <td>13800</td>\n",
              "      <td>31670</td>\n",
              "      <td>262840</td>\n",
              "      <td>286700</td>\n",
              "      <td>1858900</td>\n",
              "      <td>3482700</td>\n",
              "      <td>783600</td>\n",
              "    </tr>\n",
              "    <tr>\n",
              "      <th>1969-01-01</th>\n",
              "      <td>201385000</td>\n",
              "      <td>661870</td>\n",
              "      <td>6749000</td>\n",
              "      <td>14760</td>\n",
              "      <td>37170</td>\n",
              "      <td>298850</td>\n",
              "      <td>311090</td>\n",
              "      <td>1981900</td>\n",
              "      <td>3888600</td>\n",
              "      <td>878500</td>\n",
              "    </tr>\n",
              "    <tr>\n",
              "      <th>1970-01-01</th>\n",
              "      <td>203235298</td>\n",
              "      <td>738820</td>\n",
              "      <td>7359200</td>\n",
              "      <td>16000</td>\n",
              "      <td>37990</td>\n",
              "      <td>349860</td>\n",
              "      <td>334970</td>\n",
              "      <td>2205000</td>\n",
              "      <td>4225800</td>\n",
              "      <td>928400</td>\n",
              "    </tr>\n",
              "    <tr>\n",
              "      <th>1971-01-01</th>\n",
              "      <td>206212000</td>\n",
              "      <td>816500</td>\n",
              "      <td>7771700</td>\n",
              "      <td>17780</td>\n",
              "      <td>42260</td>\n",
              "      <td>387700</td>\n",
              "      <td>368760</td>\n",
              "      <td>2399300</td>\n",
              "      <td>4424200</td>\n",
              "      <td>948200</td>\n",
              "    </tr>\n",
              "    <tr>\n",
              "      <th>1972-01-01</th>\n",
              "      <td>208230000</td>\n",
              "      <td>834900</td>\n",
              "      <td>7413900</td>\n",
              "      <td>18670</td>\n",
              "      <td>46850</td>\n",
              "      <td>376290</td>\n",
              "      <td>393090</td>\n",
              "      <td>2375500</td>\n",
              "      <td>4151200</td>\n",
              "      <td>887200</td>\n",
              "    </tr>\n",
              "    <tr>\n",
              "      <th>1973-01-01</th>\n",
              "      <td>209851000</td>\n",
              "      <td>875910</td>\n",
              "      <td>7842200</td>\n",
              "      <td>19640</td>\n",
              "      <td>51400</td>\n",
              "      <td>384220</td>\n",
              "      <td>420650</td>\n",
              "      <td>2565500</td>\n",
              "      <td>4347900</td>\n",
              "      <td>928800</td>\n",
              "    </tr>\n",
              "    <tr>\n",
              "      <th>1974-01-01</th>\n",
              "      <td>211392000</td>\n",
              "      <td>974720</td>\n",
              "      <td>9278700</td>\n",
              "      <td>20710</td>\n",
              "      <td>55400</td>\n",
              "      <td>442400</td>\n",
              "      <td>456210</td>\n",
              "      <td>3039200</td>\n",
              "      <td>5262500</td>\n",
              "      <td>977100</td>\n",
              "    </tr>\n",
              "    <tr>\n",
              "      <th>1975-01-01</th>\n",
              "      <td>213124000</td>\n",
              "      <td>1039710</td>\n",
              "      <td>10252700</td>\n",
              "      <td>20510</td>\n",
              "      <td>56090</td>\n",
              "      <td>470500</td>\n",
              "      <td>492620</td>\n",
              "      <td>3265300</td>\n",
              "      <td>5977700</td>\n",
              "      <td>1009600</td>\n",
              "    </tr>\n",
              "    <tr>\n",
              "      <th>1976-01-01</th>\n",
              "      <td>214659000</td>\n",
              "      <td>1004210</td>\n",
              "      <td>10345500</td>\n",
              "      <td>18780</td>\n",
              "      <td>57080</td>\n",
              "      <td>427810</td>\n",
              "      <td>500530</td>\n",
              "      <td>3108700</td>\n",
              "      <td>6270800</td>\n",
              "      <td>966000</td>\n",
              "    </tr>\n",
              "    <tr>\n",
              "      <th>1977-01-01</th>\n",
              "      <td>216332000</td>\n",
              "      <td>1029580</td>\n",
              "      <td>9955000</td>\n",
              "      <td>19120</td>\n",
              "      <td>63500</td>\n",
              "      <td>412610</td>\n",
              "      <td>534350</td>\n",
              "      <td>3071500</td>\n",
              "      <td>5905700</td>\n",
              "      <td>977700</td>\n",
              "    </tr>\n",
              "    <tr>\n",
              "      <th>1978-01-01</th>\n",
              "      <td>218059000</td>\n",
              "      <td>1085550</td>\n",
              "      <td>10123400</td>\n",
              "      <td>19560</td>\n",
              "      <td>67610</td>\n",
              "      <td>426930</td>\n",
              "      <td>571460</td>\n",
              "      <td>3128300</td>\n",
              "      <td>5991000</td>\n",
              "      <td>1004100</td>\n",
              "    </tr>\n",
              "    <tr>\n",
              "      <th>1979-01-01</th>\n",
              "      <td>220099000</td>\n",
              "      <td>1208030</td>\n",
              "      <td>11041500</td>\n",
              "      <td>21460</td>\n",
              "      <td>76390</td>\n",
              "      <td>480700</td>\n",
              "      <td>629480</td>\n",
              "      <td>3327700</td>\n",
              "      <td>6601000</td>\n",
              "      <td>1112800</td>\n",
              "    </tr>\n",
              "    <tr>\n",
              "      <th>1980-01-01</th>\n",
              "      <td>225349264</td>\n",
              "      <td>1344520</td>\n",
              "      <td>12063700</td>\n",
              "      <td>23040</td>\n",
              "      <td>82990</td>\n",
              "      <td>565840</td>\n",
              "      <td>672650</td>\n",
              "      <td>3795200</td>\n",
              "      <td>7136900</td>\n",
              "      <td>1131700</td>\n",
              "    </tr>\n",
              "    <tr>\n",
              "      <th>1981-01-01</th>\n",
              "      <td>229146000</td>\n",
              "      <td>1361820</td>\n",
              "      <td>12061900</td>\n",
              "      <td>22520</td>\n",
              "      <td>82500</td>\n",
              "      <td>592910</td>\n",
              "      <td>663900</td>\n",
              "      <td>3779700</td>\n",
              "      <td>7194400</td>\n",
              "      <td>1087800</td>\n",
              "    </tr>\n",
              "    <tr>\n",
              "      <th>1982-01-01</th>\n",
              "      <td>231534000</td>\n",
              "      <td>1322390</td>\n",
              "      <td>11652000</td>\n",
              "      <td>21010</td>\n",
              "      <td>78770</td>\n",
              "      <td>553130</td>\n",
              "      <td>669480</td>\n",
              "      <td>3447100</td>\n",
              "      <td>7142500</td>\n",
              "      <td>1062400</td>\n",
              "    </tr>\n",
              "    <tr>\n",
              "      <th>1983-01-01</th>\n",
              "      <td>233981000</td>\n",
              "      <td>1258090</td>\n",
              "      <td>10850500</td>\n",
              "      <td>19310</td>\n",
              "      <td>78920</td>\n",
              "      <td>506570</td>\n",
              "      <td>653290</td>\n",
              "      <td>3129900</td>\n",
              "      <td>6712800</td>\n",
              "      <td>1007900</td>\n",
              "    </tr>\n",
              "    <tr>\n",
              "      <th>1984-01-01</th>\n",
              "      <td>236158000</td>\n",
              "      <td>1273280</td>\n",
              "      <td>10608500</td>\n",
              "      <td>18690</td>\n",
              "      <td>84230</td>\n",
              "      <td>485010</td>\n",
              "      <td>685350</td>\n",
              "      <td>2984400</td>\n",
              "      <td>6591900</td>\n",
              "      <td>1032200</td>\n",
              "    </tr>\n",
              "    <tr>\n",
              "      <th>1985-01-01</th>\n",
              "      <td>238740000</td>\n",
              "      <td>1328800</td>\n",
              "      <td>11102600</td>\n",
              "      <td>18980</td>\n",
              "      <td>88670</td>\n",
              "      <td>497870</td>\n",
              "      <td>723250</td>\n",
              "      <td>3073300</td>\n",
              "      <td>6926400</td>\n",
              "      <td>1102900</td>\n",
              "    </tr>\n",
              "    <tr>\n",
              "      <th>1986-01-01</th>\n",
              "      <td>240132887</td>\n",
              "      <td>1489169</td>\n",
              "      <td>11722700</td>\n",
              "      <td>20613</td>\n",
              "      <td>91459</td>\n",
              "      <td>542775</td>\n",
              "      <td>834322</td>\n",
              "      <td>3241410</td>\n",
              "      <td>7257153</td>\n",
              "      <td>1224137</td>\n",
              "    </tr>\n",
              "    <tr>\n",
              "      <th>1987-01-01</th>\n",
              "      <td>242282918</td>\n",
              "      <td>1483999</td>\n",
              "      <td>12024700</td>\n",
              "      <td>20096</td>\n",
              "      <td>91110</td>\n",
              "      <td>517704</td>\n",
              "      <td>855088</td>\n",
              "      <td>3236184</td>\n",
              "      <td>7499900</td>\n",
              "      <td>1288674</td>\n",
              "    </tr>\n",
              "    <tr>\n",
              "      <th>1988-01-01</th>\n",
              "      <td>245807000</td>\n",
              "      <td>1566220</td>\n",
              "      <td>12356900</td>\n",
              "      <td>20680</td>\n",
              "      <td>92490</td>\n",
              "      <td>542970</td>\n",
              "      <td>910090</td>\n",
              "      <td>3218100</td>\n",
              "      <td>7705900</td>\n",
              "      <td>1432900</td>\n",
              "    </tr>\n",
              "    <tr>\n",
              "      <th>1989-01-01</th>\n",
              "      <td>248239000</td>\n",
              "      <td>1646040</td>\n",
              "      <td>12605400</td>\n",
              "      <td>21500</td>\n",
              "      <td>94500</td>\n",
              "      <td>578330</td>\n",
              "      <td>951710</td>\n",
              "      <td>3168200</td>\n",
              "      <td>7872400</td>\n",
              "      <td>1564800</td>\n",
              "    </tr>\n",
              "    <tr>\n",
              "      <th>1990-01-01</th>\n",
              "      <td>248709873</td>\n",
              "      <td>1820130</td>\n",
              "      <td>12655500</td>\n",
              "      <td>23440</td>\n",
              "      <td>102560</td>\n",
              "      <td>639270</td>\n",
              "      <td>1054860</td>\n",
              "      <td>3073900</td>\n",
              "      <td>7945700</td>\n",
              "      <td>1635900</td>\n",
              "    </tr>\n",
              "    <tr>\n",
              "      <th>1991-01-01</th>\n",
              "      <td>252177000</td>\n",
              "      <td>1911770</td>\n",
              "      <td>12961100</td>\n",
              "      <td>24700</td>\n",
              "      <td>106590</td>\n",
              "      <td>687730</td>\n",
              "      <td>1092740</td>\n",
              "      <td>3157200</td>\n",
              "      <td>8142200</td>\n",
              "      <td>1661700</td>\n",
              "    </tr>\n",
              "    <tr>\n",
              "      <th>1992-01-01</th>\n",
              "      <td>255082000</td>\n",
              "      <td>1932270</td>\n",
              "      <td>12505900</td>\n",
              "      <td>23760</td>\n",
              "      <td>109060</td>\n",
              "      <td>672480</td>\n",
              "      <td>1126970</td>\n",
              "      <td>2979900</td>\n",
              "      <td>7915200</td>\n",
              "      <td>1610800</td>\n",
              "    </tr>\n",
              "    <tr>\n",
              "      <th>1993-01-01</th>\n",
              "      <td>257908000</td>\n",
              "      <td>1926020</td>\n",
              "      <td>12218800</td>\n",
              "      <td>24530</td>\n",
              "      <td>106010</td>\n",
              "      <td>659870</td>\n",
              "      <td>1135610</td>\n",
              "      <td>2834800</td>\n",
              "      <td>7820900</td>\n",
              "      <td>1563100</td>\n",
              "    </tr>\n",
              "    <tr>\n",
              "      <th>1994-01-01</th>\n",
              "      <td>260341000</td>\n",
              "      <td>1857670</td>\n",
              "      <td>12131900</td>\n",
              "      <td>23330</td>\n",
              "      <td>102220</td>\n",
              "      <td>618950</td>\n",
              "      <td>1113180</td>\n",
              "      <td>2712800</td>\n",
              "      <td>7879800</td>\n",
              "      <td>1539300</td>\n",
              "    </tr>\n",
              "    <tr>\n",
              "      <th>1995-01-01</th>\n",
              "      <td>262755000</td>\n",
              "      <td>1798790</td>\n",
              "      <td>12063900</td>\n",
              "      <td>21610</td>\n",
              "      <td>97470</td>\n",
              "      <td>580510</td>\n",
              "      <td>1099210</td>\n",
              "      <td>2593800</td>\n",
              "      <td>7997700</td>\n",
              "      <td>1472400</td>\n",
              "    </tr>\n",
              "    <tr>\n",
              "      <th>1996-01-01</th>\n",
              "      <td>265228572</td>\n",
              "      <td>1688540</td>\n",
              "      <td>11805300</td>\n",
              "      <td>19650</td>\n",
              "      <td>96250</td>\n",
              "      <td>535590</td>\n",
              "      <td>1037050</td>\n",
              "      <td>2506400</td>\n",
              "      <td>7904700</td>\n",
              "      <td>1394200</td>\n",
              "    </tr>\n",
              "    <tr>\n",
              "      <th>1997-01-01</th>\n",
              "      <td>267637000</td>\n",
              "      <td>1634770</td>\n",
              "      <td>11558175</td>\n",
              "      <td>18208</td>\n",
              "      <td>96153</td>\n",
              "      <td>498534</td>\n",
              "      <td>1023201</td>\n",
              "      <td>2460526</td>\n",
              "      <td>7743760</td>\n",
              "      <td>1354189</td>\n",
              "    </tr>\n",
              "    <tr>\n",
              "      <th>1998-01-01</th>\n",
              "      <td>270296000</td>\n",
              "      <td>1531044</td>\n",
              "      <td>10944590</td>\n",
              "      <td>16914</td>\n",
              "      <td>93103</td>\n",
              "      <td>446625</td>\n",
              "      <td>974402</td>\n",
              "      <td>2329950</td>\n",
              "      <td>7373886</td>\n",
              "      <td>1240754</td>\n",
              "    </tr>\n",
              "    <tr>\n",
              "      <th>1999-01-01</th>\n",
              "      <td>272690813</td>\n",
              "      <td>1426044</td>\n",
              "      <td>10208334</td>\n",
              "      <td>15522</td>\n",
              "      <td>89411</td>\n",
              "      <td>409371</td>\n",
              "      <td>911740</td>\n",
              "      <td>2100739</td>\n",
              "      <td>6955520</td>\n",
              "      <td>1152075</td>\n",
              "    </tr>\n",
              "    <tr>\n",
              "      <th>2000-01-01</th>\n",
              "      <td>281421906</td>\n",
              "      <td>1425486</td>\n",
              "      <td>10182586</td>\n",
              "      <td>15586</td>\n",
              "      <td>90178</td>\n",
              "      <td>408016</td>\n",
              "      <td>911706</td>\n",
              "      <td>2050992</td>\n",
              "      <td>6971590</td>\n",
              "      <td>1160002</td>\n",
              "    </tr>\n",
              "    <tr>\n",
              "      <th>2001-01-01</th>\n",
              "      <td>285317559</td>\n",
              "      <td>1439480</td>\n",
              "      <td>10437480</td>\n",
              "      <td>16037</td>\n",
              "      <td>90863</td>\n",
              "      <td>423557</td>\n",
              "      <td>909023</td>\n",
              "      <td>2116531</td>\n",
              "      <td>7092267</td>\n",
              "      <td>1228391</td>\n",
              "    </tr>\n",
              "    <tr>\n",
              "      <th>2002-01-01</th>\n",
              "      <td>287973924</td>\n",
              "      <td>1423677</td>\n",
              "      <td>10455277</td>\n",
              "      <td>16229</td>\n",
              "      <td>95235</td>\n",
              "      <td>420806</td>\n",
              "      <td>891407</td>\n",
              "      <td>2151252</td>\n",
              "      <td>7057370</td>\n",
              "      <td>1246646</td>\n",
              "    </tr>\n",
              "    <tr>\n",
              "      <th>2003-01-01</th>\n",
              "      <td>290690788</td>\n",
              "      <td>1383676</td>\n",
              "      <td>10442862</td>\n",
              "      <td>16528</td>\n",
              "      <td>93883</td>\n",
              "      <td>414235</td>\n",
              "      <td>859030</td>\n",
              "      <td>2154834</td>\n",
              "      <td>7026802</td>\n",
              "      <td>1261226</td>\n",
              "    </tr>\n",
              "    <tr>\n",
              "      <th>2004-01-01</th>\n",
              "      <td>293656842</td>\n",
              "      <td>1360088</td>\n",
              "      <td>10319386</td>\n",
              "      <td>16148</td>\n",
              "      <td>95089</td>\n",
              "      <td>401470</td>\n",
              "      <td>847381</td>\n",
              "      <td>2144446</td>\n",
              "      <td>6937089</td>\n",
              "      <td>1237851</td>\n",
              "    </tr>\n",
              "    <tr>\n",
              "      <th>2005-01-01</th>\n",
              "      <td>296507061</td>\n",
              "      <td>1390745</td>\n",
              "      <td>10174754</td>\n",
              "      <td>16740</td>\n",
              "      <td>94347</td>\n",
              "      <td>417438</td>\n",
              "      <td>862220</td>\n",
              "      <td>2155448</td>\n",
              "      <td>6783447</td>\n",
              "      <td>1235859</td>\n",
              "    </tr>\n",
              "    <tr>\n",
              "      <th>2006-01-01</th>\n",
              "      <td>299398484</td>\n",
              "      <td>1418043</td>\n",
              "      <td>9983568</td>\n",
              "      <td>17030</td>\n",
              "      <td>92757</td>\n",
              "      <td>447403</td>\n",
              "      <td>860853</td>\n",
              "      <td>2183746</td>\n",
              "      <td>6607013</td>\n",
              "      <td>1192809</td>\n",
              "    </tr>\n",
              "    <tr>\n",
              "      <th>2007-01-01</th>\n",
              "      <td>301621157</td>\n",
              "      <td>1408337</td>\n",
              "      <td>9843481</td>\n",
              "      <td>16929</td>\n",
              "      <td>90427</td>\n",
              "      <td>445125</td>\n",
              "      <td>855856</td>\n",
              "      <td>2176140</td>\n",
              "      <td>6568572</td>\n",
              "      <td>1095769</td>\n",
              "    </tr>\n",
              "    <tr>\n",
              "      <th>2008-01-01</th>\n",
              "      <td>304374846</td>\n",
              "      <td>1392628</td>\n",
              "      <td>9767915</td>\n",
              "      <td>16442</td>\n",
              "      <td>90479</td>\n",
              "      <td>443574</td>\n",
              "      <td>842134</td>\n",
              "      <td>2228474</td>\n",
              "      <td>6588046</td>\n",
              "      <td>958629</td>\n",
              "    </tr>\n",
              "    <tr>\n",
              "      <th>2009-01-01</th>\n",
              "      <td>307006550</td>\n",
              "      <td>1325896</td>\n",
              "      <td>9337060</td>\n",
              "      <td>15399</td>\n",
              "      <td>89241</td>\n",
              "      <td>408742</td>\n",
              "      <td>812514</td>\n",
              "      <td>2203313</td>\n",
              "      <td>6338095</td>\n",
              "      <td>795652</td>\n",
              "    </tr>\n",
              "    <tr>\n",
              "      <th>2010-01-01</th>\n",
              "      <td>309330219</td>\n",
              "      <td>1251248</td>\n",
              "      <td>9112625</td>\n",
              "      <td>14772</td>\n",
              "      <td>85593</td>\n",
              "      <td>369089</td>\n",
              "      <td>781844</td>\n",
              "      <td>2168457</td>\n",
              "      <td>6204601</td>\n",
              "      <td>739565</td>\n",
              "    </tr>\n",
              "    <tr>\n",
              "      <th>2011-01-01</th>\n",
              "      <td>311587816</td>\n",
              "      <td>1206031</td>\n",
              "      <td>9052743</td>\n",
              "      <td>14661</td>\n",
              "      <td>84175</td>\n",
              "      <td>354772</td>\n",
              "      <td>752423</td>\n",
              "      <td>2185140</td>\n",
              "      <td>6151095</td>\n",
              "      <td>716508</td>\n",
              "    </tr>\n",
              "    <tr>\n",
              "      <th>2012-01-01</th>\n",
              "      <td>313873685</td>\n",
              "      <td>1217067</td>\n",
              "      <td>9001992</td>\n",
              "      <td>14866</td>\n",
              "      <td>85141</td>\n",
              "      <td>355051</td>\n",
              "      <td>762009</td>\n",
              "      <td>2109932</td>\n",
              "      <td>6168874</td>\n",
              "      <td>723186</td>\n",
              "    </tr>\n",
              "    <tr>\n",
              "      <th>2013-01-01</th>\n",
              "      <td>316497531</td>\n",
              "      <td>1199684</td>\n",
              "      <td>8650761</td>\n",
              "      <td>14319</td>\n",
              "      <td>82109</td>\n",
              "      <td>345095</td>\n",
              "      <td>726575</td>\n",
              "      <td>1931835</td>\n",
              "      <td>6018632</td>\n",
              "      <td>700294</td>\n",
              "    </tr>\n",
              "    <tr>\n",
              "      <th>2014-01-01</th>\n",
              "      <td>318857056</td>\n",
              "      <td>1197987</td>\n",
              "      <td>8277829</td>\n",
              "      <td>14249</td>\n",
              "      <td>84041</td>\n",
              "      <td>325802</td>\n",
              "      <td>741291</td>\n",
              "      <td>1729806</td>\n",
              "      <td>5858496</td>\n",
              "      <td>689527</td>\n",
              "    </tr>\n",
              "  </tbody>\n",
              "</table>\n",
              "</div>\n",
              "      <button class=\"colab-df-convert\" onclick=\"convertToInteractive('df-5ea57377-46b3-437e-9f7b-21d6d50a5672')\"\n",
              "              title=\"Convert this dataframe to an interactive table.\"\n",
              "              style=\"display:none;\">\n",
              "        \n",
              "  <svg xmlns=\"http://www.w3.org/2000/svg\" height=\"24px\"viewBox=\"0 0 24 24\"\n",
              "       width=\"24px\">\n",
              "    <path d=\"M0 0h24v24H0V0z\" fill=\"none\"/>\n",
              "    <path d=\"M18.56 5.44l.94 2.06.94-2.06 2.06-.94-2.06-.94-.94-2.06-.94 2.06-2.06.94zm-11 1L8.5 8.5l.94-2.06 2.06-.94-2.06-.94L8.5 2.5l-.94 2.06-2.06.94zm10 10l.94 2.06.94-2.06 2.06-.94-2.06-.94-.94-2.06-.94 2.06-2.06.94z\"/><path d=\"M17.41 7.96l-1.37-1.37c-.4-.4-.92-.59-1.43-.59-.52 0-1.04.2-1.43.59L10.3 9.45l-7.72 7.72c-.78.78-.78 2.05 0 2.83L4 21.41c.39.39.9.59 1.41.59.51 0 1.02-.2 1.41-.59l7.78-7.78 2.81-2.81c.8-.78.8-2.07 0-2.86zM5.41 20L4 18.59l7.72-7.72 1.47 1.35L5.41 20z\"/>\n",
              "  </svg>\n",
              "      </button>\n",
              "      \n",
              "  <style>\n",
              "    .colab-df-container {\n",
              "      display:flex;\n",
              "      flex-wrap:wrap;\n",
              "      gap: 12px;\n",
              "    }\n",
              "\n",
              "    .colab-df-convert {\n",
              "      background-color: #E8F0FE;\n",
              "      border: none;\n",
              "      border-radius: 50%;\n",
              "      cursor: pointer;\n",
              "      display: none;\n",
              "      fill: #1967D2;\n",
              "      height: 32px;\n",
              "      padding: 0 0 0 0;\n",
              "      width: 32px;\n",
              "    }\n",
              "\n",
              "    .colab-df-convert:hover {\n",
              "      background-color: #E2EBFA;\n",
              "      box-shadow: 0px 1px 2px rgba(60, 64, 67, 0.3), 0px 1px 3px 1px rgba(60, 64, 67, 0.15);\n",
              "      fill: #174EA6;\n",
              "    }\n",
              "\n",
              "    [theme=dark] .colab-df-convert {\n",
              "      background-color: #3B4455;\n",
              "      fill: #D2E3FC;\n",
              "    }\n",
              "\n",
              "    [theme=dark] .colab-df-convert:hover {\n",
              "      background-color: #434B5C;\n",
              "      box-shadow: 0px 1px 3px 1px rgba(0, 0, 0, 0.15);\n",
              "      filter: drop-shadow(0px 1px 2px rgba(0, 0, 0, 0.3));\n",
              "      fill: #FFFFFF;\n",
              "    }\n",
              "  </style>\n",
              "\n",
              "      <script>\n",
              "        const buttonEl =\n",
              "          document.querySelector('#df-5ea57377-46b3-437e-9f7b-21d6d50a5672 button.colab-df-convert');\n",
              "        buttonEl.style.display =\n",
              "          google.colab.kernel.accessAllowed ? 'block' : 'none';\n",
              "\n",
              "        async function convertToInteractive(key) {\n",
              "          const element = document.querySelector('#df-5ea57377-46b3-437e-9f7b-21d6d50a5672');\n",
              "          const dataTable =\n",
              "            await google.colab.kernel.invokeFunction('convertToInteractive',\n",
              "                                                     [key], {});\n",
              "          if (!dataTable) return;\n",
              "\n",
              "          const docLinkHtml = 'Like what you see? Visit the ' +\n",
              "            '<a target=\"_blank\" href=https://colab.research.google.com/notebooks/data_table.ipynb>data table notebook</a>'\n",
              "            + ' to learn more about interactive tables.';\n",
              "          element.innerHTML = '';\n",
              "          dataTable['output_type'] = 'display_data';\n",
              "          await google.colab.output.renderOutput(dataTable, element);\n",
              "          const docLink = document.createElement('div');\n",
              "          docLink.innerHTML = docLinkHtml;\n",
              "          element.appendChild(docLink);\n",
              "        }\n",
              "      </script>\n",
              "    </div>\n",
              "  </div>\n",
              "  "
            ]
          },
          "metadata": {},
          "execution_count": 129
        }
      ],
      "source": [
        "crime_no_total = crime.drop('Total', axis=1)\n",
        "crime_no_total"
      ]
    },
    {
      "cell_type": "markdown",
      "id": "218ea4cc",
      "metadata": {
        "id": "218ea4cc"
      },
      "source": [
        "### Step 8. Group the year by decades and sum the values\n",
        "\n",
        "#### Pay attention to the Population column number, summing this column is a mistake"
      ]
    },
    {
      "cell_type": "code",
      "execution_count": null,
      "id": "614d78e5",
      "metadata": {
        "scrolled": true,
        "id": "614d78e5",
        "colab": {
          "base_uri": "https://localhost:8080/"
        },
        "outputId": "81576dfc-aff6-4081-9d5b-5d440db96981"
      },
      "outputs": [
        {
          "output_type": "execute_result",
          "data": {
            "text/plain": [
              "      Population      Total   Violent   Property  Murder  Forcible_Rape  \\\n",
              "Year                                                                      \n",
              "1960   201385000   49295900   4134930   45160900  106180         236720   \n",
              "1970   220099000  100991600   9607930   91383800  192230         554570   \n",
              "1980   248239000  131123369  14074328  117048900  206439         865639   \n",
              "1990   272690813  136582146  17527048  119053499  211664         998827   \n",
              "2000   307006550  115012044  13968056  100944369  163068         922499   \n",
              "2010   318857056   50167967   6072017   44095950   72867         421059   \n",
              "\n",
              "      Robbery  Aggravated_assault  Burglary  Larceny_Theft  Vehicle_Theft  \n",
              "Year                                                                       \n",
              "1960  1633510             2158520  13321100       26547700        5292100  \n",
              "1970  4159020             4702120  28486000       53157800        9739900  \n",
              "1980  5383109             7619130  33073494       72040253       11935411  \n",
              "1990  5748930            10568963  26750015       77679366       14624418  \n",
              "2000  4230366             8652124  21565176       67970291       11412834  \n",
              "2010  1749809             3764142  10125170       30401698        3569080  "
            ],
            "text/html": [
              "\n",
              "  <div id=\"df-40b1aa22-aa65-47ed-b9b9-49682c7d2602\">\n",
              "    <div class=\"colab-df-container\">\n",
              "      <div>\n",
              "<style scoped>\n",
              "    .dataframe tbody tr th:only-of-type {\n",
              "        vertical-align: middle;\n",
              "    }\n",
              "\n",
              "    .dataframe tbody tr th {\n",
              "        vertical-align: top;\n",
              "    }\n",
              "\n",
              "    .dataframe thead th {\n",
              "        text-align: right;\n",
              "    }\n",
              "</style>\n",
              "<table border=\"1\" class=\"dataframe\">\n",
              "  <thead>\n",
              "    <tr style=\"text-align: right;\">\n",
              "      <th></th>\n",
              "      <th>Population</th>\n",
              "      <th>Total</th>\n",
              "      <th>Violent</th>\n",
              "      <th>Property</th>\n",
              "      <th>Murder</th>\n",
              "      <th>Forcible_Rape</th>\n",
              "      <th>Robbery</th>\n",
              "      <th>Aggravated_assault</th>\n",
              "      <th>Burglary</th>\n",
              "      <th>Larceny_Theft</th>\n",
              "      <th>Vehicle_Theft</th>\n",
              "    </tr>\n",
              "    <tr>\n",
              "      <th>Year</th>\n",
              "      <th></th>\n",
              "      <th></th>\n",
              "      <th></th>\n",
              "      <th></th>\n",
              "      <th></th>\n",
              "      <th></th>\n",
              "      <th></th>\n",
              "      <th></th>\n",
              "      <th></th>\n",
              "      <th></th>\n",
              "      <th></th>\n",
              "    </tr>\n",
              "  </thead>\n",
              "  <tbody>\n",
              "    <tr>\n",
              "      <th>1960</th>\n",
              "      <td>201385000</td>\n",
              "      <td>49295900</td>\n",
              "      <td>4134930</td>\n",
              "      <td>45160900</td>\n",
              "      <td>106180</td>\n",
              "      <td>236720</td>\n",
              "      <td>1633510</td>\n",
              "      <td>2158520</td>\n",
              "      <td>13321100</td>\n",
              "      <td>26547700</td>\n",
              "      <td>5292100</td>\n",
              "    </tr>\n",
              "    <tr>\n",
              "      <th>1970</th>\n",
              "      <td>220099000</td>\n",
              "      <td>100991600</td>\n",
              "      <td>9607930</td>\n",
              "      <td>91383800</td>\n",
              "      <td>192230</td>\n",
              "      <td>554570</td>\n",
              "      <td>4159020</td>\n",
              "      <td>4702120</td>\n",
              "      <td>28486000</td>\n",
              "      <td>53157800</td>\n",
              "      <td>9739900</td>\n",
              "    </tr>\n",
              "    <tr>\n",
              "      <th>1980</th>\n",
              "      <td>248239000</td>\n",
              "      <td>131123369</td>\n",
              "      <td>14074328</td>\n",
              "      <td>117048900</td>\n",
              "      <td>206439</td>\n",
              "      <td>865639</td>\n",
              "      <td>5383109</td>\n",
              "      <td>7619130</td>\n",
              "      <td>33073494</td>\n",
              "      <td>72040253</td>\n",
              "      <td>11935411</td>\n",
              "    </tr>\n",
              "    <tr>\n",
              "      <th>1990</th>\n",
              "      <td>272690813</td>\n",
              "      <td>136582146</td>\n",
              "      <td>17527048</td>\n",
              "      <td>119053499</td>\n",
              "      <td>211664</td>\n",
              "      <td>998827</td>\n",
              "      <td>5748930</td>\n",
              "      <td>10568963</td>\n",
              "      <td>26750015</td>\n",
              "      <td>77679366</td>\n",
              "      <td>14624418</td>\n",
              "    </tr>\n",
              "    <tr>\n",
              "      <th>2000</th>\n",
              "      <td>307006550</td>\n",
              "      <td>115012044</td>\n",
              "      <td>13968056</td>\n",
              "      <td>100944369</td>\n",
              "      <td>163068</td>\n",
              "      <td>922499</td>\n",
              "      <td>4230366</td>\n",
              "      <td>8652124</td>\n",
              "      <td>21565176</td>\n",
              "      <td>67970291</td>\n",
              "      <td>11412834</td>\n",
              "    </tr>\n",
              "    <tr>\n",
              "      <th>2010</th>\n",
              "      <td>318857056</td>\n",
              "      <td>50167967</td>\n",
              "      <td>6072017</td>\n",
              "      <td>44095950</td>\n",
              "      <td>72867</td>\n",
              "      <td>421059</td>\n",
              "      <td>1749809</td>\n",
              "      <td>3764142</td>\n",
              "      <td>10125170</td>\n",
              "      <td>30401698</td>\n",
              "      <td>3569080</td>\n",
              "    </tr>\n",
              "  </tbody>\n",
              "</table>\n",
              "</div>\n",
              "      <button class=\"colab-df-convert\" onclick=\"convertToInteractive('df-40b1aa22-aa65-47ed-b9b9-49682c7d2602')\"\n",
              "              title=\"Convert this dataframe to an interactive table.\"\n",
              "              style=\"display:none;\">\n",
              "        \n",
              "  <svg xmlns=\"http://www.w3.org/2000/svg\" height=\"24px\"viewBox=\"0 0 24 24\"\n",
              "       width=\"24px\">\n",
              "    <path d=\"M0 0h24v24H0V0z\" fill=\"none\"/>\n",
              "    <path d=\"M18.56 5.44l.94 2.06.94-2.06 2.06-.94-2.06-.94-.94-2.06-.94 2.06-2.06.94zm-11 1L8.5 8.5l.94-2.06 2.06-.94-2.06-.94L8.5 2.5l-.94 2.06-2.06.94zm10 10l.94 2.06.94-2.06 2.06-.94-2.06-.94-.94-2.06-.94 2.06-2.06.94z\"/><path d=\"M17.41 7.96l-1.37-1.37c-.4-.4-.92-.59-1.43-.59-.52 0-1.04.2-1.43.59L10.3 9.45l-7.72 7.72c-.78.78-.78 2.05 0 2.83L4 21.41c.39.39.9.59 1.41.59.51 0 1.02-.2 1.41-.59l7.78-7.78 2.81-2.81c.8-.78.8-2.07 0-2.86zM5.41 20L4 18.59l7.72-7.72 1.47 1.35L5.41 20z\"/>\n",
              "  </svg>\n",
              "      </button>\n",
              "      \n",
              "  <style>\n",
              "    .colab-df-container {\n",
              "      display:flex;\n",
              "      flex-wrap:wrap;\n",
              "      gap: 12px;\n",
              "    }\n",
              "\n",
              "    .colab-df-convert {\n",
              "      background-color: #E8F0FE;\n",
              "      border: none;\n",
              "      border-radius: 50%;\n",
              "      cursor: pointer;\n",
              "      display: none;\n",
              "      fill: #1967D2;\n",
              "      height: 32px;\n",
              "      padding: 0 0 0 0;\n",
              "      width: 32px;\n",
              "    }\n",
              "\n",
              "    .colab-df-convert:hover {\n",
              "      background-color: #E2EBFA;\n",
              "      box-shadow: 0px 1px 2px rgba(60, 64, 67, 0.3), 0px 1px 3px 1px rgba(60, 64, 67, 0.15);\n",
              "      fill: #174EA6;\n",
              "    }\n",
              "\n",
              "    [theme=dark] .colab-df-convert {\n",
              "      background-color: #3B4455;\n",
              "      fill: #D2E3FC;\n",
              "    }\n",
              "\n",
              "    [theme=dark] .colab-df-convert:hover {\n",
              "      background-color: #434B5C;\n",
              "      box-shadow: 0px 1px 3px 1px rgba(0, 0, 0, 0.15);\n",
              "      filter: drop-shadow(0px 1px 2px rgba(0, 0, 0, 0.3));\n",
              "      fill: #FFFFFF;\n",
              "    }\n",
              "  </style>\n",
              "\n",
              "      <script>\n",
              "        const buttonEl =\n",
              "          document.querySelector('#df-40b1aa22-aa65-47ed-b9b9-49682c7d2602 button.colab-df-convert');\n",
              "        buttonEl.style.display =\n",
              "          google.colab.kernel.accessAllowed ? 'block' : 'none';\n",
              "\n",
              "        async function convertToInteractive(key) {\n",
              "          const element = document.querySelector('#df-40b1aa22-aa65-47ed-b9b9-49682c7d2602');\n",
              "          const dataTable =\n",
              "            await google.colab.kernel.invokeFunction('convertToInteractive',\n",
              "                                                     [key], {});\n",
              "          if (!dataTable) return;\n",
              "\n",
              "          const docLinkHtml = 'Like what you see? Visit the ' +\n",
              "            '<a target=\"_blank\" href=https://colab.research.google.com/notebooks/data_table.ipynb>data table notebook</a>'\n",
              "            + ' to learn more about interactive tables.';\n",
              "          element.innerHTML = '';\n",
              "          dataTable['output_type'] = 'display_data';\n",
              "          await google.colab.output.renderOutput(dataTable, element);\n",
              "          const docLink = document.createElement('div');\n",
              "          docLink.innerHTML = docLinkHtml;\n",
              "          element.appendChild(docLink);\n",
              "        }\n",
              "      </script>\n",
              "    </div>\n",
              "  </div>\n",
              "  "
            ]
          },
          "metadata": {},
          "execution_count": 173
        }
      ],
      "source": [
        "group_by_dec = crime.groupby((crime.index.year//10)*10)\n",
        "sum_of_crimes = group_by_dec.agg({'Population' : np.max, 'Total' : np.sum, 'Violent' : np.sum, 'Property' : np.sum, 'Murder' : np.sum, 'Forcible_Rape' : np.sum, 'Robbery' : np.sum,\n",
        "                 'Aggravated_assault' : np.sum, 'Burglary' : np.sum, 'Larceny_Theft' : np.sum, 'Vehicle_Theft' : np.sum})\n",
        "sum_of_crimes"
      ]
    },
    {
      "cell_type": "markdown",
      "id": "0558e87e",
      "metadata": {
        "id": "0558e87e"
      },
      "source": [
        "### Step 9. What is the most dangerous decade to live in the US?"
      ]
    },
    {
      "cell_type": "code",
      "execution_count": null,
      "id": "12d8aa07",
      "metadata": {
        "id": "12d8aa07",
        "colab": {
          "base_uri": "https://localhost:8080/"
        },
        "outputId": "57e2a28b-0a37-4757-b198-4fbc71c1f4f6"
      },
      "outputs": [
        {
          "output_type": "execute_result",
          "data": {
            "text/plain": [
              "      Population      Total   Violent   Property  Murder  Forcible_Rape  \\\n",
              "Year                                                                      \n",
              "1990   272690813  136582146  17527048  119053499  211664         998827   \n",
              "\n",
              "      Robbery  Aggravated_assault  Burglary  Larceny_Theft  Vehicle_Theft  \n",
              "Year                                                                       \n",
              "1990  5748930            10568963  26750015       77679366       14624418  "
            ],
            "text/html": [
              "\n",
              "  <div id=\"df-d4430ceb-0062-4572-b69b-bca42e6f7e11\">\n",
              "    <div class=\"colab-df-container\">\n",
              "      <div>\n",
              "<style scoped>\n",
              "    .dataframe tbody tr th:only-of-type {\n",
              "        vertical-align: middle;\n",
              "    }\n",
              "\n",
              "    .dataframe tbody tr th {\n",
              "        vertical-align: top;\n",
              "    }\n",
              "\n",
              "    .dataframe thead th {\n",
              "        text-align: right;\n",
              "    }\n",
              "</style>\n",
              "<table border=\"1\" class=\"dataframe\">\n",
              "  <thead>\n",
              "    <tr style=\"text-align: right;\">\n",
              "      <th></th>\n",
              "      <th>Population</th>\n",
              "      <th>Total</th>\n",
              "      <th>Violent</th>\n",
              "      <th>Property</th>\n",
              "      <th>Murder</th>\n",
              "      <th>Forcible_Rape</th>\n",
              "      <th>Robbery</th>\n",
              "      <th>Aggravated_assault</th>\n",
              "      <th>Burglary</th>\n",
              "      <th>Larceny_Theft</th>\n",
              "      <th>Vehicle_Theft</th>\n",
              "    </tr>\n",
              "    <tr>\n",
              "      <th>Year</th>\n",
              "      <th></th>\n",
              "      <th></th>\n",
              "      <th></th>\n",
              "      <th></th>\n",
              "      <th></th>\n",
              "      <th></th>\n",
              "      <th></th>\n",
              "      <th></th>\n",
              "      <th></th>\n",
              "      <th></th>\n",
              "      <th></th>\n",
              "    </tr>\n",
              "  </thead>\n",
              "  <tbody>\n",
              "    <tr>\n",
              "      <th>1990</th>\n",
              "      <td>272690813</td>\n",
              "      <td>136582146</td>\n",
              "      <td>17527048</td>\n",
              "      <td>119053499</td>\n",
              "      <td>211664</td>\n",
              "      <td>998827</td>\n",
              "      <td>5748930</td>\n",
              "      <td>10568963</td>\n",
              "      <td>26750015</td>\n",
              "      <td>77679366</td>\n",
              "      <td>14624418</td>\n",
              "    </tr>\n",
              "  </tbody>\n",
              "</table>\n",
              "</div>\n",
              "      <button class=\"colab-df-convert\" onclick=\"convertToInteractive('df-d4430ceb-0062-4572-b69b-bca42e6f7e11')\"\n",
              "              title=\"Convert this dataframe to an interactive table.\"\n",
              "              style=\"display:none;\">\n",
              "        \n",
              "  <svg xmlns=\"http://www.w3.org/2000/svg\" height=\"24px\"viewBox=\"0 0 24 24\"\n",
              "       width=\"24px\">\n",
              "    <path d=\"M0 0h24v24H0V0z\" fill=\"none\"/>\n",
              "    <path d=\"M18.56 5.44l.94 2.06.94-2.06 2.06-.94-2.06-.94-.94-2.06-.94 2.06-2.06.94zm-11 1L8.5 8.5l.94-2.06 2.06-.94-2.06-.94L8.5 2.5l-.94 2.06-2.06.94zm10 10l.94 2.06.94-2.06 2.06-.94-2.06-.94-.94-2.06-.94 2.06-2.06.94z\"/><path d=\"M17.41 7.96l-1.37-1.37c-.4-.4-.92-.59-1.43-.59-.52 0-1.04.2-1.43.59L10.3 9.45l-7.72 7.72c-.78.78-.78 2.05 0 2.83L4 21.41c.39.39.9.59 1.41.59.51 0 1.02-.2 1.41-.59l7.78-7.78 2.81-2.81c.8-.78.8-2.07 0-2.86zM5.41 20L4 18.59l7.72-7.72 1.47 1.35L5.41 20z\"/>\n",
              "  </svg>\n",
              "      </button>\n",
              "      \n",
              "  <style>\n",
              "    .colab-df-container {\n",
              "      display:flex;\n",
              "      flex-wrap:wrap;\n",
              "      gap: 12px;\n",
              "    }\n",
              "\n",
              "    .colab-df-convert {\n",
              "      background-color: #E8F0FE;\n",
              "      border: none;\n",
              "      border-radius: 50%;\n",
              "      cursor: pointer;\n",
              "      display: none;\n",
              "      fill: #1967D2;\n",
              "      height: 32px;\n",
              "      padding: 0 0 0 0;\n",
              "      width: 32px;\n",
              "    }\n",
              "\n",
              "    .colab-df-convert:hover {\n",
              "      background-color: #E2EBFA;\n",
              "      box-shadow: 0px 1px 2px rgba(60, 64, 67, 0.3), 0px 1px 3px 1px rgba(60, 64, 67, 0.15);\n",
              "      fill: #174EA6;\n",
              "    }\n",
              "\n",
              "    [theme=dark] .colab-df-convert {\n",
              "      background-color: #3B4455;\n",
              "      fill: #D2E3FC;\n",
              "    }\n",
              "\n",
              "    [theme=dark] .colab-df-convert:hover {\n",
              "      background-color: #434B5C;\n",
              "      box-shadow: 0px 1px 3px 1px rgba(0, 0, 0, 0.15);\n",
              "      filter: drop-shadow(0px 1px 2px rgba(0, 0, 0, 0.3));\n",
              "      fill: #FFFFFF;\n",
              "    }\n",
              "  </style>\n",
              "\n",
              "      <script>\n",
              "        const buttonEl =\n",
              "          document.querySelector('#df-d4430ceb-0062-4572-b69b-bca42e6f7e11 button.colab-df-convert');\n",
              "        buttonEl.style.display =\n",
              "          google.colab.kernel.accessAllowed ? 'block' : 'none';\n",
              "\n",
              "        async function convertToInteractive(key) {\n",
              "          const element = document.querySelector('#df-d4430ceb-0062-4572-b69b-bca42e6f7e11');\n",
              "          const dataTable =\n",
              "            await google.colab.kernel.invokeFunction('convertToInteractive',\n",
              "                                                     [key], {});\n",
              "          if (!dataTable) return;\n",
              "\n",
              "          const docLinkHtml = 'Like what you see? Visit the ' +\n",
              "            '<a target=\"_blank\" href=https://colab.research.google.com/notebooks/data_table.ipynb>data table notebook</a>'\n",
              "            + ' to learn more about interactive tables.';\n",
              "          element.innerHTML = '';\n",
              "          dataTable['output_type'] = 'display_data';\n",
              "          await google.colab.output.renderOutput(dataTable, element);\n",
              "          const docLink = document.createElement('div');\n",
              "          docLink.innerHTML = docLinkHtml;\n",
              "          element.appendChild(docLink);\n",
              "        }\n",
              "      </script>\n",
              "    </div>\n",
              "  </div>\n",
              "  "
            ]
          },
          "metadata": {},
          "execution_count": 178
        }
      ],
      "source": [
        "sum_of_crimes.sort_values('Total', ascending=False).head(1) # 1990"
      ]
    },
    {
      "cell_type": "markdown",
      "id": "0f788d9d",
      "metadata": {
        "id": "0f788d9d"
      },
      "source": [
        "## Section 5: Merge"
      ]
    },
    {
      "cell_type": "markdown",
      "id": "be4a96db",
      "metadata": {
        "id": "be4a96db"
      },
      "source": [
        "### Step 1. Import the necessary libraries"
      ]
    },
    {
      "cell_type": "code",
      "execution_count": null,
      "id": "f5f41559",
      "metadata": {
        "id": "f5f41559"
      },
      "outputs": [],
      "source": [
        "import pandas as pd\n",
        "import numpy as np"
      ]
    },
    {
      "cell_type": "markdown",
      "id": "d3e9fe0a",
      "metadata": {
        "id": "d3e9fe0a"
      },
      "source": [
        "### Step 2. Create the 3 DataFrames based on the following raw data"
      ]
    },
    {
      "cell_type": "code",
      "execution_count": null,
      "id": "e821cbfa",
      "metadata": {
        "collapsed": true,
        "id": "e821cbfa"
      },
      "outputs": [],
      "source": [
        "raw_data_1 = {\n",
        "        'subject_id': ['1', '2', '3', '4', '5'],\n",
        "        'first_name': ['Alex', 'Amy', 'Allen', 'Alice', 'Ayoung'], \n",
        "        'last_name': ['Anderson', 'Ackerman', 'Ali', 'Aoni', 'Atiches']}\n",
        "\n",
        "raw_data_2 = {\n",
        "        'subject_id': ['4', '5', '6', '7', '8'],\n",
        "        'first_name': ['Billy', 'Brian', 'Bran', 'Bryce', 'Betty'], \n",
        "        'last_name': ['Bonder', 'Black', 'Balwner', 'Brice', 'Btisan']}\n",
        "\n",
        "raw_data_3 = {\n",
        "        'subject_id': ['1', '2', '3', '4', '5', '7', '8', '9', '10', '11'],\n",
        "        'test_id': [51, 15, 15, 61, 16, 14, 15, 1, 61, 16]}"
      ]
    },
    {
      "cell_type": "markdown",
      "id": "18fe3342",
      "metadata": {
        "id": "18fe3342"
      },
      "source": [
        "### Step 3. Assign each to a variable called data1, data2, data3"
      ]
    },
    {
      "cell_type": "code",
      "execution_count": null,
      "id": "90da0468",
      "metadata": {
        "id": "90da0468"
      },
      "outputs": [],
      "source": [
        "data1 = pd.DataFrame.from_dict(raw_data_1)\n",
        "data2 = pd.DataFrame.from_dict(raw_data_2)\n",
        "data3 = pd.DataFrame.from_dict(raw_data_3)"
      ]
    },
    {
      "cell_type": "markdown",
      "id": "3b793c7d",
      "metadata": {
        "id": "3b793c7d"
      },
      "source": [
        "### Step 4. Join the two dataframes along rows and assign all_data"
      ]
    },
    {
      "cell_type": "code",
      "execution_count": null,
      "id": "41fdbc61",
      "metadata": {
        "id": "41fdbc61",
        "colab": {
          "base_uri": "https://localhost:8080/"
        },
        "outputId": "b49c65f6-f5d0-439b-8cdb-4599acec7254"
      },
      "outputs": [
        {
          "output_type": "execute_result",
          "data": {
            "text/plain": [
              "  subject_id first_name last_name\n",
              "0          1       Alex  Anderson\n",
              "1          2        Amy  Ackerman\n",
              "2          3      Allen       Ali\n",
              "3          4      Alice      Aoni\n",
              "4          5     Ayoung   Atiches\n",
              "0          4      Billy    Bonder\n",
              "1          5      Brian     Black\n",
              "2          6       Bran   Balwner\n",
              "3          7      Bryce     Brice\n",
              "4          8      Betty    Btisan"
            ],
            "text/html": [
              "\n",
              "  <div id=\"df-f662c96b-6d73-4fe0-ac96-8676466e1e33\">\n",
              "    <div class=\"colab-df-container\">\n",
              "      <div>\n",
              "<style scoped>\n",
              "    .dataframe tbody tr th:only-of-type {\n",
              "        vertical-align: middle;\n",
              "    }\n",
              "\n",
              "    .dataframe tbody tr th {\n",
              "        vertical-align: top;\n",
              "    }\n",
              "\n",
              "    .dataframe thead th {\n",
              "        text-align: right;\n",
              "    }\n",
              "</style>\n",
              "<table border=\"1\" class=\"dataframe\">\n",
              "  <thead>\n",
              "    <tr style=\"text-align: right;\">\n",
              "      <th></th>\n",
              "      <th>subject_id</th>\n",
              "      <th>first_name</th>\n",
              "      <th>last_name</th>\n",
              "    </tr>\n",
              "  </thead>\n",
              "  <tbody>\n",
              "    <tr>\n",
              "      <th>0</th>\n",
              "      <td>1</td>\n",
              "      <td>Alex</td>\n",
              "      <td>Anderson</td>\n",
              "    </tr>\n",
              "    <tr>\n",
              "      <th>1</th>\n",
              "      <td>2</td>\n",
              "      <td>Amy</td>\n",
              "      <td>Ackerman</td>\n",
              "    </tr>\n",
              "    <tr>\n",
              "      <th>2</th>\n",
              "      <td>3</td>\n",
              "      <td>Allen</td>\n",
              "      <td>Ali</td>\n",
              "    </tr>\n",
              "    <tr>\n",
              "      <th>3</th>\n",
              "      <td>4</td>\n",
              "      <td>Alice</td>\n",
              "      <td>Aoni</td>\n",
              "    </tr>\n",
              "    <tr>\n",
              "      <th>4</th>\n",
              "      <td>5</td>\n",
              "      <td>Ayoung</td>\n",
              "      <td>Atiches</td>\n",
              "    </tr>\n",
              "    <tr>\n",
              "      <th>0</th>\n",
              "      <td>4</td>\n",
              "      <td>Billy</td>\n",
              "      <td>Bonder</td>\n",
              "    </tr>\n",
              "    <tr>\n",
              "      <th>1</th>\n",
              "      <td>5</td>\n",
              "      <td>Brian</td>\n",
              "      <td>Black</td>\n",
              "    </tr>\n",
              "    <tr>\n",
              "      <th>2</th>\n",
              "      <td>6</td>\n",
              "      <td>Bran</td>\n",
              "      <td>Balwner</td>\n",
              "    </tr>\n",
              "    <tr>\n",
              "      <th>3</th>\n",
              "      <td>7</td>\n",
              "      <td>Bryce</td>\n",
              "      <td>Brice</td>\n",
              "    </tr>\n",
              "    <tr>\n",
              "      <th>4</th>\n",
              "      <td>8</td>\n",
              "      <td>Betty</td>\n",
              "      <td>Btisan</td>\n",
              "    </tr>\n",
              "  </tbody>\n",
              "</table>\n",
              "</div>\n",
              "      <button class=\"colab-df-convert\" onclick=\"convertToInteractive('df-f662c96b-6d73-4fe0-ac96-8676466e1e33')\"\n",
              "              title=\"Convert this dataframe to an interactive table.\"\n",
              "              style=\"display:none;\">\n",
              "        \n",
              "  <svg xmlns=\"http://www.w3.org/2000/svg\" height=\"24px\"viewBox=\"0 0 24 24\"\n",
              "       width=\"24px\">\n",
              "    <path d=\"M0 0h24v24H0V0z\" fill=\"none\"/>\n",
              "    <path d=\"M18.56 5.44l.94 2.06.94-2.06 2.06-.94-2.06-.94-.94-2.06-.94 2.06-2.06.94zm-11 1L8.5 8.5l.94-2.06 2.06-.94-2.06-.94L8.5 2.5l-.94 2.06-2.06.94zm10 10l.94 2.06.94-2.06 2.06-.94-2.06-.94-.94-2.06-.94 2.06-2.06.94z\"/><path d=\"M17.41 7.96l-1.37-1.37c-.4-.4-.92-.59-1.43-.59-.52 0-1.04.2-1.43.59L10.3 9.45l-7.72 7.72c-.78.78-.78 2.05 0 2.83L4 21.41c.39.39.9.59 1.41.59.51 0 1.02-.2 1.41-.59l7.78-7.78 2.81-2.81c.8-.78.8-2.07 0-2.86zM5.41 20L4 18.59l7.72-7.72 1.47 1.35L5.41 20z\"/>\n",
              "  </svg>\n",
              "      </button>\n",
              "      \n",
              "  <style>\n",
              "    .colab-df-container {\n",
              "      display:flex;\n",
              "      flex-wrap:wrap;\n",
              "      gap: 12px;\n",
              "    }\n",
              "\n",
              "    .colab-df-convert {\n",
              "      background-color: #E8F0FE;\n",
              "      border: none;\n",
              "      border-radius: 50%;\n",
              "      cursor: pointer;\n",
              "      display: none;\n",
              "      fill: #1967D2;\n",
              "      height: 32px;\n",
              "      padding: 0 0 0 0;\n",
              "      width: 32px;\n",
              "    }\n",
              "\n",
              "    .colab-df-convert:hover {\n",
              "      background-color: #E2EBFA;\n",
              "      box-shadow: 0px 1px 2px rgba(60, 64, 67, 0.3), 0px 1px 3px 1px rgba(60, 64, 67, 0.15);\n",
              "      fill: #174EA6;\n",
              "    }\n",
              "\n",
              "    [theme=dark] .colab-df-convert {\n",
              "      background-color: #3B4455;\n",
              "      fill: #D2E3FC;\n",
              "    }\n",
              "\n",
              "    [theme=dark] .colab-df-convert:hover {\n",
              "      background-color: #434B5C;\n",
              "      box-shadow: 0px 1px 3px 1px rgba(0, 0, 0, 0.15);\n",
              "      filter: drop-shadow(0px 1px 2px rgba(0, 0, 0, 0.3));\n",
              "      fill: #FFFFFF;\n",
              "    }\n",
              "  </style>\n",
              "\n",
              "      <script>\n",
              "        const buttonEl =\n",
              "          document.querySelector('#df-f662c96b-6d73-4fe0-ac96-8676466e1e33 button.colab-df-convert');\n",
              "        buttonEl.style.display =\n",
              "          google.colab.kernel.accessAllowed ? 'block' : 'none';\n",
              "\n",
              "        async function convertToInteractive(key) {\n",
              "          const element = document.querySelector('#df-f662c96b-6d73-4fe0-ac96-8676466e1e33');\n",
              "          const dataTable =\n",
              "            await google.colab.kernel.invokeFunction('convertToInteractive',\n",
              "                                                     [key], {});\n",
              "          if (!dataTable) return;\n",
              "\n",
              "          const docLinkHtml = 'Like what you see? Visit the ' +\n",
              "            '<a target=\"_blank\" href=https://colab.research.google.com/notebooks/data_table.ipynb>data table notebook</a>'\n",
              "            + ' to learn more about interactive tables.';\n",
              "          element.innerHTML = '';\n",
              "          dataTable['output_type'] = 'display_data';\n",
              "          await google.colab.output.renderOutput(dataTable, element);\n",
              "          const docLink = document.createElement('div');\n",
              "          docLink.innerHTML = docLinkHtml;\n",
              "          element.appendChild(docLink);\n",
              "        }\n",
              "      </script>\n",
              "    </div>\n",
              "  </div>\n",
              "  "
            ]
          },
          "metadata": {},
          "execution_count": 192
        }
      ],
      "source": [
        "all_data = pd.concat([data1, data2])\n",
        "all_data"
      ]
    },
    {
      "cell_type": "markdown",
      "id": "fc8c6f86",
      "metadata": {
        "id": "fc8c6f86"
      },
      "source": [
        "### Step 5. Join the two dataframes along columns and assing to all_data_col"
      ]
    },
    {
      "cell_type": "code",
      "execution_count": null,
      "id": "41459117",
      "metadata": {
        "id": "41459117"
      },
      "outputs": [],
      "source": [
        "all_data_col = pd.concat([data1, data2], axis=1)"
      ]
    },
    {
      "cell_type": "markdown",
      "source": [
        ""
      ],
      "metadata": {
        "id": "0Kc0MTlKLx9K"
      },
      "id": "0Kc0MTlKLx9K"
    },
    {
      "cell_type": "markdown",
      "id": "9f09f1c3",
      "metadata": {
        "id": "9f09f1c3"
      },
      "source": [
        "### Step 6. Print data3"
      ]
    },
    {
      "cell_type": "code",
      "execution_count": null,
      "id": "2cea8f6e",
      "metadata": {
        "id": "2cea8f6e",
        "colab": {
          "base_uri": "https://localhost:8080/"
        },
        "outputId": "b17a0648-d451-4e4b-d143-4201267fbe9c"
      },
      "outputs": [
        {
          "output_type": "stream",
          "name": "stdout",
          "text": [
            "  subject_id  test_id\n",
            "0          1       51\n",
            "1          2       15\n",
            "2          3       15\n",
            "3          4       61\n",
            "4          5       16\n",
            "5          7       14\n",
            "6          8       15\n",
            "7          9        1\n",
            "8         10       61\n",
            "9         11       16\n"
          ]
        }
      ],
      "source": [
        "print(data3)"
      ]
    },
    {
      "cell_type": "markdown",
      "id": "ac4b35a7",
      "metadata": {
        "id": "ac4b35a7"
      },
      "source": [
        "### Step 7. Merge all_data and data3 along the subject_id value"
      ]
    },
    {
      "cell_type": "code",
      "execution_count": null,
      "id": "21f2115e",
      "metadata": {
        "id": "21f2115e"
      },
      "outputs": [],
      "source": [
        "merged_df = pd.merge(all_data, data3, on=\"subject_id\")"
      ]
    },
    {
      "cell_type": "markdown",
      "id": "12c4da3e",
      "metadata": {
        "id": "12c4da3e"
      },
      "source": [
        "### Step 8. Merge only the data that has the same 'subject_id' on both data1 and data2"
      ]
    },
    {
      "cell_type": "code",
      "execution_count": null,
      "id": "db6200fe",
      "metadata": {
        "id": "db6200fe"
      },
      "outputs": [],
      "source": [
        "all_data_by_id = pd.merge(data1, data2, left_on=\"subject_id\", right_on=\"subject_id\")"
      ]
    },
    {
      "cell_type": "markdown",
      "id": "b3105684",
      "metadata": {
        "id": "b3105684"
      },
      "source": [
        "### Step 9. Merge all values in data1 and data2, with matching records from both sides where available."
      ]
    },
    {
      "cell_type": "code",
      "execution_count": null,
      "id": "a6bfa0e9",
      "metadata": {
        "id": "a6bfa0e9"
      },
      "outputs": [],
      "source": [
        "data_by_match = pd.merge(data1, data2, on=\"subject_id\", how=\"inner\")"
      ]
    },
    {
      "cell_type": "markdown",
      "id": "f37cc51a",
      "metadata": {
        "id": "f37cc51a"
      },
      "source": [
        "## Section 6: Stats"
      ]
    },
    {
      "cell_type": "markdown",
      "id": "7e1f46ce",
      "metadata": {
        "id": "7e1f46ce"
      },
      "source": [
        "### Introduction:\n",
        "\n",
        "The data have been modified to contain some missing values, identified by NaN.  \n",
        "Using pandas should make this exercise\n",
        "easier, in particular for the bonus question.\n",
        "\n",
        "You should be able to perform all of these operations without using\n",
        "a for loop or other looping construct.\n",
        "\n",
        "\n",
        "1. The data in 'wind.data' has the following format:"
      ]
    },
    {
      "cell_type": "code",
      "execution_count": null,
      "id": "b8473328",
      "metadata": {
        "id": "b8473328",
        "outputId": "b721c3f4-edcc-4f0c-dcbc-39ddb5130446"
      },
      "outputs": [
        {
          "data": {
            "text/plain": [
              "'\\nYr Mo Dy   RPT   VAL   ROS   KIL   SHA   BIR   DUB   CLA   MUL   CLO   BEL   MAL\\n61  1  1 15.04 14.96 13.17  9.29   NaN  9.87 13.67 10.25 10.83 12.58 18.50 15.04\\n61  1  2 14.71   NaN 10.83  6.50 12.62  7.67 11.50 10.04  9.79  9.67 17.54 13.83\\n61  1  3 18.50 16.88 12.33 10.13 11.17  6.17 11.25   NaN  8.50  7.67 12.75 12.71\\n'"
            ]
          },
          "execution_count": 4,
          "metadata": {},
          "output_type": "execute_result"
        }
      ],
      "source": [
        "\"\"\"\n",
        "Yr Mo Dy   RPT   VAL   ROS   KIL   SHA   BIR   DUB   CLA   MUL   CLO   BEL   MAL\n",
        "61  1  1 15.04 14.96 13.17  9.29   NaN  9.87 13.67 10.25 10.83 12.58 18.50 15.04\n",
        "61  1  2 14.71   NaN 10.83  6.50 12.62  7.67 11.50 10.04  9.79  9.67 17.54 13.83\n",
        "61  1  3 18.50 16.88 12.33 10.13 11.17  6.17 11.25   NaN  8.50  7.67 12.75 12.71\n",
        "\"\"\""
      ]
    },
    {
      "cell_type": "markdown",
      "id": "c6498c2f",
      "metadata": {
        "id": "c6498c2f"
      },
      "source": [
        "   The first three columns are year, month and day.  The\n",
        "   remaining 12 columns are average windspeeds in knots at 12\n",
        "   locations in Ireland on that day.   \n",
        "\n",
        "   More information about the dataset go [here](wind.desc)."
      ]
    },
    {
      "cell_type": "markdown",
      "id": "c8dfa894",
      "metadata": {
        "id": "c8dfa894"
      },
      "source": [
        "### Step 1. Import the necessary libraries"
      ]
    },
    {
      "cell_type": "code",
      "execution_count": 103,
      "id": "651c1fe9",
      "metadata": {
        "id": "651c1fe9"
      },
      "outputs": [],
      "source": [
        "import pandas as pd\n",
        "import numpy as np"
      ]
    },
    {
      "cell_type": "markdown",
      "id": "75ea3454",
      "metadata": {
        "id": "75ea3454"
      },
      "source": [
        "### Step 2. Import the dataset from this [address](https://raw.githubusercontent.com/guipsamora/pandas_exercises/master/06_Stats/Wind_Stats/wind.data)"
      ]
    },
    {
      "cell_type": "code",
      "source": [
        "url = 'https://raw.githubusercontent.com/guipsamora/pandas_exercises/master/06_Stats/Wind_Stats/wind.data'"
      ],
      "metadata": {
        "id": "ebjYtQ3pQ6Io"
      },
      "id": "ebjYtQ3pQ6Io",
      "execution_count": 127,
      "outputs": []
    },
    {
      "cell_type": "markdown",
      "id": "30ef3fe0",
      "metadata": {
        "id": "30ef3fe0"
      },
      "source": [
        "### Step 3. Assign it to a variable called data and replace the first 3 columns by a proper datetime index."
      ]
    },
    {
      "cell_type": "code",
      "execution_count": 128,
      "id": "838f1f8c",
      "metadata": {
        "id": "838f1f8c"
      },
      "outputs": [],
      "source": [
        "data = pd.read_csv(url, delimiter=r\"\\s+\")\n",
        "data = data.rename({'Yr': 'Year', 'Mo': 'Month', 'Dy': 'Day'}, axis=1)\n",
        "full_date = data['Year'].astype(str) + '-' + data['Month'].astype(str) + '-'  + data['Day'].astype(str)\n",
        "data.drop(columns=data.columns[0:3], axis=1, inplace=True)\n",
        "data.insert(0, column='Date', value = full_date)\n",
        "data['Date'] = pd.to_datetime(data['Date'])"
      ]
    },
    {
      "cell_type": "markdown",
      "id": "8ef2ebcb",
      "metadata": {
        "id": "8ef2ebcb"
      },
      "source": [
        "### Step 4. Year 2061? Do we really have data from this year? Create a function to fix it and apply it."
      ]
    },
    {
      "cell_type": "code",
      "execution_count": 132,
      "id": "6626a513",
      "metadata": {
        "id": "6626a513"
      },
      "outputs": [],
      "source": [
        "data['Date'] = data['Date'].mask(data['Date'].dt.year > 2022, data['Date'] - pd.offsets.DateOffset(years=100))"
      ]
    },
    {
      "cell_type": "markdown",
      "id": "e3c19cc5",
      "metadata": {
        "id": "e3c19cc5"
      },
      "source": [
        "### Step 5. Set the right dates as the index. Pay attention at the data type, it should be datetime64[ns]."
      ]
    },
    {
      "cell_type": "code",
      "execution_count": 133,
      "id": "b169ca16",
      "metadata": {
        "id": "b169ca16"
      },
      "outputs": [],
      "source": [
        "data.set_index('Date', inplace=True)"
      ]
    },
    {
      "cell_type": "markdown",
      "id": "906915e6",
      "metadata": {
        "id": "906915e6"
      },
      "source": [
        "### Step 6. Compute how many values are missing for each location over the entire record.  \n",
        "#### They should be ignored in all calculations below. "
      ]
    },
    {
      "cell_type": "code",
      "execution_count": 134,
      "id": "14aee622",
      "metadata": {
        "id": "14aee622",
        "colab": {
          "base_uri": "https://localhost:8080/"
        },
        "outputId": "6cd8d181-bb95-4936-bb89-6b239a815d30"
      },
      "outputs": [
        {
          "output_type": "execute_result",
          "data": {
            "text/plain": [
              "RPT    6\n",
              "VAL    3\n",
              "ROS    2\n",
              "KIL    5\n",
              "SHA    2\n",
              "BIR    0\n",
              "DUB    3\n",
              "CLA    2\n",
              "MUL    3\n",
              "CLO    1\n",
              "BEL    0\n",
              "MAL    4\n",
              "dtype: int64"
            ]
          },
          "metadata": {},
          "execution_count": 134
        }
      ],
      "source": [
        "data.isna().sum()"
      ]
    },
    {
      "cell_type": "markdown",
      "id": "6aa712c4",
      "metadata": {
        "id": "6aa712c4"
      },
      "source": [
        "### Step 7. Compute how many non-missing values there are in total."
      ]
    },
    {
      "cell_type": "code",
      "execution_count": 135,
      "id": "fbcbeb24",
      "metadata": {
        "scrolled": true,
        "id": "fbcbeb24",
        "colab": {
          "base_uri": "https://localhost:8080/"
        },
        "outputId": "73df6444-8bed-44d9-f0ae-8260f017c10e"
      },
      "outputs": [
        {
          "output_type": "execute_result",
          "data": {
            "text/plain": [
              "78826"
            ]
          },
          "metadata": {},
          "execution_count": 135
        }
      ],
      "source": [
        "data.count().sum() - data.isna().sum().sum() # 85400"
      ]
    },
    {
      "cell_type": "markdown",
      "id": "483b349d",
      "metadata": {
        "id": "483b349d"
      },
      "source": [
        "### Step 8. Calculate the mean windspeeds of the windspeeds over all the locations and all the times.\n",
        "#### A single number for the entire dataset."
      ]
    },
    {
      "cell_type": "code",
      "execution_count": 136,
      "id": "a2a230e0",
      "metadata": {
        "id": "a2a230e0",
        "colab": {
          "base_uri": "https://localhost:8080/"
        },
        "outputId": "b705c4f9-55f1-40f8-ca35-c7eda7fefd7f"
      },
      "outputs": [
        {
          "output_type": "execute_result",
          "data": {
            "text/plain": [
              "10.227982360836936"
            ]
          },
          "metadata": {},
          "execution_count": 136
        }
      ],
      "source": [
        "data.fillna(data.mean(), inplace=True)\n",
        "data.mean().mean() # 10.227982360836936"
      ]
    },
    {
      "cell_type": "markdown",
      "id": "8c9b33d4",
      "metadata": {
        "id": "8c9b33d4"
      },
      "source": [
        "### Step 9. Create a DataFrame called loc_stats and calculate the min, max and mean windspeeds and standard deviations of the windspeeds at each location over all the days \n",
        "\n",
        "#### A different set of numbers for each location."
      ]
    },
    {
      "cell_type": "code",
      "execution_count": 137,
      "id": "51d75d2b",
      "metadata": {
        "id": "51d75d2b"
      },
      "outputs": [],
      "source": [
        "loc_stats = data.agg(['min', 'max', 'mean', 'std'])"
      ]
    },
    {
      "cell_type": "markdown",
      "id": "91e00153",
      "metadata": {
        "id": "91e00153"
      },
      "source": [
        "### Step 10. Create a DataFrame called day_stats and calculate the min, max and mean windspeed and standard deviations of the windspeeds across all the locations at each day.\n",
        "\n",
        "#### A different set of numbers for each day."
      ]
    },
    {
      "cell_type": "code",
      "execution_count": 140,
      "id": "bdf6c30f",
      "metadata": {
        "id": "bdf6c30f"
      },
      "outputs": [],
      "source": [
        "day_stats = data.agg(['min', 'max', 'mean', 'std'], axis=1)"
      ]
    },
    {
      "cell_type": "markdown",
      "id": "7c432fea",
      "metadata": {
        "id": "7c432fea"
      },
      "source": [
        "### Step 11. Find the average windspeed in January for each location.  \n",
        "#### Treat January 1961 and January 1962 both as January."
      ]
    },
    {
      "cell_type": "code",
      "execution_count": 142,
      "id": "846c08c1",
      "metadata": {
        "id": "846c08c1",
        "colab": {
          "base_uri": "https://localhost:8080/",
          "height": 156
        },
        "outputId": "7eaa8083-b3aa-4b83-9371-86a7c5f3a34f"
      },
      "outputs": [
        {
          "output_type": "execute_result",
          "data": {
            "text/plain": [
              "            RPT        VAL        ROS       KIL       SHA       BIR  \\\n",
              "Date                                                                  \n",
              "1     14.842873  12.910492  13.299624  7.199498  11.66339  8.054839   \n",
              "\n",
              "            DUB       CLA       MUL        CLO       BEL        MAL  \n",
              "Date                                                                 \n",
              "1     11.819355  9.510224  9.543208  10.053566  14.55052  18.028763  "
            ],
            "text/html": [
              "\n",
              "  <div id=\"df-12449c07-9344-4cb9-af8d-448b48a3200e\">\n",
              "    <div class=\"colab-df-container\">\n",
              "      <div>\n",
              "<style scoped>\n",
              "    .dataframe tbody tr th:only-of-type {\n",
              "        vertical-align: middle;\n",
              "    }\n",
              "\n",
              "    .dataframe tbody tr th {\n",
              "        vertical-align: top;\n",
              "    }\n",
              "\n",
              "    .dataframe thead th {\n",
              "        text-align: right;\n",
              "    }\n",
              "</style>\n",
              "<table border=\"1\" class=\"dataframe\">\n",
              "  <thead>\n",
              "    <tr style=\"text-align: right;\">\n",
              "      <th></th>\n",
              "      <th>RPT</th>\n",
              "      <th>VAL</th>\n",
              "      <th>ROS</th>\n",
              "      <th>KIL</th>\n",
              "      <th>SHA</th>\n",
              "      <th>BIR</th>\n",
              "      <th>DUB</th>\n",
              "      <th>CLA</th>\n",
              "      <th>MUL</th>\n",
              "      <th>CLO</th>\n",
              "      <th>BEL</th>\n",
              "      <th>MAL</th>\n",
              "    </tr>\n",
              "    <tr>\n",
              "      <th>Date</th>\n",
              "      <th></th>\n",
              "      <th></th>\n",
              "      <th></th>\n",
              "      <th></th>\n",
              "      <th></th>\n",
              "      <th></th>\n",
              "      <th></th>\n",
              "      <th></th>\n",
              "      <th></th>\n",
              "      <th></th>\n",
              "      <th></th>\n",
              "      <th></th>\n",
              "    </tr>\n",
              "  </thead>\n",
              "  <tbody>\n",
              "    <tr>\n",
              "      <th>1</th>\n",
              "      <td>14.842873</td>\n",
              "      <td>12.910492</td>\n",
              "      <td>13.299624</td>\n",
              "      <td>7.199498</td>\n",
              "      <td>11.66339</td>\n",
              "      <td>8.054839</td>\n",
              "      <td>11.819355</td>\n",
              "      <td>9.510224</td>\n",
              "      <td>9.543208</td>\n",
              "      <td>10.053566</td>\n",
              "      <td>14.55052</td>\n",
              "      <td>18.028763</td>\n",
              "    </tr>\n",
              "  </tbody>\n",
              "</table>\n",
              "</div>\n",
              "      <button class=\"colab-df-convert\" onclick=\"convertToInteractive('df-12449c07-9344-4cb9-af8d-448b48a3200e')\"\n",
              "              title=\"Convert this dataframe to an interactive table.\"\n",
              "              style=\"display:none;\">\n",
              "        \n",
              "  <svg xmlns=\"http://www.w3.org/2000/svg\" height=\"24px\"viewBox=\"0 0 24 24\"\n",
              "       width=\"24px\">\n",
              "    <path d=\"M0 0h24v24H0V0z\" fill=\"none\"/>\n",
              "    <path d=\"M18.56 5.44l.94 2.06.94-2.06 2.06-.94-2.06-.94-.94-2.06-.94 2.06-2.06.94zm-11 1L8.5 8.5l.94-2.06 2.06-.94-2.06-.94L8.5 2.5l-.94 2.06-2.06.94zm10 10l.94 2.06.94-2.06 2.06-.94-2.06-.94-.94-2.06-.94 2.06-2.06.94z\"/><path d=\"M17.41 7.96l-1.37-1.37c-.4-.4-.92-.59-1.43-.59-.52 0-1.04.2-1.43.59L10.3 9.45l-7.72 7.72c-.78.78-.78 2.05 0 2.83L4 21.41c.39.39.9.59 1.41.59.51 0 1.02-.2 1.41-.59l7.78-7.78 2.81-2.81c.8-.78.8-2.07 0-2.86zM5.41 20L4 18.59l7.72-7.72 1.47 1.35L5.41 20z\"/>\n",
              "  </svg>\n",
              "      </button>\n",
              "      \n",
              "  <style>\n",
              "    .colab-df-container {\n",
              "      display:flex;\n",
              "      flex-wrap:wrap;\n",
              "      gap: 12px;\n",
              "    }\n",
              "\n",
              "    .colab-df-convert {\n",
              "      background-color: #E8F0FE;\n",
              "      border: none;\n",
              "      border-radius: 50%;\n",
              "      cursor: pointer;\n",
              "      display: none;\n",
              "      fill: #1967D2;\n",
              "      height: 32px;\n",
              "      padding: 0 0 0 0;\n",
              "      width: 32px;\n",
              "    }\n",
              "\n",
              "    .colab-df-convert:hover {\n",
              "      background-color: #E2EBFA;\n",
              "      box-shadow: 0px 1px 2px rgba(60, 64, 67, 0.3), 0px 1px 3px 1px rgba(60, 64, 67, 0.15);\n",
              "      fill: #174EA6;\n",
              "    }\n",
              "\n",
              "    [theme=dark] .colab-df-convert {\n",
              "      background-color: #3B4455;\n",
              "      fill: #D2E3FC;\n",
              "    }\n",
              "\n",
              "    [theme=dark] .colab-df-convert:hover {\n",
              "      background-color: #434B5C;\n",
              "      box-shadow: 0px 1px 3px 1px rgba(0, 0, 0, 0.15);\n",
              "      filter: drop-shadow(0px 1px 2px rgba(0, 0, 0, 0.3));\n",
              "      fill: #FFFFFF;\n",
              "    }\n",
              "  </style>\n",
              "\n",
              "      <script>\n",
              "        const buttonEl =\n",
              "          document.querySelector('#df-12449c07-9344-4cb9-af8d-448b48a3200e button.colab-df-convert');\n",
              "        buttonEl.style.display =\n",
              "          google.colab.kernel.accessAllowed ? 'block' : 'none';\n",
              "\n",
              "        async function convertToInteractive(key) {\n",
              "          const element = document.querySelector('#df-12449c07-9344-4cb9-af8d-448b48a3200e');\n",
              "          const dataTable =\n",
              "            await google.colab.kernel.invokeFunction('convertToInteractive',\n",
              "                                                     [key], {});\n",
              "          if (!dataTable) return;\n",
              "\n",
              "          const docLinkHtml = 'Like what you see? Visit the ' +\n",
              "            '<a target=\"_blank\" href=https://colab.research.google.com/notebooks/data_table.ipynb>data table notebook</a>'\n",
              "            + ' to learn more about interactive tables.';\n",
              "          element.innerHTML = '';\n",
              "          dataTable['output_type'] = 'display_data';\n",
              "          await google.colab.output.renderOutput(dataTable, element);\n",
              "          const docLink = document.createElement('div');\n",
              "          docLink.innerHTML = docLinkHtml;\n",
              "          element.appendChild(docLink);\n",
              "        }\n",
              "      </script>\n",
              "    </div>\n",
              "  </div>\n",
              "  "
            ]
          },
          "metadata": {},
          "execution_count": 142
        }
      ],
      "source": [
        "groups_by_month = data.groupby(by=[data.index.month])\n",
        "groups_by_month.mean().head(1)"
      ]
    },
    {
      "cell_type": "markdown",
      "id": "d1c85939",
      "metadata": {
        "id": "d1c85939"
      },
      "source": [
        "### Step 12. Downsample the record to a yearly frequency for each location."
      ]
    },
    {
      "cell_type": "code",
      "execution_count": 144,
      "id": "9d68bbdb",
      "metadata": {
        "id": "9d68bbdb"
      },
      "outputs": [],
      "source": [
        "data_yearly = data.resample('Y').mean()"
      ]
    },
    {
      "cell_type": "markdown",
      "id": "5e051d90",
      "metadata": {
        "id": "5e051d90"
      },
      "source": [
        "### Step 13. Downsample the record to a monthly frequency for each location."
      ]
    },
    {
      "cell_type": "code",
      "execution_count": 147,
      "id": "0e63f4d5",
      "metadata": {
        "id": "0e63f4d5"
      },
      "outputs": [],
      "source": [
        "data_monthly = data.resample('M').mean()"
      ]
    },
    {
      "cell_type": "markdown",
      "id": "b63246a8",
      "metadata": {
        "id": "b63246a8"
      },
      "source": [
        "### Step 14. Downsample the record to a weekly frequency for each location."
      ]
    },
    {
      "cell_type": "code",
      "execution_count": 164,
      "id": "7bcf916b",
      "metadata": {
        "id": "7bcf916b"
      },
      "outputs": [],
      "source": [
        "data_weekly = data.resample('W').mean()"
      ]
    },
    {
      "cell_type": "markdown",
      "id": "13417df1",
      "metadata": {
        "id": "13417df1"
      },
      "source": [
        "### Step 15. Calculate the min, max and mean windspeeds and standard deviations of the windspeeds across all locations for each week (assume that the first week starts on January 2 1961) for the first 52 weeks."
      ]
    },
    {
      "cell_type": "code",
      "execution_count": 167,
      "id": "2af6b19a",
      "metadata": {
        "id": "2af6b19a"
      },
      "outputs": [],
      "source": [
        "data_from_2nd = data.iloc[1: , :]\n",
        "data_weekly_from_2nd = data_from_2nd.resample('W').mean()\n",
        "weekly_stats_52 = data_weekly_from_2nd.iloc[0:52, :].agg(['min', 'max', 'mean', 'std'], axis=1)"
      ]
    },
    {
      "cell_type": "markdown",
      "id": "2964d3ae",
      "metadata": {
        "id": "2964d3ae"
      },
      "source": [
        "## Section 7: Visualization"
      ]
    },
    {
      "cell_type": "markdown",
      "id": "b31f3d2a",
      "metadata": {
        "id": "b31f3d2a"
      },
      "source": [
        "### Introduction:\n",
        "\n",
        "This exercise is based on the titanic Disaster dataset avaiable at [Kaggle](https://www.kaggle.com/c/titanic).  \n",
        "To know more about the variables check [here](https://www.kaggle.com/c/titanic/data)\n",
        "\n",
        "\n",
        "### Step 1. Import the necessary libraries"
      ]
    },
    {
      "cell_type": "code",
      "execution_count": 209,
      "id": "af7f3be3",
      "metadata": {
        "id": "af7f3be3"
      },
      "outputs": [],
      "source": [
        "import pandas as pd\n",
        "import numpy as np"
      ]
    },
    {
      "cell_type": "markdown",
      "id": "27516d9f",
      "metadata": {
        "id": "27516d9f"
      },
      "source": [
        "### Step 2. Import the dataset from this [address](https://raw.githubusercontent.com/guipsamora/pandas_exercises/master/07_Visualization/Titanic_Desaster/train.csv)"
      ]
    },
    {
      "cell_type": "code",
      "source": [
        "url = 'https://raw.githubusercontent.com/guipsamora/pandas_exercises/master/07_Visualization/Titanic_Desaster/train.csv'"
      ],
      "metadata": {
        "id": "rY4R0d4HD7tL"
      },
      "id": "rY4R0d4HD7tL",
      "execution_count": 210,
      "outputs": []
    },
    {
      "cell_type": "markdown",
      "id": "cbffa305",
      "metadata": {
        "id": "cbffa305"
      },
      "source": [
        "### Step 3. Assign it to a variable titanic "
      ]
    },
    {
      "cell_type": "code",
      "execution_count": 211,
      "id": "8ee77fc2",
      "metadata": {
        "id": "8ee77fc2"
      },
      "outputs": [],
      "source": [
        "titanic = pd.read_csv(url, sep=',')"
      ]
    },
    {
      "cell_type": "markdown",
      "id": "cde83321",
      "metadata": {
        "id": "cde83321"
      },
      "source": [
        "### Step 4. Set PassengerId as the index "
      ]
    },
    {
      "cell_type": "code",
      "execution_count": 212,
      "id": "2688e8b8",
      "metadata": {
        "id": "2688e8b8"
      },
      "outputs": [],
      "source": [
        "titanic.set_index('PassengerId', inplace=True)"
      ]
    },
    {
      "cell_type": "markdown",
      "id": "8521c676",
      "metadata": {
        "id": "8521c676"
      },
      "source": [
        "### Step 5. Create a pie chart presenting the male/female proportion"
      ]
    },
    {
      "cell_type": "code",
      "execution_count": 213,
      "id": "8e733319",
      "metadata": {
        "id": "8e733319",
        "colab": {
          "base_uri": "https://localhost:8080/",
          "height": 265
        },
        "outputId": "1eef5d50-123d-42c8-9f7e-e374548dbfcd"
      },
      "outputs": [
        {
          "output_type": "execute_result",
          "data": {
            "text/plain": [
              "<matplotlib.axes._subplots.AxesSubplot at 0x7f247052b210>"
            ]
          },
          "metadata": {},
          "execution_count": 213
        },
        {
          "output_type": "display_data",
          "data": {
            "text/plain": [
              "<Figure size 432x288 with 1 Axes>"
            ],
            "image/png": "[encoded data removed]"
          },
          "metadata": {}
        }
      ],
      "source": [
        "groups_by_sex = titanic.groupby(['Sex']).count()\n",
        "groups_by_sex.plot(kind='pie', y='Embarked', autopct='%1.0f%%', ylabel='')"
      ]
    },
    {
      "cell_type": "markdown",
      "id": "649e4637",
      "metadata": {
        "id": "649e4637"
      },
      "source": [
        "### Step 6. Create a scatterplot with the Fare payed and the Age, differ the plot color by gender"
      ]
    },
    {
      "cell_type": "code",
      "execution_count": 218,
      "id": "92164732",
      "metadata": {
        "id": "92164732",
        "colab": {
          "base_uri": "https://localhost:8080/",
          "height": 296
        },
        "outputId": "1bd89527-69f7-4fbb-9576-3ea22964a7d7"
      },
      "outputs": [
        {
          "output_type": "execute_result",
          "data": {
            "text/plain": [
              "<matplotlib.axes._subplots.AxesSubplot at 0x7f246c697e90>"
            ]
          },
          "metadata": {},
          "execution_count": 218
        },
        {
          "output_type": "display_data",
          "data": {
            "text/plain": [
              "<Figure size 432x288 with 1 Axes>"
            ],
            "image/png": "[encoded data removed]"
          },
          "metadata": {
            "needs_background": "light"
          }
        }
      ],
      "source": [
        "clr = {'male':'orange', 'female':'blue'}\n",
        "titanic['Color'] = titanic['Sex'].apply(lambda x: clr[x])\n",
        "titanic.plot.scatter(x='Age', y='Fare', c='Color')"
      ]
    },
    {
      "cell_type": "markdown",
      "id": "1adedc10",
      "metadata": {
        "id": "1adedc10"
      },
      "source": [
        "### Step 7. How many people survived?"
      ]
    },
    {
      "cell_type": "code",
      "execution_count": 250,
      "id": "4abad8fb",
      "metadata": {
        "id": "4abad8fb",
        "colab": {
          "base_uri": "https://localhost:8080/"
        },
        "outputId": "386a791f-105c-4af2-825d-25b012a322ea"
      },
      "outputs": [
        {
          "output_type": "execute_result",
          "data": {
            "text/plain": [
              "0    8.05\n",
              "dtype: float64"
            ]
          },
          "metadata": {},
          "execution_count": 250
        }
      ],
      "source": [
        "titanic['Survived'].sum() # 342\n",
        "titanic['Fare'].mode()"
      ]
    },
    {
      "cell_type": "markdown",
      "id": "87dac705",
      "metadata": {
        "id": "87dac705"
      },
      "source": [
        "### Step 8. Create a histogram with the Fare payed"
      ]
    },
    {
      "cell_type": "code",
      "execution_count": 266,
      "id": "bc52c481",
      "metadata": {
        "id": "bc52c481",
        "colab": {
          "base_uri": "https://localhost:8080/",
          "height": 281
        },
        "outputId": "a201983d-61c8-47bd-b95f-cf5e709e5466"
      },
      "outputs": [
        {
          "output_type": "display_data",
          "data": {
            "text/plain": [
              "<Figure size 432x288 with 1 Axes>"
            ],
            "image/png": "[encoded data removed]"
          },
          "metadata": {
            "needs_background": "light"
          }
        }
      ],
      "source": [
        "hist_fare = titanic.hist(column='Fare', bins=50)"
      ]
    },
    {
      "cell_type": "markdown",
      "id": "d8dbfcaf",
      "metadata": {
        "id": "d8dbfcaf"
      },
      "source": [
        "### BONUS: Create your own question and answer it."
      ]
    },
    {
      "cell_type": "code",
      "execution_count": null,
      "id": "e13ab414",
      "metadata": {
        "id": "e13ab414"
      },
      "outputs": [],
      "source": [
        ""
      ]
    },
    {
      "cell_type": "markdown",
      "id": "448734a8",
      "metadata": {
        "collapsed": true,
        "id": "448734a8"
      },
      "source": [
        "## Section 8: Creating Series and DataFrames"
      ]
    },
    {
      "cell_type": "markdown",
      "id": "738a181a",
      "metadata": {
        "id": "738a181a"
      },
      "source": [
        "### Introduction:\n",
        "\n",
        "This time you will create the data.\n",
        "\n",
        "\n",
        "\n",
        "### Step 1. Import the necessary libraries"
      ]
    },
    {
      "cell_type": "code",
      "execution_count": 267,
      "id": "2c1b5c9c",
      "metadata": {
        "id": "2c1b5c9c"
      },
      "outputs": [],
      "source": [
        "import pandas as pd\n",
        "import numpy as np"
      ]
    },
    {
      "cell_type": "markdown",
      "id": "5bdbd7f3",
      "metadata": {
        "id": "5bdbd7f3"
      },
      "source": [
        "### Step 2. Create a data dictionary that looks like the DataFrame below"
      ]
    },
    {
      "cell_type": "code",
      "execution_count": 268,
      "id": "00bc7623",
      "metadata": {
        "collapsed": true,
        "id": "00bc7623"
      },
      "outputs": [],
      "source": [
        "data = {\n",
        "    'evolution' : ['Ivysaur', 'Charmeleon', 'Wartortle', 'Metapod'],\n",
        "    'hp' : [45, 39, 44, 45],\n",
        "    'name' : ['Bulbasaur', 'Charmander', 'Squirtle', 'Caterpie'],\n",
        "    'pokedex' : ['yes', 'no', 'yes', 'no'],\n",
        "    'type' : ['grass', 'fire', 'wated', 'bug']\n",
        "}"
      ]
    },
    {
      "cell_type": "markdown",
      "id": "5f4768bc",
      "metadata": {
        "id": "5f4768bc"
      },
      "source": [
        "### Step 3. Assign it to a variable called pokemon"
      ]
    },
    {
      "cell_type": "code",
      "execution_count": 287,
      "id": "20222f8f",
      "metadata": {
        "id": "20222f8f"
      },
      "outputs": [],
      "source": [
        "pokemon = pd.DataFrame(data)"
      ]
    },
    {
      "cell_type": "markdown",
      "id": "c9257b6d",
      "metadata": {
        "id": "c9257b6d"
      },
      "source": [
        "### Step 4. Ops...it seems the DataFrame columns are in alphabetical order. Place  the order of the columns as name, type, hp, evolution, pokedex"
      ]
    },
    {
      "cell_type": "code",
      "execution_count": 288,
      "id": "5a6b37f9",
      "metadata": {
        "id": "5a6b37f9"
      },
      "outputs": [],
      "source": [
        "pokemon = pokemon[['name', 'type', 'hp', 'evolution', 'pokedex']]"
      ]
    },
    {
      "cell_type": "markdown",
      "id": "9f2b0341",
      "metadata": {
        "id": "9f2b0341"
      },
      "source": [
        "### Step 5. Add another column called place, and insert what you have in mind."
      ]
    },
    {
      "cell_type": "code",
      "execution_count": 289,
      "id": "90c19f79",
      "metadata": {
        "id": "90c19f79"
      },
      "outputs": [],
      "source": [
        "pokemon['place'] = [3, 1, 2, 4]"
      ]
    },
    {
      "cell_type": "markdown",
      "id": "0f594dc0",
      "metadata": {
        "id": "0f594dc0"
      },
      "source": [
        "### Step 6. Present the type of each column"
      ]
    },
    {
      "cell_type": "code",
      "execution_count": 290,
      "id": "dfd80172",
      "metadata": {
        "id": "dfd80172",
        "colab": {
          "base_uri": "https://localhost:8080/"
        },
        "outputId": "acc5a954-adb9-4043-ca3e-e43700a1636b"
      },
      "outputs": [
        {
          "output_type": "stream",
          "name": "stdout",
          "text": [
            "<class 'pandas.core.frame.DataFrame'>\n",
            "RangeIndex: 4 entries, 0 to 3\n",
            "Data columns (total 6 columns):\n",
            " #   Column     Non-Null Count  Dtype \n",
            "---  ------     --------------  ----- \n",
            " 0   name       4 non-null      object\n",
            " 1   type       4 non-null      object\n",
            " 2   hp         4 non-null      int64 \n",
            " 3   evolution  4 non-null      object\n",
            " 4   pokedex    4 non-null      object\n",
            " 5   place      4 non-null      int64 \n",
            "dtypes: int64(2), object(4)\n",
            "memory usage: 320.0+ bytes\n"
          ]
        }
      ],
      "source": [
        "pokemon.info()"
      ]
    },
    {
      "cell_type": "markdown",
      "id": "58e6b8fa",
      "metadata": {
        "id": "58e6b8fa"
      },
      "source": [
        "### BONUS: Create your own question and answer it."
      ]
    },
    {
      "cell_type": "code",
      "execution_count": null,
      "id": "6a97fc28",
      "metadata": {
        "id": "6a97fc28"
      },
      "outputs": [],
      "source": [
        ""
      ]
    },
    {
      "cell_type": "markdown",
      "id": "010c5b0f",
      "metadata": {
        "collapsed": true,
        "id": "010c5b0f"
      },
      "source": [
        "## Section: 9 Time Series"
      ]
    },
    {
      "cell_type": "markdown",
      "id": "e3a0ed0d",
      "metadata": {
        "id": "e3a0ed0d"
      },
      "source": [
        "### Introduction:\n",
        "\n",
        "We are going to use Apple's stock price.\n",
        "\n",
        "\n",
        "### Step 1. Import the necessary libraries"
      ]
    },
    {
      "cell_type": "code",
      "execution_count": 2,
      "id": "d02fb709",
      "metadata": {
        "id": "d02fb709"
      },
      "outputs": [],
      "source": [
        "import pandas as pd\n",
        "import numpy as np"
      ]
    },
    {
      "cell_type": "markdown",
      "id": "52d58d8c",
      "metadata": {
        "id": "52d58d8c"
      },
      "source": [
        "### Step 2. Import the dataset from this [address](https://raw.githubusercontent.com/guipsamora/pandas_exercises/master/09_Time_Series/Apple_Stock/appl_1980_2014.csv)"
      ]
    },
    {
      "cell_type": "code",
      "execution_count": 3,
      "id": "50dd5dc5",
      "metadata": {
        "collapsed": true,
        "id": "50dd5dc5"
      },
      "outputs": [],
      "source": [
        "url = 'https://raw.githubusercontent.com/guipsamora/pandas_exercises/master/09_Time_Series/Apple_Stock/appl_1980_2014.csv'"
      ]
    },
    {
      "cell_type": "markdown",
      "id": "e4ac4bef",
      "metadata": {
        "id": "e4ac4bef"
      },
      "source": [
        "### Step 3. Assign it to a variable apple"
      ]
    },
    {
      "cell_type": "code",
      "execution_count": 4,
      "id": "9e1f55b9",
      "metadata": {
        "id": "9e1f55b9"
      },
      "outputs": [],
      "source": [
        "apple = pd.read_csv(url, sep=',')"
      ]
    },
    {
      "cell_type": "markdown",
      "id": "6f1765e1",
      "metadata": {
        "id": "6f1765e1"
      },
      "source": [
        "### Step 4.  Check out the type of the columns"
      ]
    },
    {
      "cell_type": "code",
      "execution_count": 5,
      "id": "fa9c07c8",
      "metadata": {
        "id": "fa9c07c8",
        "colab": {
          "base_uri": "https://localhost:8080/"
        },
        "outputId": "7bf2a3e2-7f60-4a1c-e541-6d66efd3000e"
      },
      "outputs": [
        {
          "output_type": "stream",
          "name": "stdout",
          "text": [
            "<class 'pandas.core.frame.DataFrame'>\n",
            "RangeIndex: 8465 entries, 0 to 8464\n",
            "Data columns (total 7 columns):\n",
            " #   Column     Non-Null Count  Dtype  \n",
            "---  ------     --------------  -----  \n",
            " 0   Date       8465 non-null   object \n",
            " 1   Open       8465 non-null   float64\n",
            " 2   High       8465 non-null   float64\n",
            " 3   Low        8465 non-null   float64\n",
            " 4   Close      8465 non-null   float64\n",
            " 5   Volume     8465 non-null   int64  \n",
            " 6   Adj Close  8465 non-null   float64\n",
            "dtypes: float64(5), int64(1), object(1)\n",
            "memory usage: 463.1+ KB\n"
          ]
        }
      ],
      "source": [
        "apple.info()"
      ]
    },
    {
      "cell_type": "markdown",
      "id": "dd76957d",
      "metadata": {
        "id": "dd76957d"
      },
      "source": [
        "### Step 5. Transform the Date column as a datetime type"
      ]
    },
    {
      "cell_type": "code",
      "execution_count": 6,
      "id": "2a5f2d68",
      "metadata": {
        "id": "2a5f2d68"
      },
      "outputs": [],
      "source": [
        "apple['Date'] = pd.to_datetime(apple['Date'])"
      ]
    },
    {
      "cell_type": "markdown",
      "id": "d637aead",
      "metadata": {
        "id": "d637aead"
      },
      "source": [
        "### Step 6.  Set the date as the index"
      ]
    },
    {
      "cell_type": "code",
      "execution_count": 7,
      "id": "235b98a5",
      "metadata": {
        "id": "235b98a5"
      },
      "outputs": [],
      "source": [
        "apple.set_index('Date', inplace=True)"
      ]
    },
    {
      "cell_type": "markdown",
      "id": "e92d4a7b",
      "metadata": {
        "id": "e92d4a7b"
      },
      "source": [
        "### Step 7.  Is there any duplicate dates?"
      ]
    },
    {
      "cell_type": "code",
      "execution_count": 10,
      "id": "a94454ad",
      "metadata": {
        "id": "a94454ad",
        "colab": {
          "base_uri": "https://localhost:8080/"
        },
        "outputId": "2b839a2e-c7a2-495c-a258-fef43badee97"
      },
      "outputs": [
        {
          "output_type": "stream",
          "name": "stdout",
          "text": [
            "No\n"
          ]
        }
      ],
      "source": [
        "if True in apple.index.duplicated(keep=False):\n",
        "  print('Yes')\n",
        "else:\n",
        "  print('No')"
      ]
    },
    {
      "cell_type": "markdown",
      "id": "0066ff8e",
      "metadata": {
        "id": "0066ff8e"
      },
      "source": [
        "### Step 8.  Ops...it seems the index is from the most recent date. Make the first entry the oldest date."
      ]
    },
    {
      "cell_type": "code",
      "execution_count": 17,
      "id": "6ed4a7da",
      "metadata": {
        "id": "6ed4a7da"
      },
      "outputs": [],
      "source": [
        "apple.sort_index(ascending=True, inplace=True)"
      ]
    },
    {
      "cell_type": "markdown",
      "id": "a13a11f8",
      "metadata": {
        "id": "a13a11f8"
      },
      "source": [
        "### Step 9. Get the last business day of each month"
      ]
    },
    {
      "cell_type": "code",
      "execution_count": 35,
      "id": "8e9ed699",
      "metadata": {
        "id": "8e9ed699"
      },
      "outputs": [],
      "source": [
        "bd_series = pd.date_range(start='1980-12-12', end='2014-07-08', freq='BM')\n",
        "bd_df = pd.DataFrame(bd_series, columns=['Date'])\n",
        "last_bd_apple = pd.merge(apple, bd_df, left_on=\"Date\", right_on=\"Date\")"
      ]
    },
    {
      "cell_type": "markdown",
      "id": "e2451020",
      "metadata": {
        "id": "e2451020"
      },
      "source": [
        "### Step 10.  What is the difference in days between the first day and the oldest"
      ]
    },
    {
      "cell_type": "code",
      "execution_count": 41,
      "id": "026edead",
      "metadata": {
        "id": "026edead",
        "colab": {
          "base_uri": "https://localhost:8080/"
        },
        "outputId": "131a2024-a999-4a71-ab5c-c98f7b82b80b"
      },
      "outputs": [
        {
          "output_type": "execute_result",
          "data": {
            "text/plain": [
              "Timedelta('12261 days 00:00:00')"
            ]
          },
          "metadata": {},
          "execution_count": 41
        }
      ],
      "source": [
        "apple.index[-1] - apple.index[0] # 12261 days"
      ]
    },
    {
      "cell_type": "markdown",
      "id": "8cd014a7",
      "metadata": {
        "id": "8cd014a7"
      },
      "source": [
        "### Step 11.  How many months in the data we have?"
      ]
    },
    {
      "cell_type": "code",
      "execution_count": 45,
      "id": "6bca3e15",
      "metadata": {
        "id": "6bca3e15",
        "colab": {
          "base_uri": "https://localhost:8080/"
        },
        "outputId": "22abd1d0-0bf6-46cf-fe79-99f1cb76ae3e"
      },
      "outputs": [
        {
          "output_type": "execute_result",
          "data": {
            "text/plain": [
              "<403 * MonthEnds>"
            ]
          },
          "metadata": {},
          "execution_count": 45
        }
      ],
      "source": [
        "apple.index[-1].to_period('M') - apple.index[0].to_period('M') # 403"
      ]
    },
    {
      "cell_type": "markdown",
      "id": "cfeb4420",
      "metadata": {
        "id": "cfeb4420"
      },
      "source": [
        "### Step 12. Plot the 'Adj Close' value. Set the size of the figure to 13.5 x 9 inches"
      ]
    },
    {
      "cell_type": "code",
      "execution_count": 47,
      "id": "da000518",
      "metadata": {
        "id": "da000518",
        "colab": {
          "base_uri": "https://localhost:8080/",
          "height": 531
        },
        "outputId": "433da19c-95a1-4dc7-8bf0-9c291b244117"
      },
      "outputs": [
        {
          "output_type": "execute_result",
          "data": {
            "text/plain": [
              "<matplotlib.axes._subplots.AxesSubplot at 0x7fbc12bf84d0>"
            ]
          },
          "metadata": {},
          "execution_count": 47
        },
        {
          "output_type": "display_data",
          "data": {
            "text/plain": [
              "<Figure size 972x648 with 1 Axes>"
            ],
            "image/png": "[encoded data removed]"
          },
          "metadata": {
            "needs_background": "light"
          }
        }
      ],
      "source": [
        "apple['Adj Close'].plot(figsize=(13.5,9))"
      ]
    },
    {
      "cell_type": "markdown",
      "id": "cfb95842",
      "metadata": {
        "id": "cfb95842"
      },
      "source": [
        "## Section 10: Deleting"
      ]
    },
    {
      "cell_type": "markdown",
      "id": "62720a79",
      "metadata": {
        "id": "62720a79"
      },
      "source": [
        "### Introduction:\n",
        "\n",
        "This exercise is a adaptation from the UCI Wine dataset.\n",
        "The only pupose is to practice deleting data with pandas.\n",
        "\n",
        "### Step 1. Import the necessary libraries"
      ]
    },
    {
      "cell_type": "code",
      "execution_count": null,
      "id": "31518cc9",
      "metadata": {
        "id": "31518cc9"
      },
      "outputs": [],
      "source": [
        ""
      ]
    },
    {
      "cell_type": "markdown",
      "id": "564bb9ac",
      "metadata": {
        "id": "564bb9ac"
      },
      "source": [
        "### Step 2. Import the dataset from this [address](https://archive.ics.uci.edu/ml/machine-learning-databases/wine/wine.data). "
      ]
    },
    {
      "cell_type": "markdown",
      "id": "1f1f95a2",
      "metadata": {
        "id": "1f1f95a2"
      },
      "source": [
        "### Step 3. Assign it to a variable called wine"
      ]
    },
    {
      "cell_type": "code",
      "execution_count": null,
      "id": "4e130c72",
      "metadata": {
        "id": "4e130c72"
      },
      "outputs": [],
      "source": [
        ""
      ]
    },
    {
      "cell_type": "markdown",
      "id": "0c41d696",
      "metadata": {
        "id": "0c41d696"
      },
      "source": [
        "### Step 4. Delete the first, fourth, seventh, nineth, eleventh, thirteenth and fourteenth columns"
      ]
    },
    {
      "cell_type": "code",
      "execution_count": null,
      "id": "da66b0f2",
      "metadata": {
        "id": "da66b0f2"
      },
      "outputs": [],
      "source": [
        ""
      ]
    },
    {
      "cell_type": "markdown",
      "id": "c5a0fe9a",
      "metadata": {
        "id": "c5a0fe9a"
      },
      "source": [
        "### Step 5. Assign the columns as below:\n",
        "\n",
        "The attributes are (donated by Riccardo Leardi, riclea '@' anchem.unige.it):  \n",
        "1) alcohol  \n",
        "2) malic_acid  \n",
        "3) alcalinity_of_ash  \n",
        "4) magnesium  \n",
        "5) flavanoids  \n",
        "6) proanthocyanins  \n",
        "7) hue "
      ]
    },
    {
      "cell_type": "code",
      "execution_count": null,
      "id": "ce18c3cd",
      "metadata": {
        "id": "ce18c3cd"
      },
      "outputs": [],
      "source": [
        ""
      ]
    },
    {
      "cell_type": "markdown",
      "id": "94b22358",
      "metadata": {
        "id": "94b22358"
      },
      "source": [
        "### Step 6. Set the values of the first 3 rows from alcohol as NaN"
      ]
    },
    {
      "cell_type": "code",
      "execution_count": null,
      "id": "6dacd432",
      "metadata": {
        "id": "6dacd432"
      },
      "outputs": [],
      "source": [
        ""
      ]
    },
    {
      "cell_type": "markdown",
      "id": "2449e0ac",
      "metadata": {
        "id": "2449e0ac"
      },
      "source": [
        "### Step 7. Now set the value of the rows 3 and 4 of magnesium as NaN"
      ]
    },
    {
      "cell_type": "code",
      "execution_count": null,
      "id": "8e659f67",
      "metadata": {
        "id": "8e659f67"
      },
      "outputs": [],
      "source": [
        ""
      ]
    },
    {
      "cell_type": "markdown",
      "id": "135f1b41",
      "metadata": {
        "id": "135f1b41"
      },
      "source": [
        "### Step 8. Fill the value of NaN with the number 10 in alcohol and 100 in magnesium"
      ]
    },
    {
      "cell_type": "code",
      "execution_count": null,
      "id": "bdb57870",
      "metadata": {
        "id": "bdb57870"
      },
      "outputs": [],
      "source": [
        ""
      ]
    },
    {
      "cell_type": "markdown",
      "id": "5b07a6f4",
      "metadata": {
        "id": "5b07a6f4"
      },
      "source": [
        "### Step 9. Count the number of missing values"
      ]
    },
    {
      "cell_type": "code",
      "execution_count": null,
      "id": "b8f9f565",
      "metadata": {
        "id": "b8f9f565"
      },
      "outputs": [],
      "source": [
        ""
      ]
    },
    {
      "cell_type": "markdown",
      "id": "e41bc334",
      "metadata": {
        "id": "e41bc334"
      },
      "source": [
        "### Step 10.  Create an array of 10 random numbers up until 10"
      ]
    },
    {
      "cell_type": "code",
      "execution_count": null,
      "id": "437d0084",
      "metadata": {
        "id": "437d0084"
      },
      "outputs": [],
      "source": [
        ""
      ]
    },
    {
      "cell_type": "markdown",
      "id": "498e2cad",
      "metadata": {
        "id": "498e2cad"
      },
      "source": [
        "### Step 11.  Use random numbers you generated as an index and assign NaN value to each of cell."
      ]
    },
    {
      "cell_type": "code",
      "execution_count": null,
      "id": "cd1ba6ef",
      "metadata": {
        "id": "cd1ba6ef"
      },
      "outputs": [],
      "source": [
        ""
      ]
    },
    {
      "cell_type": "markdown",
      "id": "ae9adea8",
      "metadata": {
        "id": "ae9adea8"
      },
      "source": [
        "### Step 12.  How many missing values do we have?"
      ]
    },
    {
      "cell_type": "code",
      "execution_count": null,
      "id": "5bfe2ca7",
      "metadata": {
        "id": "5bfe2ca7"
      },
      "outputs": [],
      "source": [
        ""
      ]
    },
    {
      "cell_type": "markdown",
      "id": "e1930d56",
      "metadata": {
        "id": "e1930d56"
      },
      "source": [
        "### Step 13. Delete the rows that contain missing values"
      ]
    },
    {
      "cell_type": "code",
      "execution_count": null,
      "id": "c3458689",
      "metadata": {
        "id": "c3458689"
      },
      "outputs": [],
      "source": [
        ""
      ]
    },
    {
      "cell_type": "markdown",
      "id": "0730ca32",
      "metadata": {
        "id": "0730ca32"
      },
      "source": [
        "### Step 14. Print only the non-null values in alcohol"
      ]
    },
    {
      "cell_type": "code",
      "execution_count": null,
      "id": "71e0aa4d",
      "metadata": {
        "id": "71e0aa4d"
      },
      "outputs": [],
      "source": [
        ""
      ]
    },
    {
      "cell_type": "markdown",
      "id": "1d3b99c6",
      "metadata": {
        "id": "1d3b99c6"
      },
      "source": [
        "### Step 15.  Reset the index, so it starts with 0 again"
      ]
    },
    {
      "cell_type": "code",
      "execution_count": null,
      "id": "4b240c6a",
      "metadata": {
        "id": "4b240c6a"
      },
      "outputs": [],
      "source": [
        ""
      ]
    }
  ],
  "metadata": {
    "kernelspec": {
      "display_name": "Python 3 (ipykernel)",
      "language": "python",
      "name": "python3"
    },
    "language_info": {
      "codemirror_mode": {
        "name": "ipython",
        "version": 3
      },
      "file_extension": ".py",
      "mimetype": "text/x-python",
      "name": "python",
      "nbconvert_exporter": "python",
      "pygments_lexer": "ipython3",
      "version": "3.9.6"
    },
    "colab": {
      "name": "PP3_Pandas.ipynb",
      "provenance": [],
      "include_colab_link": true
    }
  },
  "nbformat": 4,
  "nbformat_minor": 5
}